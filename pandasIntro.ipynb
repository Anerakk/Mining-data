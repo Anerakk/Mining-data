{
  "nbformat": 4,
  "nbformat_minor": 0,
  "metadata": {
    "anaconda-cloud": {},
    "kernelspec": {
      "display_name": "Python 3",
      "language": "python",
      "name": "python3"
    },
    "language_info": {
      "codemirror_mode": {
        "name": "ipython",
        "version": 3
      },
      "file_extension": ".py",
      "mimetype": "text/x-python",
      "name": "python",
      "nbconvert_exporter": "python",
      "pygments_lexer": "ipython3",
      "version": "3.8.3"
    },
    "colab": {
      "name": "pandasIntro.ipynb",
      "provenance": [],
      "collapsed_sections": [
        "6xF_W_GoYixR",
        "IVZ2reYmYixi",
        "iVFXIq-nYixm",
        "LjZ2SMNCYixn"
      ],
      "include_colab_link": true
    }
  },
  "cells": [
    {
      "cell_type": "markdown",
      "metadata": {
        "id": "view-in-github",
        "colab_type": "text"
      },
      "source": [
        "<a href=\"https://colab.research.google.com/github/Anerakk/Mining-data/blob/main/pandasIntro.ipynb\" target=\"_parent\"><img src=\"https://colab.research.google.com/assets/colab-badge.svg\" alt=\"Open In Colab\"/></a>"
      ]
    },
    {
      "cell_type": "markdown",
      "metadata": {
        "id": "8WU97sibYiw8"
      },
      "source": [
        "# Intro to Pandas\n",
        "![](https://raw.githubusercontent.com/zacharski/ml-class/master/labs/pics/Pandas_logo.svg)\n",
        "\n",
        "(logo by [Marc Garcia](https://github.com/pandas-dev/pandas/blob/master/web/pandas/static/img/pandas.svg))\n",
        "\n",
        "The Pandas Library is built on top of Numpy and is designed to make working with data fast and easy. Like Numpy, the library includes data structures and functions to manipulate that data.\n",
        "\n",
        "As we learned in the Numpy Notebook, we need to load in the library before we can use it."
      ]
    },
    {
      "cell_type": "code",
      "metadata": {
        "id": "35Ke2PloYiw-"
      },
      "source": [
        "from pandas import Series, DataFrame\n",
        "import numpy as np\n",
        "import pandas as pd"
      ],
      "execution_count": 2,
      "outputs": []
    },
    {
      "cell_type": "markdown",
      "metadata": {
        "id": "axGOlXBOYixA"
      },
      "source": [
        "Let's dissect the code above.\n",
        "\n",
        "The `Series` and `DataFrame` datatypes are commonly used so we import them directly with\n",
        "\n",
        "```\n",
        "from pandas import Series, DataFrame\n",
        "```\n",
        "\n",
        "For all other datatypes and functions in the library the `pd` prefix is commonly used so we import that with\n",
        "\n",
        "```\n",
        "import pandas as pd\n",
        "```\n",
        "\n",
        "## Series\n",
        "A series is a 1d array-like object\n",
        "\n",
        "Let's consider the heights (in cm) of Japan's Women's Basketball Team at the 2016 Olympics.      \n",
        "\n",
        "We can create a series in a number of ways.\n",
        "\n",
        "##### directly from a Python list"
      ]
    },
    {
      "cell_type": "code",
      "metadata": {
        "id": "xkniPO-rYixA"
      },
      "source": [
        "japan = [173, 182, 185, 176, 183, 165, 191, 177, 165, 161, 175, 189]\n",
        "athletesHeight = Series(japan)"
      ],
      "execution_count": 3,
      "outputs": []
    },
    {
      "cell_type": "markdown",
      "metadata": {
        "id": "CY6PCjWlYixB"
      },
      "source": [
        "We could also have done"
      ]
    },
    {
      "cell_type": "code",
      "metadata": {
        "id": "0yel9SMUYixB"
      },
      "source": [
        "athletesHeight = Series([173, 182, 185, 176, 183, 165, 191, 177, 165, 161, 175, 189])"
      ],
      "execution_count": 4,
      "outputs": []
    },
    {
      "cell_type": "markdown",
      "metadata": {
        "id": "2O3GsMwOYixC"
      },
      "source": [
        "In either case we can see the value of the Series athletesHeight"
      ]
    },
    {
      "cell_type": "code",
      "metadata": {
        "id": "tqIK9zxzYixC",
        "colab": {
          "base_uri": "https://localhost:8080/"
        },
        "outputId": "c43d308a-bea1-46ee-c6b7-da450ef45902"
      },
      "source": [
        " athletesHeight"
      ],
      "execution_count": 5,
      "outputs": [
        {
          "output_type": "execute_result",
          "data": {
            "text/plain": [
              "0     173\n",
              "1     182\n",
              "2     185\n",
              "3     176\n",
              "4     183\n",
              "5     165\n",
              "6     191\n",
              "7     177\n",
              "8     165\n",
              "9     161\n",
              "10    175\n",
              "11    189\n",
              "dtype: int64"
            ]
          },
          "metadata": {
            "tags": []
          },
          "execution_count": 5
        }
      ]
    },
    {
      "cell_type": "markdown",
      "metadata": {
        "id": "O0LMc6gZYixD"
      },
      "source": [
        "As like arrays you are familiar with, the left number is the index and the right the value. And we can find the value at a particular index by the usual:"
      ]
    },
    {
      "cell_type": "code",
      "metadata": {
        "id": "VMHuuRFdYixE",
        "colab": {
          "base_uri": "https://localhost:8080/"
        },
        "outputId": "099762b9-628f-40eb-8b07-9aa8cf75ca08"
      },
      "source": [
        "athletesHeight[3]"
      ],
      "execution_count": 6,
      "outputs": [
        {
          "output_type": "execute_result",
          "data": {
            "text/plain": [
              "176"
            ]
          },
          "metadata": {
            "tags": []
          },
          "execution_count": 6
        }
      ]
    },
    {
      "cell_type": "markdown",
      "metadata": {
        "collapsed": true,
        "id": "oL9ap9ViYixE"
      },
      "source": [
        "#### specifying indices\n",
        "Instead of the index 0, 1, 2, 3 ... you can specify your own index values. For example, we can label them 'Aiko'. 'Ayumi', \"Fujiko\" ... etc. "
      ]
    },
    {
      "cell_type": "code",
      "metadata": {
        "id": "f_mQAEa4YixF",
        "colab": {
          "base_uri": "https://localhost:8080/"
        },
        "outputId": "1e261310-cfc1-46dd-8c08-cb5ac9e5be15"
      },
      "source": [
        "athletes2 = Series(japan, index = ['Aiko', 'Ayumi', 'Fujiko', 'Hiroko', 'Itsumi', 'Junko', 'Kanae','Kotori', 'Mieko', 'Momoko', 'Nao', 'Rei'])\n",
        "athletes2"
      ],
      "execution_count": 7,
      "outputs": [
        {
          "output_type": "execute_result",
          "data": {
            "text/plain": [
              "Aiko      173\n",
              "Ayumi     182\n",
              "Fujiko    185\n",
              "Hiroko    176\n",
              "Itsumi    183\n",
              "Junko     165\n",
              "Kanae     191\n",
              "Kotori    177\n",
              "Mieko     165\n",
              "Momoko    161\n",
              "Nao       175\n",
              "Rei       189\n",
              "dtype: int64"
            ]
          },
          "metadata": {
            "tags": []
          },
          "execution_count": 7
        }
      ]
    },
    {
      "cell_type": "markdown",
      "metadata": {
        "id": "pBtvLitSYixF"
      },
      "source": [
        "The names we see are not another column of the data. We can see the shape of athletes2 by:"
      ]
    },
    {
      "cell_type": "code",
      "metadata": {
        "id": "RR9kKs4XYixG",
        "colab": {
          "base_uri": "https://localhost:8080/"
        },
        "outputId": "54917060-bc4e-4b67-ed80-d96fa24bb3a7"
      },
      "source": [
        "athletes2.shape"
      ],
      "execution_count": 8,
      "outputs": [
        {
          "output_type": "execute_result",
          "data": {
            "text/plain": [
              "(12,)"
            ]
          },
          "metadata": {
            "tags": []
          },
          "execution_count": 8
        }
      ]
    },
    {
      "cell_type": "markdown",
      "metadata": {
        "id": "rdVotyvQYixG"
      },
      "source": [
        "This shows that athletes2 is a one dimensional matrix and that dimension has a length of 12. So the names we see are not values in a column but rather the indices.\n",
        "\n",
        "\n",
        "Let's use the index to get the Height of Junko:"
      ]
    },
    {
      "cell_type": "code",
      "metadata": {
        "id": "OA8GG9yaYixH",
        "colab": {
          "base_uri": "https://localhost:8080/"
        },
        "outputId": "32be8841-f69f-4877-f1fd-de122fdee9dd"
      },
      "source": [
        "athletes2['Junko']"
      ],
      "execution_count": 9,
      "outputs": [
        {
          "output_type": "execute_result",
          "data": {
            "text/plain": [
              "165"
            ]
          },
          "metadata": {
            "tags": []
          },
          "execution_count": 9
        }
      ]
    },
    {
      "cell_type": "markdown",
      "metadata": {
        "id": "PYDY1KrlYixH"
      },
      "source": [
        "How would you get the height of Nao?\n"
      ]
    },
    {
      "cell_type": "code",
      "metadata": {
        "id": "HkCCAQugYixH",
        "colab": {
          "base_uri": "https://localhost:8080/"
        },
        "outputId": "da66b51e-3d33-4e6d-8b2d-c7d331d3f633"
      },
      "source": [
        "athletes2['Nao']"
      ],
      "execution_count": 10,
      "outputs": [
        {
          "output_type": "execute_result",
          "data": {
            "text/plain": [
              "175"
            ]
          },
          "metadata": {
            "tags": []
          },
          "execution_count": 10
        }
      ]
    },
    {
      "cell_type": "markdown",
      "metadata": {
        "id": "ELG0g3EzYixI"
      },
      "source": [
        "\n",
        "## DataFrame\n",
        "DataFrames are the most important data structure of Pandas and are simply\n",
        "a table or spreadsheet like structure.  A DataFrame represents a table like:\n",
        "\n",
        "make | mpg | cylinders | HP | 0-60 \n",
        ":---- | :---: | :---: | :---: | :---: \n",
        "Fiat | 38 | 4 | 157   | 6.9 \n",
        "Ford F150 | 19 | 6 | 386 | 6.3 \n",
        "Mazda 3 | 37 | 4 | 155 |  7.5 \n",
        "Ford Escape | 27 | 4 | 245 | 7.1 \n",
        "Kia Soul | 31 | 4 | 164 | 8.5 \n",
        "\n",
        "A common way to create a DataFrame is to use a python dictionary as follows:"
      ]
    },
    {
      "cell_type": "code",
      "metadata": {
        "id": "-Vi6tjK3YixI"
      },
      "source": [
        "cars = {'make': ['Fiat 500', 'Ford F-150', 'Mazda 3', 'Ford Escape', 'Kia Soul'],\n",
        "        'mpg': [38, 19, 37, 27, 31],\n",
        "        'cylinders': [4, 6, 4, 4, 4],\n",
        "        'HP': [157, 386, 155, 245, 164],\n",
        "        '0-60': [6.9, 6.3, 7.5, 7.1, 8.5]}\n"
      ],
      "execution_count": 11,
      "outputs": []
    },
    {
      "cell_type": "markdown",
      "metadata": {
        "id": "ly3Oa-YyYixJ"
      },
      "source": [
        "Just to check that you are paying attention, what is the code to show the MPG of a Ford F-150? (so `cars['make'][3]` will print out something, what will print out the MPG of a Ford F-150?"
      ]
    },
    {
      "cell_type": "code",
      "metadata": {
        "id": "-48jxgDmYixJ",
        "colab": {
          "base_uri": "https://localhost:8080/"
        },
        "outputId": "7f48c170-e608-4029-cd08-3e4a4f94d5d7"
      },
      "source": [
        "cars['mpg'][1]"
      ],
      "execution_count": 16,
      "outputs": [
        {
          "output_type": "execute_result",
          "data": {
            "text/plain": [
              "19"
            ]
          },
          "metadata": {
            "tags": []
          },
          "execution_count": 16
        }
      ]
    },
    {
      "cell_type": "markdown",
      "metadata": {
        "id": "fzg5BUbvYixJ"
      },
      "source": [
        "and now we will create a DataFrame from the `cars` Python dictionary:"
      ]
    },
    {
      "cell_type": "code",
      "metadata": {
        "id": "0Nwzp3FkYixK",
        "colab": {
          "base_uri": "https://localhost:8080/",
          "height": 204
        },
        "outputId": "bdd29ede-7b9d-40ba-cf57-f1652e116cc0"
      },
      "source": [
        "df = DataFrame(cars)\n",
        "df\n"
      ],
      "execution_count": 17,
      "outputs": [
        {
          "output_type": "execute_result",
          "data": {
            "text/html": [
              "<div>\n",
              "<style scoped>\n",
              "    .dataframe tbody tr th:only-of-type {\n",
              "        vertical-align: middle;\n",
              "    }\n",
              "\n",
              "    .dataframe tbody tr th {\n",
              "        vertical-align: top;\n",
              "    }\n",
              "\n",
              "    .dataframe thead th {\n",
              "        text-align: right;\n",
              "    }\n",
              "</style>\n",
              "<table border=\"1\" class=\"dataframe\">\n",
              "  <thead>\n",
              "    <tr style=\"text-align: right;\">\n",
              "      <th></th>\n",
              "      <th>make</th>\n",
              "      <th>mpg</th>\n",
              "      <th>cylinders</th>\n",
              "      <th>HP</th>\n",
              "      <th>0-60</th>\n",
              "    </tr>\n",
              "  </thead>\n",
              "  <tbody>\n",
              "    <tr>\n",
              "      <th>0</th>\n",
              "      <td>Fiat 500</td>\n",
              "      <td>38</td>\n",
              "      <td>4</td>\n",
              "      <td>157</td>\n",
              "      <td>6.9</td>\n",
              "    </tr>\n",
              "    <tr>\n",
              "      <th>1</th>\n",
              "      <td>Ford F-150</td>\n",
              "      <td>19</td>\n",
              "      <td>6</td>\n",
              "      <td>386</td>\n",
              "      <td>6.3</td>\n",
              "    </tr>\n",
              "    <tr>\n",
              "      <th>2</th>\n",
              "      <td>Mazda 3</td>\n",
              "      <td>37</td>\n",
              "      <td>4</td>\n",
              "      <td>155</td>\n",
              "      <td>7.5</td>\n",
              "    </tr>\n",
              "    <tr>\n",
              "      <th>3</th>\n",
              "      <td>Ford Escape</td>\n",
              "      <td>27</td>\n",
              "      <td>4</td>\n",
              "      <td>245</td>\n",
              "      <td>7.1</td>\n",
              "    </tr>\n",
              "    <tr>\n",
              "      <th>4</th>\n",
              "      <td>Kia Soul</td>\n",
              "      <td>31</td>\n",
              "      <td>4</td>\n",
              "      <td>164</td>\n",
              "      <td>8.5</td>\n",
              "    </tr>\n",
              "  </tbody>\n",
              "</table>\n",
              "</div>"
            ],
            "text/plain": [
              "          make  mpg  cylinders   HP  0-60\n",
              "0     Fiat 500   38          4  157   6.9\n",
              "1   Ford F-150   19          6  386   6.3\n",
              "2      Mazda 3   37          4  155   7.5\n",
              "3  Ford Escape   27          4  245   7.1\n",
              "4     Kia Soul   31          4  164   8.5"
            ]
          },
          "metadata": {
            "tags": []
          },
          "execution_count": 17
        }
      ]
    },
    {
      "cell_type": "markdown",
      "metadata": {
        "id": "EbRRLk9iYixL"
      },
      "source": [
        "Prior to my life with Pandas, I would represent a table like the above one as:"
      ]
    },
    {
      "cell_type": "code",
      "metadata": {
        "id": "RaZzNFnBYixL",
        "outputId": "8ab56baf-e930-4270-8f9a-09aa3c5a73e8"
      },
      "source": [
        "prePandas = [{'make': 'Fiat', 'mpg': 38, 'cylinders': 4, 'HP': 157, '0-60': 6.9},\n",
        "            {'make': 'Ford F-150', 'mpg': 19, 'cylinders': 6, 'HP': 386, '0-60': 6.3},\n",
        "            {'make': 'Mazda 3', 'mpg': 37, 'cylinders': 4, 'HP': 155, '0-60': 7.5},\n",
        "            {'make': 'Ford Escape', 'mpg': 27, 'cylinders': 4, 'HP': 245, '0-60': 7.1},\n",
        "            {'make': 'Kia Soul', 'mpg': 31, 'cylinders': 4, 'HP': 164, '0-60':8.5}]\n",
        "\n",
        "prePandas[0]['make']"
      ],
      "execution_count": null,
      "outputs": [
        {
          "output_type": "execute_result",
          "data": {
            "text/plain": [
              "'Fiat'"
            ]
          },
          "metadata": {
            "tags": []
          },
          "execution_count": 11
        }
      ]
    },
    {
      "cell_type": "markdown",
      "metadata": {
        "id": "MMvCDdnQYixM"
      },
      "source": [
        "In the prePandas scheme the data is organized first by rows. That seemed logical to me since each row represents an object and is how we organize data in an SQL database. In the Pandas representation the data is organized by columns. \n",
        "\n",
        "Perhaps you noticed that the columns are displayed in alphabetically sorted order. If we want to specify a column order we can do so:\n",
        "\n",
        "\n"
      ]
    },
    {
      "cell_type": "code",
      "metadata": {
        "id": "DREJ5YqeYixM",
        "colab": {
          "base_uri": "https://localhost:8080/",
          "height": 204
        },
        "outputId": "f79f1c20-59de-41bf-fb8a-5223ff0f249b"
      },
      "source": [
        "df2 = DataFrame(cars, columns=['make', 'mpg', 'cylinders', 'HP', '0-60' ])\n",
        "df2"
      ],
      "execution_count": 18,
      "outputs": [
        {
          "output_type": "execute_result",
          "data": {
            "text/html": [
              "<div>\n",
              "<style scoped>\n",
              "    .dataframe tbody tr th:only-of-type {\n",
              "        vertical-align: middle;\n",
              "    }\n",
              "\n",
              "    .dataframe tbody tr th {\n",
              "        vertical-align: top;\n",
              "    }\n",
              "\n",
              "    .dataframe thead th {\n",
              "        text-align: right;\n",
              "    }\n",
              "</style>\n",
              "<table border=\"1\" class=\"dataframe\">\n",
              "  <thead>\n",
              "    <tr style=\"text-align: right;\">\n",
              "      <th></th>\n",
              "      <th>make</th>\n",
              "      <th>mpg</th>\n",
              "      <th>cylinders</th>\n",
              "      <th>HP</th>\n",
              "      <th>0-60</th>\n",
              "    </tr>\n",
              "  </thead>\n",
              "  <tbody>\n",
              "    <tr>\n",
              "      <th>0</th>\n",
              "      <td>Fiat 500</td>\n",
              "      <td>38</td>\n",
              "      <td>4</td>\n",
              "      <td>157</td>\n",
              "      <td>6.9</td>\n",
              "    </tr>\n",
              "    <tr>\n",
              "      <th>1</th>\n",
              "      <td>Ford F-150</td>\n",
              "      <td>19</td>\n",
              "      <td>6</td>\n",
              "      <td>386</td>\n",
              "      <td>6.3</td>\n",
              "    </tr>\n",
              "    <tr>\n",
              "      <th>2</th>\n",
              "      <td>Mazda 3</td>\n",
              "      <td>37</td>\n",
              "      <td>4</td>\n",
              "      <td>155</td>\n",
              "      <td>7.5</td>\n",
              "    </tr>\n",
              "    <tr>\n",
              "      <th>3</th>\n",
              "      <td>Ford Escape</td>\n",
              "      <td>27</td>\n",
              "      <td>4</td>\n",
              "      <td>245</td>\n",
              "      <td>7.1</td>\n",
              "    </tr>\n",
              "    <tr>\n",
              "      <th>4</th>\n",
              "      <td>Kia Soul</td>\n",
              "      <td>31</td>\n",
              "      <td>4</td>\n",
              "      <td>164</td>\n",
              "      <td>8.5</td>\n",
              "    </tr>\n",
              "  </tbody>\n",
              "</table>\n",
              "</div>"
            ],
            "text/plain": [
              "          make  mpg  cylinders   HP  0-60\n",
              "0     Fiat 500   38          4  157   6.9\n",
              "1   Ford F-150   19          6  386   6.3\n",
              "2      Mazda 3   37          4  155   7.5\n",
              "3  Ford Escape   27          4  245   7.1\n",
              "4     Kia Soul   31          4  164   8.5"
            ]
          },
          "metadata": {
            "tags": []
          },
          "execution_count": 18
        }
      ]
    },
    {
      "cell_type": "markdown",
      "metadata": {
        "id": "gBio-LsMYixM"
      },
      "source": [
        "We can also create a DataFrame from a set of Series objects:"
      ]
    },
    {
      "cell_type": "code",
      "metadata": {
        "id": "wqAUdhQYYixN"
      },
      "source": [
        "cars2 = {'make': Series(['Fiat 500', 'Ford F-150', 'Mazda 3', 'Ford Escape', 'Kia Soul']),\n",
        "        'mpg': Series([38, 19, 37, 27, 31]),\n",
        "        'cylinders': Series([4, 6, 4, 4, 4]),\n",
        "        'HP': [157, 386, 155, 245, 164],\n",
        "        '0-60': Series([6.9, 6.3, 7.5, 7.1, 8.5])}\n",
        "        \n",
        "df3 = DataFrame(cars2)\n"
      ],
      "execution_count": 20,
      "outputs": []
    },
    {
      "cell_type": "markdown",
      "metadata": {
        "id": "LFdxIDbnYixN"
      },
      "source": [
        "<h3 style=\"color:red\">Q1. You Try</h3>\n",
        "<span style=\"color:red\">Make a DataFrame representing the data in the following table:</span>\n",
        "\n",
        "Athlete | Sport | Height | Weight \n",
        "----: | :---: | :---: | :---:\n",
        "Aly Raisman |\tGymnastics | \t62 | 115\n",
        "Crystal Langhorne |\tBasketball |\t74 |\t190\n",
        "Diana Taurasi\t| Basketball\t| 72\t| 163\n",
        "Paula Radcliffe\t| Track\t| 68 |\t120\n",
        "Simone Biles | Gymnastics | 57 | 104\n",
        "Madison Kocian | Gymnastics |62 | 101\n",
        "Amy Cragg |Track | 64 | 99\n"
      ]
    },
    {
      "cell_type": "code",
      "metadata": {
        "collapsed": true,
        "id": "EaIlolNIYixO"
      },
      "source": [
        "dataf = {'Athlete': Series(['Aly Raisman', 'Crystal Langhorne', 'Diana Taurasi', 'Paula Radcliffe', 'Simone Biles', 'Madison Kocian', 'Amy Cragg']),\n",
        "'Sport': Series(['Gymnastics', 'Basketball', 'Basketball', 'Track','Gymnastics', 'Gymnastics', 'Track']),\n",
        "'Height': Series([62, 74, 72, 68, 57, 62, 64]),\n",
        "'Weight': Series([115, 190, 163, 120, 104, 101, 99])\n",
        "}"
      ],
      "execution_count": 22,
      "outputs": []
    },
    {
      "cell_type": "markdown",
      "metadata": {
        "id": "vwSIZhHTYixO"
      },
      "source": [
        "## reading data from different sources.\n",
        "### csv file:\n",
        "We can create a DataFrame from a CSV file (comma separated values), which is a common format for datasets. \n",
        "\n",
        "\n",
        "We use the `pd.read_csv` function to do so.  `pd.read_csv` can read a csv file from either your local machine or the web. Let's start with the web.\n",
        "\n",
        "#### Reading a CSV file from the web.\n",
        "To read a file from the web, we simply provide a URL:\n"
      ]
    },
    {
      "cell_type": "code",
      "metadata": {
        "id": "2Aeaykl9YixO",
        "colab": {
          "base_uri": "https://localhost:8080/",
          "height": 917
        },
        "outputId": "19d6931d-7baf-413d-a87a-2d6eb5d96dd4"
      },
      "source": [
        "df4 = pd.read_csv('https://raw.githubusercontent.com/zacharski/ml-class/master/data/athletes.csv')\n",
        "df4"
      ],
      "execution_count": 54,
      "outputs": [
        {
          "output_type": "execute_result",
          "data": {
            "text/html": [
              "<div>\n",
              "<style scoped>\n",
              "    .dataframe tbody tr th:only-of-type {\n",
              "        vertical-align: middle;\n",
              "    }\n",
              "\n",
              "    .dataframe tbody tr th {\n",
              "        vertical-align: top;\n",
              "    }\n",
              "\n",
              "    .dataframe thead th {\n",
              "        text-align: right;\n",
              "    }\n",
              "</style>\n",
              "<table border=\"1\" class=\"dataframe\">\n",
              "  <thead>\n",
              "    <tr style=\"text-align: right;\">\n",
              "      <th></th>\n",
              "      <th>Name</th>\n",
              "      <th>Sport</th>\n",
              "      <th>Height</th>\n",
              "      <th>Weight</th>\n",
              "    </tr>\n",
              "  </thead>\n",
              "  <tbody>\n",
              "    <tr>\n",
              "      <th>0</th>\n",
              "      <td>Asuka Teramoto</td>\n",
              "      <td>Gymnastics</td>\n",
              "      <td>54</td>\n",
              "      <td>66</td>\n",
              "    </tr>\n",
              "    <tr>\n",
              "      <th>1</th>\n",
              "      <td>Brittainey Raven</td>\n",
              "      <td>Basketball</td>\n",
              "      <td>72</td>\n",
              "      <td>162</td>\n",
              "    </tr>\n",
              "    <tr>\n",
              "      <th>2</th>\n",
              "      <td>Chen Nan</td>\n",
              "      <td>Basketball</td>\n",
              "      <td>78</td>\n",
              "      <td>204</td>\n",
              "    </tr>\n",
              "    <tr>\n",
              "      <th>3</th>\n",
              "      <td>Gabby Douglas</td>\n",
              "      <td>Gymnastics</td>\n",
              "      <td>49</td>\n",
              "      <td>90</td>\n",
              "    </tr>\n",
              "    <tr>\n",
              "      <th>4</th>\n",
              "      <td>Helalia Johannes</td>\n",
              "      <td>Track</td>\n",
              "      <td>65</td>\n",
              "      <td>99</td>\n",
              "    </tr>\n",
              "    <tr>\n",
              "      <th>5</th>\n",
              "      <td>Irina Miketenko</td>\n",
              "      <td>Track</td>\n",
              "      <td>63</td>\n",
              "      <td>106</td>\n",
              "    </tr>\n",
              "    <tr>\n",
              "      <th>6</th>\n",
              "      <td>Jennifer Lacy</td>\n",
              "      <td>Basketball</td>\n",
              "      <td>75</td>\n",
              "      <td>175</td>\n",
              "    </tr>\n",
              "    <tr>\n",
              "      <th>7</th>\n",
              "      <td>Kara Goucher</td>\n",
              "      <td>Track</td>\n",
              "      <td>67</td>\n",
              "      <td>123</td>\n",
              "    </tr>\n",
              "    <tr>\n",
              "      <th>8</th>\n",
              "      <td>Linlin Deng</td>\n",
              "      <td>Gymnastics</td>\n",
              "      <td>54</td>\n",
              "      <td>68</td>\n",
              "    </tr>\n",
              "    <tr>\n",
              "      <th>9</th>\n",
              "      <td>Nakia Sanford</td>\n",
              "      <td>Basketball</td>\n",
              "      <td>76</td>\n",
              "      <td>200</td>\n",
              "    </tr>\n",
              "    <tr>\n",
              "      <th>10</th>\n",
              "      <td>Nikki Blue</td>\n",
              "      <td>Basketball</td>\n",
              "      <td>68</td>\n",
              "      <td>163</td>\n",
              "    </tr>\n",
              "    <tr>\n",
              "      <th>11</th>\n",
              "      <td>Qiushuang Huang</td>\n",
              "      <td>Gymnastics</td>\n",
              "      <td>61</td>\n",
              "      <td>95</td>\n",
              "    </tr>\n",
              "    <tr>\n",
              "      <th>12</th>\n",
              "      <td>Rebecca Tunney</td>\n",
              "      <td>Gymnastics</td>\n",
              "      <td>58</td>\n",
              "      <td>77</td>\n",
              "    </tr>\n",
              "    <tr>\n",
              "      <th>13</th>\n",
              "      <td>Rene Kalmer</td>\n",
              "      <td>Track</td>\n",
              "      <td>70</td>\n",
              "      <td>108</td>\n",
              "    </tr>\n",
              "    <tr>\n",
              "      <th>14</th>\n",
              "      <td>Shanna Crossley</td>\n",
              "      <td>Basketball</td>\n",
              "      <td>70</td>\n",
              "      <td>155</td>\n",
              "    </tr>\n",
              "    <tr>\n",
              "      <th>15</th>\n",
              "      <td>Shavonte Zellous</td>\n",
              "      <td>Basketball</td>\n",
              "      <td>70</td>\n",
              "      <td>155</td>\n",
              "    </tr>\n",
              "    <tr>\n",
              "      <th>16</th>\n",
              "      <td>Tatyana Petrova</td>\n",
              "      <td>Track</td>\n",
              "      <td>63</td>\n",
              "      <td>108</td>\n",
              "    </tr>\n",
              "    <tr>\n",
              "      <th>17</th>\n",
              "      <td>Tiki Gelana</td>\n",
              "      <td>Track</td>\n",
              "      <td>65</td>\n",
              "      <td>106</td>\n",
              "    </tr>\n",
              "    <tr>\n",
              "      <th>18</th>\n",
              "      <td>Valeria Straneo</td>\n",
              "      <td>Track</td>\n",
              "      <td>66</td>\n",
              "      <td>97</td>\n",
              "    </tr>\n",
              "    <tr>\n",
              "      <th>19</th>\n",
              "      <td>Viktoria Komova</td>\n",
              "      <td>Gymnastics</td>\n",
              "      <td>61</td>\n",
              "      <td>76</td>\n",
              "    </tr>\n",
              "    <tr>\n",
              "      <th>20</th>\n",
              "      <td>Amy Cragg</td>\n",
              "      <td>Track</td>\n",
              "      <td>64</td>\n",
              "      <td>99</td>\n",
              "    </tr>\n",
              "    <tr>\n",
              "      <th>21</th>\n",
              "      <td>Simone Biles</td>\n",
              "      <td>Gymnastics</td>\n",
              "      <td>57</td>\n",
              "      <td>104</td>\n",
              "    </tr>\n",
              "    <tr>\n",
              "      <th>22</th>\n",
              "      <td>Madison Kocian</td>\n",
              "      <td>Gymnastics</td>\n",
              "      <td>62</td>\n",
              "      <td>101</td>\n",
              "    </tr>\n",
              "    <tr>\n",
              "      <th>23</th>\n",
              "      <td>Elena Delle Donne</td>\n",
              "      <td>Basketball</td>\n",
              "      <td>77</td>\n",
              "      <td>188</td>\n",
              "    </tr>\n",
              "    <tr>\n",
              "      <th>24</th>\n",
              "      <td>Seimone Augustus</td>\n",
              "      <td>Basketball</td>\n",
              "      <td>72</td>\n",
              "      <td>166</td>\n",
              "    </tr>\n",
              "    <tr>\n",
              "      <th>25</th>\n",
              "      <td>Desiree Linden</td>\n",
              "      <td>Track</td>\n",
              "      <td>61</td>\n",
              "      <td>97</td>\n",
              "    </tr>\n",
              "    <tr>\n",
              "      <th>26</th>\n",
              "      <td>Shalane Flanagan</td>\n",
              "      <td>Track</td>\n",
              "      <td>65</td>\n",
              "      <td>106</td>\n",
              "    </tr>\n",
              "    <tr>\n",
              "      <th>27</th>\n",
              "      <td>Laurie Hernandez</td>\n",
              "      <td>Gymnastics</td>\n",
              "      <td>60</td>\n",
              "      <td>106</td>\n",
              "    </tr>\n",
              "  </tbody>\n",
              "</table>\n",
              "</div>"
            ],
            "text/plain": [
              "                 Name       Sport  Height  Weight\n",
              "0      Asuka Teramoto  Gymnastics      54      66\n",
              "1    Brittainey Raven  Basketball      72     162\n",
              "2            Chen Nan  Basketball      78     204\n",
              "3       Gabby Douglas  Gymnastics      49      90\n",
              "4    Helalia Johannes       Track      65      99\n",
              "5     Irina Miketenko       Track      63     106\n",
              "6       Jennifer Lacy  Basketball      75     175\n",
              "7        Kara Goucher       Track      67     123\n",
              "8         Linlin Deng  Gymnastics      54      68\n",
              "9       Nakia Sanford  Basketball      76     200\n",
              "10         Nikki Blue  Basketball      68     163\n",
              "11    Qiushuang Huang  Gymnastics      61      95\n",
              "12     Rebecca Tunney  Gymnastics      58      77\n",
              "13        Rene Kalmer       Track      70     108\n",
              "14    Shanna Crossley  Basketball      70     155\n",
              "15   Shavonte Zellous  Basketball      70     155\n",
              "16    Tatyana Petrova       Track      63     108\n",
              "17        Tiki Gelana       Track      65     106\n",
              "18    Valeria Straneo       Track      66      97\n",
              "19    Viktoria Komova  Gymnastics      61      76\n",
              "20          Amy Cragg       Track      64      99\n",
              "21       Simone Biles  Gymnastics      57     104\n",
              "22     Madison Kocian  Gymnastics      62     101\n",
              "23  Elena Delle Donne  Basketball      77     188\n",
              "24   Seimone Augustus  Basketball      72     166\n",
              "25     Desiree Linden       Track      61      97\n",
              "26   Shalane Flanagan       Track      65     106\n",
              "27   Laurie Hernandez  Gymnastics      60     106"
            ]
          },
          "metadata": {
            "tags": []
          },
          "execution_count": 54
        }
      ]
    },
    {
      "cell_type": "markdown",
      "metadata": {
        "id": "4zfHC5RbYixP"
      },
      "source": [
        "Sometimes the csv file has a header row as was the case in the example above. That file starts\n",
        "\n",
        "    Name,Sport,Height,Weight\n",
        "    Asuka Teramoto,Gymnastics,54,66\n",
        "    Brittainey Raven,Basketball,72,162\n",
        "    Chen Nan,Basketball,78,204\n",
        "    Gabby Douglas,Gymnastics,49,90\n",
        "    \n",
        "\n"
      ]
    },
    {
      "cell_type": "code",
      "metadata": {
        "id": "5y-3DQ7IYixP",
        "colab": {
          "base_uri": "https://localhost:8080/"
        },
        "outputId": "03518aee-3b8d-45e2-bb21-20b8a85f8166"
      },
      "source": [
        "!curl https://raw.githubusercontent.com/zacharski/ml-class/master/data/athletes.csv"
      ],
      "execution_count": 24,
      "outputs": [
        {
          "output_type": "stream",
          "text": [
            "Name,Sport,Height,Weight\n",
            "Asuka Teramoto,Gymnastics,54,66\n",
            "Brittainey Raven,Basketball,72,162\n",
            "Chen Nan,Basketball,78,204\n",
            "Gabby Douglas,Gymnastics,49,90\n",
            "Helalia Johannes,Track,65,99\n",
            "Irina Miketenko,Track,63,106\n",
            "Jennifer Lacy,Basketball,75,175\n",
            "Kara Goucher,Track,67,123\n",
            "Linlin Deng,Gymnastics,54,68\n",
            "Nakia Sanford,Basketball,76,200\n",
            "Nikki Blue,Basketball,68,163\n",
            "Qiushuang Huang,Gymnastics,61,95\n",
            "Rebecca Tunney,Gymnastics,58,77\n",
            "Rene Kalmer,Track,70,108\n",
            "Shanna Crossley,Basketball,70,155\n",
            "Shavonte Zellous,Basketball,70,155\n",
            "Tatyana Petrova,Track,63,108\n",
            "Tiki Gelana,Track,65,106\n",
            "Valeria Straneo,Track,66,97\n",
            "Viktoria Komova,Gymnastics,61,76\n",
            "Amy Cragg,Track,64,99\n",
            "Simone Biles,Gymnastics,57,104\n",
            "Madison Kocian,Gymnastics,62,101\n",
            "Elena Delle Donne,Basketball,77,188\n",
            "Seimone Augustus,Basketball,72,166\n",
            "Desiree Linden,Track,61,97\n",
            "Shalane Flanagan,Track,65,106\n",
            "Laurie Hernandez,Gymnastics,60,106"
          ],
          "name": "stdout"
        }
      ]
    },
    {
      "cell_type": "markdown",
      "metadata": {
        "id": "wvJbbEIrYixQ"
      },
      "source": [
        "As you can see we can preface any Unix command with a bang (!) to have it execute in our Notebook.  This is amazingly handy:\n",
        "\n"
      ]
    },
    {
      "cell_type": "code",
      "metadata": {
        "id": "FJKYOtteYixQ",
        "colab": {
          "base_uri": "https://localhost:8080/"
        },
        "outputId": "e969f5db-a805-4d7b-84f0-d8cae67e6d2e"
      },
      "source": [
        "!ls"
      ],
      "execution_count": 25,
      "outputs": [
        {
          "output_type": "stream",
          "text": [
            "sample_data\n"
          ],
          "name": "stdout"
        }
      ]
    },
    {
      "cell_type": "code",
      "metadata": {
        "id": "QFA8_kCcYixQ",
        "colab": {
          "base_uri": "https://localhost:8080/"
        },
        "outputId": "c209dd31-bf0d-44f6-bf88-d04c122a23b0"
      },
      "source": [
        "!pwd"
      ],
      "execution_count": 26,
      "outputs": [
        {
          "output_type": "stream",
          "text": [
            "/content\n"
          ],
          "name": "stdout"
        }
      ]
    },
    {
      "cell_type": "markdown",
      "metadata": {
        "id": "zxBwDJnXYixR"
      },
      "source": [
        "Back to Pandas.\n",
        "\n",
        "Sometimes the csv file does not have a header row. So for example, a csv file might have the contents:\n",
        "\n",
        "Asuka Teramoto,Gymnastics,54,66\n",
        "Brittainey Raven,Basketball,72,162\n",
        "Chen Nan,Basketball,78,204\n",
        "Gabby Douglas,Gymnastics,49,90\n",
        "In that case you specify the names of the columns using the names attribute:"
      ]
    },
    {
      "cell_type": "code",
      "metadata": {
        "id": "3O2Ah-9qYixR",
        "colab": {
          "base_uri": "https://localhost:8080/",
          "height": 917
        },
        "outputId": "8ad201a8-5675-40ea-881e-2658111960a2"
      },
      "source": [
        "athletes = pd.read_csv('https://raw.githubusercontent.com/zacharski/ml-class/master/data/athletesNoHeader.csv', names=['Name', 'Sport', 'Height', 'Weight'])\n",
        "athletes"
      ],
      "execution_count": 55,
      "outputs": [
        {
          "output_type": "execute_result",
          "data": {
            "text/html": [
              "<div>\n",
              "<style scoped>\n",
              "    .dataframe tbody tr th:only-of-type {\n",
              "        vertical-align: middle;\n",
              "    }\n",
              "\n",
              "    .dataframe tbody tr th {\n",
              "        vertical-align: top;\n",
              "    }\n",
              "\n",
              "    .dataframe thead th {\n",
              "        text-align: right;\n",
              "    }\n",
              "</style>\n",
              "<table border=\"1\" class=\"dataframe\">\n",
              "  <thead>\n",
              "    <tr style=\"text-align: right;\">\n",
              "      <th></th>\n",
              "      <th>Name</th>\n",
              "      <th>Sport</th>\n",
              "      <th>Height</th>\n",
              "      <th>Weight</th>\n",
              "    </tr>\n",
              "  </thead>\n",
              "  <tbody>\n",
              "    <tr>\n",
              "      <th>0</th>\n",
              "      <td>Asuka Teramoto</td>\n",
              "      <td>Gymnastics</td>\n",
              "      <td>54</td>\n",
              "      <td>66</td>\n",
              "    </tr>\n",
              "    <tr>\n",
              "      <th>1</th>\n",
              "      <td>Brittainey Raven</td>\n",
              "      <td>Basketball</td>\n",
              "      <td>72</td>\n",
              "      <td>162</td>\n",
              "    </tr>\n",
              "    <tr>\n",
              "      <th>2</th>\n",
              "      <td>Chen Nan</td>\n",
              "      <td>Basketball</td>\n",
              "      <td>78</td>\n",
              "      <td>204</td>\n",
              "    </tr>\n",
              "    <tr>\n",
              "      <th>3</th>\n",
              "      <td>Gabby Douglas</td>\n",
              "      <td>Gymnastics</td>\n",
              "      <td>49</td>\n",
              "      <td>90</td>\n",
              "    </tr>\n",
              "    <tr>\n",
              "      <th>4</th>\n",
              "      <td>Helalia Johannes</td>\n",
              "      <td>Track</td>\n",
              "      <td>65</td>\n",
              "      <td>99</td>\n",
              "    </tr>\n",
              "    <tr>\n",
              "      <th>5</th>\n",
              "      <td>Irina Miketenko</td>\n",
              "      <td>Track</td>\n",
              "      <td>63</td>\n",
              "      <td>106</td>\n",
              "    </tr>\n",
              "    <tr>\n",
              "      <th>6</th>\n",
              "      <td>Jennifer Lacy</td>\n",
              "      <td>Basketball</td>\n",
              "      <td>75</td>\n",
              "      <td>175</td>\n",
              "    </tr>\n",
              "    <tr>\n",
              "      <th>7</th>\n",
              "      <td>Kara Goucher</td>\n",
              "      <td>Track</td>\n",
              "      <td>67</td>\n",
              "      <td>123</td>\n",
              "    </tr>\n",
              "    <tr>\n",
              "      <th>8</th>\n",
              "      <td>Linlin Deng</td>\n",
              "      <td>Gymnastics</td>\n",
              "      <td>54</td>\n",
              "      <td>68</td>\n",
              "    </tr>\n",
              "    <tr>\n",
              "      <th>9</th>\n",
              "      <td>Nakia Sanford</td>\n",
              "      <td>Basketball</td>\n",
              "      <td>76</td>\n",
              "      <td>200</td>\n",
              "    </tr>\n",
              "    <tr>\n",
              "      <th>10</th>\n",
              "      <td>Nikki Blue</td>\n",
              "      <td>Basketball</td>\n",
              "      <td>68</td>\n",
              "      <td>163</td>\n",
              "    </tr>\n",
              "    <tr>\n",
              "      <th>11</th>\n",
              "      <td>Qiushuang Huang</td>\n",
              "      <td>Gymnastics</td>\n",
              "      <td>61</td>\n",
              "      <td>95</td>\n",
              "    </tr>\n",
              "    <tr>\n",
              "      <th>12</th>\n",
              "      <td>Rebecca Tunney</td>\n",
              "      <td>Gymnastics</td>\n",
              "      <td>58</td>\n",
              "      <td>77</td>\n",
              "    </tr>\n",
              "    <tr>\n",
              "      <th>13</th>\n",
              "      <td>Rene Kalmer</td>\n",
              "      <td>Track</td>\n",
              "      <td>70</td>\n",
              "      <td>108</td>\n",
              "    </tr>\n",
              "    <tr>\n",
              "      <th>14</th>\n",
              "      <td>Shanna Crossley</td>\n",
              "      <td>Basketball</td>\n",
              "      <td>70</td>\n",
              "      <td>155</td>\n",
              "    </tr>\n",
              "    <tr>\n",
              "      <th>15</th>\n",
              "      <td>Shavonte Zellous</td>\n",
              "      <td>Basketball</td>\n",
              "      <td>70</td>\n",
              "      <td>155</td>\n",
              "    </tr>\n",
              "    <tr>\n",
              "      <th>16</th>\n",
              "      <td>Tatyana Petrova</td>\n",
              "      <td>Track</td>\n",
              "      <td>63</td>\n",
              "      <td>108</td>\n",
              "    </tr>\n",
              "    <tr>\n",
              "      <th>17</th>\n",
              "      <td>Tiki Gelana</td>\n",
              "      <td>Track</td>\n",
              "      <td>65</td>\n",
              "      <td>106</td>\n",
              "    </tr>\n",
              "    <tr>\n",
              "      <th>18</th>\n",
              "      <td>Valeria Straneo</td>\n",
              "      <td>Track</td>\n",
              "      <td>66</td>\n",
              "      <td>97</td>\n",
              "    </tr>\n",
              "    <tr>\n",
              "      <th>19</th>\n",
              "      <td>Viktoria Komova</td>\n",
              "      <td>Gymnastics</td>\n",
              "      <td>61</td>\n",
              "      <td>76</td>\n",
              "    </tr>\n",
              "    <tr>\n",
              "      <th>20</th>\n",
              "      <td>Amy Cragg</td>\n",
              "      <td>Track</td>\n",
              "      <td>64</td>\n",
              "      <td>99</td>\n",
              "    </tr>\n",
              "    <tr>\n",
              "      <th>21</th>\n",
              "      <td>Simone Biles</td>\n",
              "      <td>Gymnastics</td>\n",
              "      <td>57</td>\n",
              "      <td>104</td>\n",
              "    </tr>\n",
              "    <tr>\n",
              "      <th>22</th>\n",
              "      <td>Madison Kocian</td>\n",
              "      <td>Gymnastics</td>\n",
              "      <td>62</td>\n",
              "      <td>101</td>\n",
              "    </tr>\n",
              "    <tr>\n",
              "      <th>23</th>\n",
              "      <td>Elena Delle Donne</td>\n",
              "      <td>Basketball</td>\n",
              "      <td>77</td>\n",
              "      <td>188</td>\n",
              "    </tr>\n",
              "    <tr>\n",
              "      <th>24</th>\n",
              "      <td>Seimone Augustus</td>\n",
              "      <td>Basketball</td>\n",
              "      <td>72</td>\n",
              "      <td>166</td>\n",
              "    </tr>\n",
              "    <tr>\n",
              "      <th>25</th>\n",
              "      <td>Desiree Linden</td>\n",
              "      <td>Track</td>\n",
              "      <td>61</td>\n",
              "      <td>97</td>\n",
              "    </tr>\n",
              "    <tr>\n",
              "      <th>26</th>\n",
              "      <td>Shalane Flanagan</td>\n",
              "      <td>Track</td>\n",
              "      <td>65</td>\n",
              "      <td>106</td>\n",
              "    </tr>\n",
              "    <tr>\n",
              "      <th>27</th>\n",
              "      <td>Laurie Hernandez</td>\n",
              "      <td>Gymnastics</td>\n",
              "      <td>60</td>\n",
              "      <td>106</td>\n",
              "    </tr>\n",
              "  </tbody>\n",
              "</table>\n",
              "</div>"
            ],
            "text/plain": [
              "                 Name       Sport  Height  Weight\n",
              "0      Asuka Teramoto  Gymnastics      54      66\n",
              "1    Brittainey Raven  Basketball      72     162\n",
              "2            Chen Nan  Basketball      78     204\n",
              "3       Gabby Douglas  Gymnastics      49      90\n",
              "4    Helalia Johannes       Track      65      99\n",
              "5     Irina Miketenko       Track      63     106\n",
              "6       Jennifer Lacy  Basketball      75     175\n",
              "7        Kara Goucher       Track      67     123\n",
              "8         Linlin Deng  Gymnastics      54      68\n",
              "9       Nakia Sanford  Basketball      76     200\n",
              "10         Nikki Blue  Basketball      68     163\n",
              "11    Qiushuang Huang  Gymnastics      61      95\n",
              "12     Rebecca Tunney  Gymnastics      58      77\n",
              "13        Rene Kalmer       Track      70     108\n",
              "14    Shanna Crossley  Basketball      70     155\n",
              "15   Shavonte Zellous  Basketball      70     155\n",
              "16    Tatyana Petrova       Track      63     108\n",
              "17        Tiki Gelana       Track      65     106\n",
              "18    Valeria Straneo       Track      66      97\n",
              "19    Viktoria Komova  Gymnastics      61      76\n",
              "20          Amy Cragg       Track      64      99\n",
              "21       Simone Biles  Gymnastics      57     104\n",
              "22     Madison Kocian  Gymnastics      62     101\n",
              "23  Elena Delle Donne  Basketball      77     188\n",
              "24   Seimone Augustus  Basketball      72     166\n",
              "25     Desiree Linden       Track      61      97\n",
              "26   Shalane Flanagan       Track      65     106\n",
              "27   Laurie Hernandez  Gymnastics      60     106"
            ]
          },
          "metadata": {
            "tags": []
          },
          "execution_count": 55
        }
      ]
    },
    {
      "cell_type": "markdown",
      "metadata": {
        "id": "6xF_W_GoYixR"
      },
      "source": [
        "### Reading a CSV file the local machine\n",
        "First, let's get that file onto our local machine:"
      ]
    },
    {
      "cell_type": "code",
      "metadata": {
        "id": "H9pCrZVMYixS",
        "colab": {
          "base_uri": "https://localhost:8080/"
        },
        "outputId": "6663728c-3527-4a65-908b-5080028377dd"
      },
      "source": [
        "!curl https://raw.githubusercontent.com/zacharski/ml-class/master/data/athletes.csv > localAthletes.csv"
      ],
      "execution_count": 30,
      "outputs": [
        {
          "output_type": "stream",
          "text": [
            "  % Total    % Received % Xferd  Average Speed   Time    Time     Time  Current\n",
            "                                 Dload  Upload   Total   Spent    Left  Speed\n",
            "\r  0     0    0     0    0     0      0      0 --:--:-- --:--:-- --:--:--     0\r100   878  100   878    0     0  35120      0 --:--:-- --:--:-- --:--:-- 35120\n"
          ],
          "name": "stdout"
        }
      ]
    },
    {
      "cell_type": "markdown",
      "metadata": {
        "id": "bjgZ5ks5YixS"
      },
      "source": [
        "Hmm. That didn't work. Can you fix the error and rerun that cell?\n",
        "\n",
        "---\n",
        "Now we can specify the local file using `pd=read_csv`"
      ]
    },
    {
      "cell_type": "code",
      "metadata": {
        "scrolled": true,
        "id": "p0u5PbK8YixS",
        "colab": {
          "base_uri": "https://localhost:8080/",
          "height": 917
        },
        "outputId": "f828889c-47a4-4f5b-ff72-68d7ad967274"
      },
      "source": [
        "d6 = pd.read_csv('localAthletes.csv')\n",
        "d6"
      ],
      "execution_count": 31,
      "outputs": [
        {
          "output_type": "execute_result",
          "data": {
            "text/html": [
              "<div>\n",
              "<style scoped>\n",
              "    .dataframe tbody tr th:only-of-type {\n",
              "        vertical-align: middle;\n",
              "    }\n",
              "\n",
              "    .dataframe tbody tr th {\n",
              "        vertical-align: top;\n",
              "    }\n",
              "\n",
              "    .dataframe thead th {\n",
              "        text-align: right;\n",
              "    }\n",
              "</style>\n",
              "<table border=\"1\" class=\"dataframe\">\n",
              "  <thead>\n",
              "    <tr style=\"text-align: right;\">\n",
              "      <th></th>\n",
              "      <th>Name</th>\n",
              "      <th>Sport</th>\n",
              "      <th>Height</th>\n",
              "      <th>Weight</th>\n",
              "    </tr>\n",
              "  </thead>\n",
              "  <tbody>\n",
              "    <tr>\n",
              "      <th>0</th>\n",
              "      <td>Asuka Teramoto</td>\n",
              "      <td>Gymnastics</td>\n",
              "      <td>54</td>\n",
              "      <td>66</td>\n",
              "    </tr>\n",
              "    <tr>\n",
              "      <th>1</th>\n",
              "      <td>Brittainey Raven</td>\n",
              "      <td>Basketball</td>\n",
              "      <td>72</td>\n",
              "      <td>162</td>\n",
              "    </tr>\n",
              "    <tr>\n",
              "      <th>2</th>\n",
              "      <td>Chen Nan</td>\n",
              "      <td>Basketball</td>\n",
              "      <td>78</td>\n",
              "      <td>204</td>\n",
              "    </tr>\n",
              "    <tr>\n",
              "      <th>3</th>\n",
              "      <td>Gabby Douglas</td>\n",
              "      <td>Gymnastics</td>\n",
              "      <td>49</td>\n",
              "      <td>90</td>\n",
              "    </tr>\n",
              "    <tr>\n",
              "      <th>4</th>\n",
              "      <td>Helalia Johannes</td>\n",
              "      <td>Track</td>\n",
              "      <td>65</td>\n",
              "      <td>99</td>\n",
              "    </tr>\n",
              "    <tr>\n",
              "      <th>5</th>\n",
              "      <td>Irina Miketenko</td>\n",
              "      <td>Track</td>\n",
              "      <td>63</td>\n",
              "      <td>106</td>\n",
              "    </tr>\n",
              "    <tr>\n",
              "      <th>6</th>\n",
              "      <td>Jennifer Lacy</td>\n",
              "      <td>Basketball</td>\n",
              "      <td>75</td>\n",
              "      <td>175</td>\n",
              "    </tr>\n",
              "    <tr>\n",
              "      <th>7</th>\n",
              "      <td>Kara Goucher</td>\n",
              "      <td>Track</td>\n",
              "      <td>67</td>\n",
              "      <td>123</td>\n",
              "    </tr>\n",
              "    <tr>\n",
              "      <th>8</th>\n",
              "      <td>Linlin Deng</td>\n",
              "      <td>Gymnastics</td>\n",
              "      <td>54</td>\n",
              "      <td>68</td>\n",
              "    </tr>\n",
              "    <tr>\n",
              "      <th>9</th>\n",
              "      <td>Nakia Sanford</td>\n",
              "      <td>Basketball</td>\n",
              "      <td>76</td>\n",
              "      <td>200</td>\n",
              "    </tr>\n",
              "    <tr>\n",
              "      <th>10</th>\n",
              "      <td>Nikki Blue</td>\n",
              "      <td>Basketball</td>\n",
              "      <td>68</td>\n",
              "      <td>163</td>\n",
              "    </tr>\n",
              "    <tr>\n",
              "      <th>11</th>\n",
              "      <td>Qiushuang Huang</td>\n",
              "      <td>Gymnastics</td>\n",
              "      <td>61</td>\n",
              "      <td>95</td>\n",
              "    </tr>\n",
              "    <tr>\n",
              "      <th>12</th>\n",
              "      <td>Rebecca Tunney</td>\n",
              "      <td>Gymnastics</td>\n",
              "      <td>58</td>\n",
              "      <td>77</td>\n",
              "    </tr>\n",
              "    <tr>\n",
              "      <th>13</th>\n",
              "      <td>Rene Kalmer</td>\n",
              "      <td>Track</td>\n",
              "      <td>70</td>\n",
              "      <td>108</td>\n",
              "    </tr>\n",
              "    <tr>\n",
              "      <th>14</th>\n",
              "      <td>Shanna Crossley</td>\n",
              "      <td>Basketball</td>\n",
              "      <td>70</td>\n",
              "      <td>155</td>\n",
              "    </tr>\n",
              "    <tr>\n",
              "      <th>15</th>\n",
              "      <td>Shavonte Zellous</td>\n",
              "      <td>Basketball</td>\n",
              "      <td>70</td>\n",
              "      <td>155</td>\n",
              "    </tr>\n",
              "    <tr>\n",
              "      <th>16</th>\n",
              "      <td>Tatyana Petrova</td>\n",
              "      <td>Track</td>\n",
              "      <td>63</td>\n",
              "      <td>108</td>\n",
              "    </tr>\n",
              "    <tr>\n",
              "      <th>17</th>\n",
              "      <td>Tiki Gelana</td>\n",
              "      <td>Track</td>\n",
              "      <td>65</td>\n",
              "      <td>106</td>\n",
              "    </tr>\n",
              "    <tr>\n",
              "      <th>18</th>\n",
              "      <td>Valeria Straneo</td>\n",
              "      <td>Track</td>\n",
              "      <td>66</td>\n",
              "      <td>97</td>\n",
              "    </tr>\n",
              "    <tr>\n",
              "      <th>19</th>\n",
              "      <td>Viktoria Komova</td>\n",
              "      <td>Gymnastics</td>\n",
              "      <td>61</td>\n",
              "      <td>76</td>\n",
              "    </tr>\n",
              "    <tr>\n",
              "      <th>20</th>\n",
              "      <td>Amy Cragg</td>\n",
              "      <td>Track</td>\n",
              "      <td>64</td>\n",
              "      <td>99</td>\n",
              "    </tr>\n",
              "    <tr>\n",
              "      <th>21</th>\n",
              "      <td>Simone Biles</td>\n",
              "      <td>Gymnastics</td>\n",
              "      <td>57</td>\n",
              "      <td>104</td>\n",
              "    </tr>\n",
              "    <tr>\n",
              "      <th>22</th>\n",
              "      <td>Madison Kocian</td>\n",
              "      <td>Gymnastics</td>\n",
              "      <td>62</td>\n",
              "      <td>101</td>\n",
              "    </tr>\n",
              "    <tr>\n",
              "      <th>23</th>\n",
              "      <td>Elena Delle Donne</td>\n",
              "      <td>Basketball</td>\n",
              "      <td>77</td>\n",
              "      <td>188</td>\n",
              "    </tr>\n",
              "    <tr>\n",
              "      <th>24</th>\n",
              "      <td>Seimone Augustus</td>\n",
              "      <td>Basketball</td>\n",
              "      <td>72</td>\n",
              "      <td>166</td>\n",
              "    </tr>\n",
              "    <tr>\n",
              "      <th>25</th>\n",
              "      <td>Desiree Linden</td>\n",
              "      <td>Track</td>\n",
              "      <td>61</td>\n",
              "      <td>97</td>\n",
              "    </tr>\n",
              "    <tr>\n",
              "      <th>26</th>\n",
              "      <td>Shalane Flanagan</td>\n",
              "      <td>Track</td>\n",
              "      <td>65</td>\n",
              "      <td>106</td>\n",
              "    </tr>\n",
              "    <tr>\n",
              "      <th>27</th>\n",
              "      <td>Laurie Hernandez</td>\n",
              "      <td>Gymnastics</td>\n",
              "      <td>60</td>\n",
              "      <td>106</td>\n",
              "    </tr>\n",
              "  </tbody>\n",
              "</table>\n",
              "</div>"
            ],
            "text/plain": [
              "                 Name       Sport  Height  Weight\n",
              "0      Asuka Teramoto  Gymnastics      54      66\n",
              "1    Brittainey Raven  Basketball      72     162\n",
              "2            Chen Nan  Basketball      78     204\n",
              "3       Gabby Douglas  Gymnastics      49      90\n",
              "4    Helalia Johannes       Track      65      99\n",
              "5     Irina Miketenko       Track      63     106\n",
              "6       Jennifer Lacy  Basketball      75     175\n",
              "7        Kara Goucher       Track      67     123\n",
              "8         Linlin Deng  Gymnastics      54      68\n",
              "9       Nakia Sanford  Basketball      76     200\n",
              "10         Nikki Blue  Basketball      68     163\n",
              "11    Qiushuang Huang  Gymnastics      61      95\n",
              "12     Rebecca Tunney  Gymnastics      58      77\n",
              "13        Rene Kalmer       Track      70     108\n",
              "14    Shanna Crossley  Basketball      70     155\n",
              "15   Shavonte Zellous  Basketball      70     155\n",
              "16    Tatyana Petrova       Track      63     108\n",
              "17        Tiki Gelana       Track      65     106\n",
              "18    Valeria Straneo       Track      66      97\n",
              "19    Viktoria Komova  Gymnastics      61      76\n",
              "20          Amy Cragg       Track      64      99\n",
              "21       Simone Biles  Gymnastics      57     104\n",
              "22     Madison Kocian  Gymnastics      62     101\n",
              "23  Elena Delle Donne  Basketball      77     188\n",
              "24   Seimone Augustus  Basketball      72     166\n",
              "25     Desiree Linden       Track      61      97\n",
              "26   Shalane Flanagan       Track      65     106\n",
              "27   Laurie Hernandez  Gymnastics      60     106"
            ]
          },
          "metadata": {
            "tags": []
          },
          "execution_count": 31
        }
      ]
    },
    {
      "cell_type": "markdown",
      "metadata": {
        "id": "4uNu8B4xYixT"
      },
      "source": [
        "Suppose we want that file in a data directory. Let's go ahead and create the directory and move the file there."
      ]
    },
    {
      "cell_type": "code",
      "metadata": {
        "id": "WNOsV_TeYixT"
      },
      "source": [
        "!mkdir data\n",
        "!mv localAthletes.csv data"
      ],
      "execution_count": 32,
      "outputs": []
    },
    {
      "cell_type": "markdown",
      "metadata": {
        "id": "aueTovbVYixT"
      },
      "source": [
        "Now when we load the file we need to give more of a path:"
      ]
    },
    {
      "cell_type": "code",
      "metadata": {
        "id": "4si6to6vYixU",
        "colab": {
          "base_uri": "https://localhost:8080/",
          "height": 917
        },
        "outputId": "82dd8ea0-a400-4b06-a86c-a411a23f2839"
      },
      "source": [
        "d6 = pd.read_csv('data/localAthletes.csv')\n",
        "d6"
      ],
      "execution_count": 33,
      "outputs": [
        {
          "output_type": "execute_result",
          "data": {
            "text/html": [
              "<div>\n",
              "<style scoped>\n",
              "    .dataframe tbody tr th:only-of-type {\n",
              "        vertical-align: middle;\n",
              "    }\n",
              "\n",
              "    .dataframe tbody tr th {\n",
              "        vertical-align: top;\n",
              "    }\n",
              "\n",
              "    .dataframe thead th {\n",
              "        text-align: right;\n",
              "    }\n",
              "</style>\n",
              "<table border=\"1\" class=\"dataframe\">\n",
              "  <thead>\n",
              "    <tr style=\"text-align: right;\">\n",
              "      <th></th>\n",
              "      <th>Name</th>\n",
              "      <th>Sport</th>\n",
              "      <th>Height</th>\n",
              "      <th>Weight</th>\n",
              "    </tr>\n",
              "  </thead>\n",
              "  <tbody>\n",
              "    <tr>\n",
              "      <th>0</th>\n",
              "      <td>Asuka Teramoto</td>\n",
              "      <td>Gymnastics</td>\n",
              "      <td>54</td>\n",
              "      <td>66</td>\n",
              "    </tr>\n",
              "    <tr>\n",
              "      <th>1</th>\n",
              "      <td>Brittainey Raven</td>\n",
              "      <td>Basketball</td>\n",
              "      <td>72</td>\n",
              "      <td>162</td>\n",
              "    </tr>\n",
              "    <tr>\n",
              "      <th>2</th>\n",
              "      <td>Chen Nan</td>\n",
              "      <td>Basketball</td>\n",
              "      <td>78</td>\n",
              "      <td>204</td>\n",
              "    </tr>\n",
              "    <tr>\n",
              "      <th>3</th>\n",
              "      <td>Gabby Douglas</td>\n",
              "      <td>Gymnastics</td>\n",
              "      <td>49</td>\n",
              "      <td>90</td>\n",
              "    </tr>\n",
              "    <tr>\n",
              "      <th>4</th>\n",
              "      <td>Helalia Johannes</td>\n",
              "      <td>Track</td>\n",
              "      <td>65</td>\n",
              "      <td>99</td>\n",
              "    </tr>\n",
              "    <tr>\n",
              "      <th>5</th>\n",
              "      <td>Irina Miketenko</td>\n",
              "      <td>Track</td>\n",
              "      <td>63</td>\n",
              "      <td>106</td>\n",
              "    </tr>\n",
              "    <tr>\n",
              "      <th>6</th>\n",
              "      <td>Jennifer Lacy</td>\n",
              "      <td>Basketball</td>\n",
              "      <td>75</td>\n",
              "      <td>175</td>\n",
              "    </tr>\n",
              "    <tr>\n",
              "      <th>7</th>\n",
              "      <td>Kara Goucher</td>\n",
              "      <td>Track</td>\n",
              "      <td>67</td>\n",
              "      <td>123</td>\n",
              "    </tr>\n",
              "    <tr>\n",
              "      <th>8</th>\n",
              "      <td>Linlin Deng</td>\n",
              "      <td>Gymnastics</td>\n",
              "      <td>54</td>\n",
              "      <td>68</td>\n",
              "    </tr>\n",
              "    <tr>\n",
              "      <th>9</th>\n",
              "      <td>Nakia Sanford</td>\n",
              "      <td>Basketball</td>\n",
              "      <td>76</td>\n",
              "      <td>200</td>\n",
              "    </tr>\n",
              "    <tr>\n",
              "      <th>10</th>\n",
              "      <td>Nikki Blue</td>\n",
              "      <td>Basketball</td>\n",
              "      <td>68</td>\n",
              "      <td>163</td>\n",
              "    </tr>\n",
              "    <tr>\n",
              "      <th>11</th>\n",
              "      <td>Qiushuang Huang</td>\n",
              "      <td>Gymnastics</td>\n",
              "      <td>61</td>\n",
              "      <td>95</td>\n",
              "    </tr>\n",
              "    <tr>\n",
              "      <th>12</th>\n",
              "      <td>Rebecca Tunney</td>\n",
              "      <td>Gymnastics</td>\n",
              "      <td>58</td>\n",
              "      <td>77</td>\n",
              "    </tr>\n",
              "    <tr>\n",
              "      <th>13</th>\n",
              "      <td>Rene Kalmer</td>\n",
              "      <td>Track</td>\n",
              "      <td>70</td>\n",
              "      <td>108</td>\n",
              "    </tr>\n",
              "    <tr>\n",
              "      <th>14</th>\n",
              "      <td>Shanna Crossley</td>\n",
              "      <td>Basketball</td>\n",
              "      <td>70</td>\n",
              "      <td>155</td>\n",
              "    </tr>\n",
              "    <tr>\n",
              "      <th>15</th>\n",
              "      <td>Shavonte Zellous</td>\n",
              "      <td>Basketball</td>\n",
              "      <td>70</td>\n",
              "      <td>155</td>\n",
              "    </tr>\n",
              "    <tr>\n",
              "      <th>16</th>\n",
              "      <td>Tatyana Petrova</td>\n",
              "      <td>Track</td>\n",
              "      <td>63</td>\n",
              "      <td>108</td>\n",
              "    </tr>\n",
              "    <tr>\n",
              "      <th>17</th>\n",
              "      <td>Tiki Gelana</td>\n",
              "      <td>Track</td>\n",
              "      <td>65</td>\n",
              "      <td>106</td>\n",
              "    </tr>\n",
              "    <tr>\n",
              "      <th>18</th>\n",
              "      <td>Valeria Straneo</td>\n",
              "      <td>Track</td>\n",
              "      <td>66</td>\n",
              "      <td>97</td>\n",
              "    </tr>\n",
              "    <tr>\n",
              "      <th>19</th>\n",
              "      <td>Viktoria Komova</td>\n",
              "      <td>Gymnastics</td>\n",
              "      <td>61</td>\n",
              "      <td>76</td>\n",
              "    </tr>\n",
              "    <tr>\n",
              "      <th>20</th>\n",
              "      <td>Amy Cragg</td>\n",
              "      <td>Track</td>\n",
              "      <td>64</td>\n",
              "      <td>99</td>\n",
              "    </tr>\n",
              "    <tr>\n",
              "      <th>21</th>\n",
              "      <td>Simone Biles</td>\n",
              "      <td>Gymnastics</td>\n",
              "      <td>57</td>\n",
              "      <td>104</td>\n",
              "    </tr>\n",
              "    <tr>\n",
              "      <th>22</th>\n",
              "      <td>Madison Kocian</td>\n",
              "      <td>Gymnastics</td>\n",
              "      <td>62</td>\n",
              "      <td>101</td>\n",
              "    </tr>\n",
              "    <tr>\n",
              "      <th>23</th>\n",
              "      <td>Elena Delle Donne</td>\n",
              "      <td>Basketball</td>\n",
              "      <td>77</td>\n",
              "      <td>188</td>\n",
              "    </tr>\n",
              "    <tr>\n",
              "      <th>24</th>\n",
              "      <td>Seimone Augustus</td>\n",
              "      <td>Basketball</td>\n",
              "      <td>72</td>\n",
              "      <td>166</td>\n",
              "    </tr>\n",
              "    <tr>\n",
              "      <th>25</th>\n",
              "      <td>Desiree Linden</td>\n",
              "      <td>Track</td>\n",
              "      <td>61</td>\n",
              "      <td>97</td>\n",
              "    </tr>\n",
              "    <tr>\n",
              "      <th>26</th>\n",
              "      <td>Shalane Flanagan</td>\n",
              "      <td>Track</td>\n",
              "      <td>65</td>\n",
              "      <td>106</td>\n",
              "    </tr>\n",
              "    <tr>\n",
              "      <th>27</th>\n",
              "      <td>Laurie Hernandez</td>\n",
              "      <td>Gymnastics</td>\n",
              "      <td>60</td>\n",
              "      <td>106</td>\n",
              "    </tr>\n",
              "  </tbody>\n",
              "</table>\n",
              "</div>"
            ],
            "text/plain": [
              "                 Name       Sport  Height  Weight\n",
              "0      Asuka Teramoto  Gymnastics      54      66\n",
              "1    Brittainey Raven  Basketball      72     162\n",
              "2            Chen Nan  Basketball      78     204\n",
              "3       Gabby Douglas  Gymnastics      49      90\n",
              "4    Helalia Johannes       Track      65      99\n",
              "5     Irina Miketenko       Track      63     106\n",
              "6       Jennifer Lacy  Basketball      75     175\n",
              "7        Kara Goucher       Track      67     123\n",
              "8         Linlin Deng  Gymnastics      54      68\n",
              "9       Nakia Sanford  Basketball      76     200\n",
              "10         Nikki Blue  Basketball      68     163\n",
              "11    Qiushuang Huang  Gymnastics      61      95\n",
              "12     Rebecca Tunney  Gymnastics      58      77\n",
              "13        Rene Kalmer       Track      70     108\n",
              "14    Shanna Crossley  Basketball      70     155\n",
              "15   Shavonte Zellous  Basketball      70     155\n",
              "16    Tatyana Petrova       Track      63     108\n",
              "17        Tiki Gelana       Track      65     106\n",
              "18    Valeria Straneo       Track      66      97\n",
              "19    Viktoria Komova  Gymnastics      61      76\n",
              "20          Amy Cragg       Track      64      99\n",
              "21       Simone Biles  Gymnastics      57     104\n",
              "22     Madison Kocian  Gymnastics      62     101\n",
              "23  Elena Delle Donne  Basketball      77     188\n",
              "24   Seimone Augustus  Basketball      72     166\n",
              "25     Desiree Linden       Track      61      97\n",
              "26   Shalane Flanagan       Track      65     106\n",
              "27   Laurie Hernandez  Gymnastics      60     106"
            ]
          },
          "metadata": {
            "tags": []
          },
          "execution_count": 33
        }
      ]
    },
    {
      "cell_type": "markdown",
      "metadata": {
        "id": "oY5vCkmOYixU"
      },
      "source": [
        "## Missing Data\n",
        "\n",
        "In real machine learning tasks, we often encounter missing values.\n",
        "\n",
        "For example, suppose we didn't know Brittainey Raven's height. In that case our CSV file would start\n",
        "\n",
        "    Name,Sport,Height,Weight\n",
        "    Asuka Teramoto,Gymnastics,54,66\n",
        "    Brittainey Raven,Basketball,,162\n",
        "    Chen Nan,Basketball,78,204\n",
        "\n",
        "with the double comma on the Brittainey line representing the missing data. When we read that file.\n",
        "\n"
      ]
    },
    {
      "cell_type": "code",
      "metadata": {
        "id": "ZY9lPs82YixU",
        "colab": {
          "base_uri": "https://localhost:8080/",
          "height": 917
        },
        "outputId": "5a97349b-65c1-482d-b775-939155ccc7ca"
      },
      "source": [
        "df7 = pd.read_csv('https://raw.githubusercontent.com/zacharski/ml-class/master/data/athletesMissingValue.csv')\n",
        "df7"
      ],
      "execution_count": 34,
      "outputs": [
        {
          "output_type": "execute_result",
          "data": {
            "text/html": [
              "<div>\n",
              "<style scoped>\n",
              "    .dataframe tbody tr th:only-of-type {\n",
              "        vertical-align: middle;\n",
              "    }\n",
              "\n",
              "    .dataframe tbody tr th {\n",
              "        vertical-align: top;\n",
              "    }\n",
              "\n",
              "    .dataframe thead th {\n",
              "        text-align: right;\n",
              "    }\n",
              "</style>\n",
              "<table border=\"1\" class=\"dataframe\">\n",
              "  <thead>\n",
              "    <tr style=\"text-align: right;\">\n",
              "      <th></th>\n",
              "      <th>Name</th>\n",
              "      <th>Sport</th>\n",
              "      <th>Height</th>\n",
              "      <th>Weight</th>\n",
              "    </tr>\n",
              "  </thead>\n",
              "  <tbody>\n",
              "    <tr>\n",
              "      <th>0</th>\n",
              "      <td>Asuka Teramoto</td>\n",
              "      <td>Gymnastics</td>\n",
              "      <td>54.0</td>\n",
              "      <td>66</td>\n",
              "    </tr>\n",
              "    <tr>\n",
              "      <th>1</th>\n",
              "      <td>Brittainey Raven</td>\n",
              "      <td>Basketball</td>\n",
              "      <td>NaN</td>\n",
              "      <td>162</td>\n",
              "    </tr>\n",
              "    <tr>\n",
              "      <th>2</th>\n",
              "      <td>Chen Nan</td>\n",
              "      <td>Basketball</td>\n",
              "      <td>78.0</td>\n",
              "      <td>204</td>\n",
              "    </tr>\n",
              "    <tr>\n",
              "      <th>3</th>\n",
              "      <td>Gabby Douglas</td>\n",
              "      <td>Gymnastics</td>\n",
              "      <td>49.0</td>\n",
              "      <td>90</td>\n",
              "    </tr>\n",
              "    <tr>\n",
              "      <th>4</th>\n",
              "      <td>Helalia Johannes</td>\n",
              "      <td>Track</td>\n",
              "      <td>65.0</td>\n",
              "      <td>99</td>\n",
              "    </tr>\n",
              "    <tr>\n",
              "      <th>5</th>\n",
              "      <td>Irina Miketenko</td>\n",
              "      <td>Track</td>\n",
              "      <td>NaN</td>\n",
              "      <td>106</td>\n",
              "    </tr>\n",
              "    <tr>\n",
              "      <th>6</th>\n",
              "      <td>Jennifer Lacy</td>\n",
              "      <td>Basketball</td>\n",
              "      <td>75.0</td>\n",
              "      <td>175</td>\n",
              "    </tr>\n",
              "    <tr>\n",
              "      <th>7</th>\n",
              "      <td>Kara Goucher</td>\n",
              "      <td>Track</td>\n",
              "      <td>67.0</td>\n",
              "      <td>123</td>\n",
              "    </tr>\n",
              "    <tr>\n",
              "      <th>8</th>\n",
              "      <td>Linlin Deng</td>\n",
              "      <td>Gymnastics</td>\n",
              "      <td>54.0</td>\n",
              "      <td>68</td>\n",
              "    </tr>\n",
              "    <tr>\n",
              "      <th>9</th>\n",
              "      <td>Nakia Sanford</td>\n",
              "      <td>Basketball</td>\n",
              "      <td>76.0</td>\n",
              "      <td>200</td>\n",
              "    </tr>\n",
              "    <tr>\n",
              "      <th>10</th>\n",
              "      <td>Nikki Blue</td>\n",
              "      <td>Basketball</td>\n",
              "      <td>68.0</td>\n",
              "      <td>163</td>\n",
              "    </tr>\n",
              "    <tr>\n",
              "      <th>11</th>\n",
              "      <td>Qiushuang Huang</td>\n",
              "      <td>Gymnastics</td>\n",
              "      <td>61.0</td>\n",
              "      <td>95</td>\n",
              "    </tr>\n",
              "    <tr>\n",
              "      <th>12</th>\n",
              "      <td>Rebecca Tunney</td>\n",
              "      <td>Gymnastics</td>\n",
              "      <td>NaN</td>\n",
              "      <td>77</td>\n",
              "    </tr>\n",
              "    <tr>\n",
              "      <th>13</th>\n",
              "      <td>Rene Kalmer</td>\n",
              "      <td>Track</td>\n",
              "      <td>70.0</td>\n",
              "      <td>108</td>\n",
              "    </tr>\n",
              "    <tr>\n",
              "      <th>14</th>\n",
              "      <td>Shanna Crossley</td>\n",
              "      <td>Basketball</td>\n",
              "      <td>70.0</td>\n",
              "      <td>155</td>\n",
              "    </tr>\n",
              "    <tr>\n",
              "      <th>15</th>\n",
              "      <td>Shavonte Zellous</td>\n",
              "      <td>Basketball</td>\n",
              "      <td>70.0</td>\n",
              "      <td>155</td>\n",
              "    </tr>\n",
              "    <tr>\n",
              "      <th>16</th>\n",
              "      <td>Tatyana Petrova</td>\n",
              "      <td>Track</td>\n",
              "      <td>63.0</td>\n",
              "      <td>108</td>\n",
              "    </tr>\n",
              "    <tr>\n",
              "      <th>17</th>\n",
              "      <td>Tiki Gelana</td>\n",
              "      <td>Track</td>\n",
              "      <td>65.0</td>\n",
              "      <td>106</td>\n",
              "    </tr>\n",
              "    <tr>\n",
              "      <th>18</th>\n",
              "      <td>Valeria Straneo</td>\n",
              "      <td>Track</td>\n",
              "      <td>66.0</td>\n",
              "      <td>97</td>\n",
              "    </tr>\n",
              "    <tr>\n",
              "      <th>19</th>\n",
              "      <td>Viktoria Komova</td>\n",
              "      <td>Gymnastics</td>\n",
              "      <td>61.0</td>\n",
              "      <td>76</td>\n",
              "    </tr>\n",
              "    <tr>\n",
              "      <th>20</th>\n",
              "      <td>Amy Cragg</td>\n",
              "      <td>NaN</td>\n",
              "      <td>64.0</td>\n",
              "      <td>99</td>\n",
              "    </tr>\n",
              "    <tr>\n",
              "      <th>21</th>\n",
              "      <td>Simone Biles</td>\n",
              "      <td>Gymnastics</td>\n",
              "      <td>57.0</td>\n",
              "      <td>104</td>\n",
              "    </tr>\n",
              "    <tr>\n",
              "      <th>22</th>\n",
              "      <td>Madison Kocian</td>\n",
              "      <td>Gymnastics</td>\n",
              "      <td>62.0</td>\n",
              "      <td>101</td>\n",
              "    </tr>\n",
              "    <tr>\n",
              "      <th>23</th>\n",
              "      <td>Elena Delle Donne</td>\n",
              "      <td>Basketball</td>\n",
              "      <td>77.0</td>\n",
              "      <td>188</td>\n",
              "    </tr>\n",
              "    <tr>\n",
              "      <th>24</th>\n",
              "      <td>Seimone Augustus</td>\n",
              "      <td>Basketball</td>\n",
              "      <td>72.0</td>\n",
              "      <td>166</td>\n",
              "    </tr>\n",
              "    <tr>\n",
              "      <th>25</th>\n",
              "      <td>Desiree Linden</td>\n",
              "      <td>Track</td>\n",
              "      <td>61.0</td>\n",
              "      <td>97</td>\n",
              "    </tr>\n",
              "    <tr>\n",
              "      <th>26</th>\n",
              "      <td>Shalane Flanagan</td>\n",
              "      <td>Track</td>\n",
              "      <td>65.0</td>\n",
              "      <td>106</td>\n",
              "    </tr>\n",
              "    <tr>\n",
              "      <th>27</th>\n",
              "      <td>Laurie Hernandez</td>\n",
              "      <td>Gymnastics</td>\n",
              "      <td>60.0</td>\n",
              "      <td>106</td>\n",
              "    </tr>\n",
              "  </tbody>\n",
              "</table>\n",
              "</div>"
            ],
            "text/plain": [
              "                 Name       Sport  Height  Weight\n",
              "0      Asuka Teramoto  Gymnastics    54.0      66\n",
              "1    Brittainey Raven  Basketball     NaN     162\n",
              "2            Chen Nan  Basketball    78.0     204\n",
              "3       Gabby Douglas  Gymnastics    49.0      90\n",
              "4    Helalia Johannes       Track    65.0      99\n",
              "5     Irina Miketenko       Track     NaN     106\n",
              "6       Jennifer Lacy  Basketball    75.0     175\n",
              "7        Kara Goucher       Track    67.0     123\n",
              "8         Linlin Deng  Gymnastics    54.0      68\n",
              "9       Nakia Sanford  Basketball    76.0     200\n",
              "10         Nikki Blue  Basketball    68.0     163\n",
              "11    Qiushuang Huang  Gymnastics    61.0      95\n",
              "12     Rebecca Tunney  Gymnastics     NaN      77\n",
              "13        Rene Kalmer       Track    70.0     108\n",
              "14    Shanna Crossley  Basketball    70.0     155\n",
              "15   Shavonte Zellous  Basketball    70.0     155\n",
              "16    Tatyana Petrova       Track    63.0     108\n",
              "17        Tiki Gelana       Track    65.0     106\n",
              "18    Valeria Straneo       Track    66.0      97\n",
              "19    Viktoria Komova  Gymnastics    61.0      76\n",
              "20          Amy Cragg         NaN    64.0      99\n",
              "21       Simone Biles  Gymnastics    57.0     104\n",
              "22     Madison Kocian  Gymnastics    62.0     101\n",
              "23  Elena Delle Donne  Basketball    77.0     188\n",
              "24   Seimone Augustus  Basketball    72.0     166\n",
              "25     Desiree Linden       Track    61.0      97\n",
              "26   Shalane Flanagan       Track    65.0     106\n",
              "27   Laurie Hernandez  Gymnastics    60.0     106"
            ]
          },
          "metadata": {
            "tags": []
          },
          "execution_count": 34
        }
      ]
    },
    {
      "cell_type": "markdown",
      "metadata": {
        "id": "YFBWBBOEYixV"
      },
      "source": [
        "We see that Brittainey Raven's height is now the floating point value NaN meaning Not a Number. This NaN value is used even in columns that do not contain floating point values. For example, in row 20 above, Amy Cragg has NaN in the Sport column. Wes McKinney, the developer of Pandas calls NaN a *sentinel* value that is easily detected and indicates a missing value.\n",
        "\n",
        "#### Adding a missing value by hand\n",
        "Suppose we didn't know the number of cylinders of a Ford F150:\n",
        "\n",
        "make | mpg | cylinders | HP | 0-60 |\n",
        "---- | :---: | :---: | :---: | :---: \n",
        "Fiat | 38 | 4 | 157   | 6.9 \n",
        "Ford F150 | 19 | - | 386 | 6.3 \n",
        "Mazda 3 | 37 | 4 | 155 |  7.5 \n",
        "Ford Escape | 27 | 4 | 245 | 7.1 \n",
        "Kia Soul | 31 | 4 | 164 | 8.5 \n",
        "\n",
        "In that case we can create a dataframe like:\n"
      ]
    },
    {
      "cell_type": "code",
      "metadata": {
        "id": "TT_mN4XcYixV",
        "outputId": "26952d6e-dc4f-4d03-9336-2141e4b96458"
      },
      "source": [
        "cars3 = {'make': Series(['Fiat 500', 'Ford F-150', 'Mazda 3', 'Ford Escape', 'Kia Soul']),\n",
        "        'mpg': Series([38, 19, 37, 27, 31]),\n",
        "        'cylinders': Series([4,np.nan, 4, 4, 4]),\n",
        "        'HP': [157, 386, 155, 245, 164],\n",
        "        '0-60': Series([6.9, 6.3, 7.5, 7.1, 8.5])}\n",
        "        \n",
        "carz = DataFrame(cars3)\n",
        "carz"
      ],
      "execution_count": null,
      "outputs": [
        {
          "output_type": "execute_result",
          "data": {
            "text/html": [
              "<div>\n",
              "<style scoped>\n",
              "    .dataframe tbody tr th:only-of-type {\n",
              "        vertical-align: middle;\n",
              "    }\n",
              "\n",
              "    .dataframe tbody tr th {\n",
              "        vertical-align: top;\n",
              "    }\n",
              "\n",
              "    .dataframe thead th {\n",
              "        text-align: right;\n",
              "    }\n",
              "</style>\n",
              "<table border=\"1\" class=\"dataframe\">\n",
              "  <thead>\n",
              "    <tr style=\"text-align: right;\">\n",
              "      <th></th>\n",
              "      <th>make</th>\n",
              "      <th>mpg</th>\n",
              "      <th>cylinders</th>\n",
              "      <th>HP</th>\n",
              "      <th>0-60</th>\n",
              "    </tr>\n",
              "  </thead>\n",
              "  <tbody>\n",
              "    <tr>\n",
              "      <th>0</th>\n",
              "      <td>Fiat 500</td>\n",
              "      <td>38</td>\n",
              "      <td>4.0</td>\n",
              "      <td>157</td>\n",
              "      <td>6.9</td>\n",
              "    </tr>\n",
              "    <tr>\n",
              "      <th>1</th>\n",
              "      <td>Ford F-150</td>\n",
              "      <td>19</td>\n",
              "      <td>NaN</td>\n",
              "      <td>386</td>\n",
              "      <td>6.3</td>\n",
              "    </tr>\n",
              "    <tr>\n",
              "      <th>2</th>\n",
              "      <td>Mazda 3</td>\n",
              "      <td>37</td>\n",
              "      <td>4.0</td>\n",
              "      <td>155</td>\n",
              "      <td>7.5</td>\n",
              "    </tr>\n",
              "    <tr>\n",
              "      <th>3</th>\n",
              "      <td>Ford Escape</td>\n",
              "      <td>27</td>\n",
              "      <td>4.0</td>\n",
              "      <td>245</td>\n",
              "      <td>7.1</td>\n",
              "    </tr>\n",
              "    <tr>\n",
              "      <th>4</th>\n",
              "      <td>Kia Soul</td>\n",
              "      <td>31</td>\n",
              "      <td>4.0</td>\n",
              "      <td>164</td>\n",
              "      <td>8.5</td>\n",
              "    </tr>\n",
              "  </tbody>\n",
              "</table>\n",
              "</div>"
            ],
            "text/plain": [
              "          make  mpg  cylinders   HP  0-60\n",
              "0     Fiat 500   38        4.0  157   6.9\n",
              "1   Ford F-150   19        NaN  386   6.3\n",
              "2      Mazda 3   37        4.0  155   7.5\n",
              "3  Ford Escape   27        4.0  245   7.1\n",
              "4     Kia Soul   31        4.0  164   8.5"
            ]
          },
          "metadata": {
            "tags": []
          },
          "execution_count": 21
        }
      ]
    },
    {
      "cell_type": "markdown",
      "metadata": {
        "id": "ggTh5KdiYixV"
      },
      "source": [
        "where `np.nan` is Numpy's NaN.  We can also use Python's `None`:\n"
      ]
    },
    {
      "cell_type": "code",
      "metadata": {
        "id": "K_PfDqXYYixW",
        "colab": {
          "base_uri": "https://localhost:8080/",
          "height": 204
        },
        "outputId": "53d8b8ed-bd56-4a09-ba5b-6276ae094721"
      },
      "source": [
        "cars3 = {'make': Series(['Fiat 500', 'Ford F-150', 'Mazda 3', 'Ford Escape', 'Kia Soul']),\n",
        "        'mpg': Series([38, 19, 37, 27, 31]),\n",
        "        'cylinders': Series([4,None, 4, 4, 4]),\n",
        "        'HP': [157, 386, 155, 245, 164],\n",
        "        '0-60': Series([6.9, 6.3, 7.5, 7.1, 8.5])}\n",
        "        \n",
        "carz = DataFrame(cars3)\n",
        "carz"
      ],
      "execution_count": 35,
      "outputs": [
        {
          "output_type": "execute_result",
          "data": {
            "text/html": [
              "<div>\n",
              "<style scoped>\n",
              "    .dataframe tbody tr th:only-of-type {\n",
              "        vertical-align: middle;\n",
              "    }\n",
              "\n",
              "    .dataframe tbody tr th {\n",
              "        vertical-align: top;\n",
              "    }\n",
              "\n",
              "    .dataframe thead th {\n",
              "        text-align: right;\n",
              "    }\n",
              "</style>\n",
              "<table border=\"1\" class=\"dataframe\">\n",
              "  <thead>\n",
              "    <tr style=\"text-align: right;\">\n",
              "      <th></th>\n",
              "      <th>make</th>\n",
              "      <th>mpg</th>\n",
              "      <th>cylinders</th>\n",
              "      <th>HP</th>\n",
              "      <th>0-60</th>\n",
              "    </tr>\n",
              "  </thead>\n",
              "  <tbody>\n",
              "    <tr>\n",
              "      <th>0</th>\n",
              "      <td>Fiat 500</td>\n",
              "      <td>38</td>\n",
              "      <td>4.0</td>\n",
              "      <td>157</td>\n",
              "      <td>6.9</td>\n",
              "    </tr>\n",
              "    <tr>\n",
              "      <th>1</th>\n",
              "      <td>Ford F-150</td>\n",
              "      <td>19</td>\n",
              "      <td>NaN</td>\n",
              "      <td>386</td>\n",
              "      <td>6.3</td>\n",
              "    </tr>\n",
              "    <tr>\n",
              "      <th>2</th>\n",
              "      <td>Mazda 3</td>\n",
              "      <td>37</td>\n",
              "      <td>4.0</td>\n",
              "      <td>155</td>\n",
              "      <td>7.5</td>\n",
              "    </tr>\n",
              "    <tr>\n",
              "      <th>3</th>\n",
              "      <td>Ford Escape</td>\n",
              "      <td>27</td>\n",
              "      <td>4.0</td>\n",
              "      <td>245</td>\n",
              "      <td>7.1</td>\n",
              "    </tr>\n",
              "    <tr>\n",
              "      <th>4</th>\n",
              "      <td>Kia Soul</td>\n",
              "      <td>31</td>\n",
              "      <td>4.0</td>\n",
              "      <td>164</td>\n",
              "      <td>8.5</td>\n",
              "    </tr>\n",
              "  </tbody>\n",
              "</table>\n",
              "</div>"
            ],
            "text/plain": [
              "          make  mpg  cylinders   HP  0-60\n",
              "0     Fiat 500   38        4.0  157   6.9\n",
              "1   Ford F-150   19        NaN  386   6.3\n",
              "2      Mazda 3   37        4.0  155   7.5\n",
              "3  Ford Escape   27        4.0  245   7.1\n",
              "4     Kia Soul   31        4.0  164   8.5"
            ]
          },
          "metadata": {
            "tags": []
          },
          "execution_count": 35
        }
      ]
    },
    {
      "cell_type": "markdown",
      "metadata": {
        "id": "RWzaPLNuYixW"
      },
      "source": [
        "In addition to reading CSV files, there are many other ways of reading in data including from SQL databases, mongoDB, and webpages. See the Pandas documentation for details.\n",
        "\n",
        "<h3 style=\"color:red\">Q2. Pima Indians Diabetes Dataset</h3>\n",
        "It is time to look at a new dataset, the Pima Indians Diabetes Data Set developed by the\n",
        "United States National Institute of Diabetes and Digestive and Kidney Diseases.\n",
        "\n",
        "The majority of the Pima people live on a reservation in Arizona.\n",
        "\n",
        "![](https://upload.wikimedia.org/wikipedia/commons/6/65/Pinal_County_Arizona_Incorporated_and_Unincorporated_areas_GRIC_highlighted.svg)\n",
        "\n",
        "Astonishingly, over 30% of Pima people develop diabetes. In contrast, the diabetes rate in\n",
        "the United States is around 12% and in China it is 4.2%. The country with the lowest rate of diabetes is Benin at 1.5%.\n",
        "\n",
        "Each instance in the dataset represents information about a Pima woman over the age of 21\n",
        "and belonged to one of two classes: a person who developed diabetes within five years, or a\n",
        "person that did not. There are eight attributes in addition to the column representing whether or not they developed diabetes:\n",
        "\n",
        "\n",
        "1.  The number of times the woman was pregnant\n",
        "2.  Plasma glucose concentration a 2 hours in an oral glucose tolerance test \n",
        "3.  Diastolic blood pressure (mm Hg)\n",
        "4.  Triceps skin fold thickness (mm) \n",
        "5.  2-Hour serum insulin (mu U/ml) \n",
        "6.  Body mass index (weight in kg/(height in m)^2) \n",
        "7.  Diabetes pedigree function \n",
        "8.  Age\n",
        "9.  Whether they got diabetes or not (0 = no, 1 = yes)\n",
        "\n",
        "\n",
        "<span style=\"color:red\">Please create a dataframe from the csv file at </span>\n",
        "\n",
        "    https://raw.githubusercontent.com/zacharski/ml-class/master/data/pima-indians-diabetes.csv\n",
        "    \n",
        "<span style=\"color:red\">This file does not have a header row</span>"
      ]
    },
    {
      "cell_type": "code",
      "metadata": {
        "id": "NSZYQXLIYixX"
      },
      "source": [
        "#Your code here\n",
        "!curl https://raw.githubusercontent.com/zacharski/ml-class/master/data/pima-indians-diabetes.csv\n"
      ],
      "execution_count": null,
      "outputs": []
    },
    {
      "cell_type": "code",
      "metadata": {
        "id": "GHQgE1UvYixX",
        "colab": {
          "base_uri": "https://localhost:8080/",
          "height": 419
        },
        "outputId": "d5d126f6-8a46-44e5-9985-106410e9dc8f"
      },
      "source": [
        "## Your code here\n",
        "pima = pd.read_csv('https://raw.githubusercontent.com/zacharski/ml-class/master/data/pima-indians-diabetes.csv', names = ['numPreg', 'plasgluc', 'dbp', 'trithick', 'insulin', 'bmi', 'dpf', 'age','diabetes'])\n",
        "pima"
      ],
      "execution_count": 50,
      "outputs": [
        {
          "output_type": "execute_result",
          "data": {
            "text/html": [
              "<div>\n",
              "<style scoped>\n",
              "    .dataframe tbody tr th:only-of-type {\n",
              "        vertical-align: middle;\n",
              "    }\n",
              "\n",
              "    .dataframe tbody tr th {\n",
              "        vertical-align: top;\n",
              "    }\n",
              "\n",
              "    .dataframe thead th {\n",
              "        text-align: right;\n",
              "    }\n",
              "</style>\n",
              "<table border=\"1\" class=\"dataframe\">\n",
              "  <thead>\n",
              "    <tr style=\"text-align: right;\">\n",
              "      <th></th>\n",
              "      <th>numPreg</th>\n",
              "      <th>plasgluc</th>\n",
              "      <th>dbp</th>\n",
              "      <th>trithick</th>\n",
              "      <th>insulin</th>\n",
              "      <th>bmi</th>\n",
              "      <th>dpf</th>\n",
              "      <th>age</th>\n",
              "      <th>diabetes</th>\n",
              "    </tr>\n",
              "  </thead>\n",
              "  <tbody>\n",
              "    <tr>\n",
              "      <th>0</th>\n",
              "      <td>6</td>\n",
              "      <td>148</td>\n",
              "      <td>72</td>\n",
              "      <td>35</td>\n",
              "      <td>0</td>\n",
              "      <td>33.6</td>\n",
              "      <td>0.627</td>\n",
              "      <td>50</td>\n",
              "      <td>1</td>\n",
              "    </tr>\n",
              "    <tr>\n",
              "      <th>1</th>\n",
              "      <td>1</td>\n",
              "      <td>85</td>\n",
              "      <td>66</td>\n",
              "      <td>29</td>\n",
              "      <td>0</td>\n",
              "      <td>26.6</td>\n",
              "      <td>0.351</td>\n",
              "      <td>31</td>\n",
              "      <td>0</td>\n",
              "    </tr>\n",
              "    <tr>\n",
              "      <th>2</th>\n",
              "      <td>8</td>\n",
              "      <td>183</td>\n",
              "      <td>64</td>\n",
              "      <td>0</td>\n",
              "      <td>0</td>\n",
              "      <td>23.3</td>\n",
              "      <td>0.672</td>\n",
              "      <td>32</td>\n",
              "      <td>1</td>\n",
              "    </tr>\n",
              "    <tr>\n",
              "      <th>3</th>\n",
              "      <td>1</td>\n",
              "      <td>89</td>\n",
              "      <td>66</td>\n",
              "      <td>23</td>\n",
              "      <td>94</td>\n",
              "      <td>28.1</td>\n",
              "      <td>0.167</td>\n",
              "      <td>21</td>\n",
              "      <td>0</td>\n",
              "    </tr>\n",
              "    <tr>\n",
              "      <th>4</th>\n",
              "      <td>0</td>\n",
              "      <td>137</td>\n",
              "      <td>40</td>\n",
              "      <td>35</td>\n",
              "      <td>168</td>\n",
              "      <td>43.1</td>\n",
              "      <td>2.288</td>\n",
              "      <td>33</td>\n",
              "      <td>1</td>\n",
              "    </tr>\n",
              "    <tr>\n",
              "      <th>...</th>\n",
              "      <td>...</td>\n",
              "      <td>...</td>\n",
              "      <td>...</td>\n",
              "      <td>...</td>\n",
              "      <td>...</td>\n",
              "      <td>...</td>\n",
              "      <td>...</td>\n",
              "      <td>...</td>\n",
              "      <td>...</td>\n",
              "    </tr>\n",
              "    <tr>\n",
              "      <th>763</th>\n",
              "      <td>10</td>\n",
              "      <td>101</td>\n",
              "      <td>76</td>\n",
              "      <td>48</td>\n",
              "      <td>180</td>\n",
              "      <td>32.9</td>\n",
              "      <td>0.171</td>\n",
              "      <td>63</td>\n",
              "      <td>0</td>\n",
              "    </tr>\n",
              "    <tr>\n",
              "      <th>764</th>\n",
              "      <td>2</td>\n",
              "      <td>122</td>\n",
              "      <td>70</td>\n",
              "      <td>27</td>\n",
              "      <td>0</td>\n",
              "      <td>36.8</td>\n",
              "      <td>0.340</td>\n",
              "      <td>27</td>\n",
              "      <td>0</td>\n",
              "    </tr>\n",
              "    <tr>\n",
              "      <th>765</th>\n",
              "      <td>5</td>\n",
              "      <td>121</td>\n",
              "      <td>72</td>\n",
              "      <td>23</td>\n",
              "      <td>112</td>\n",
              "      <td>26.2</td>\n",
              "      <td>0.245</td>\n",
              "      <td>30</td>\n",
              "      <td>0</td>\n",
              "    </tr>\n",
              "    <tr>\n",
              "      <th>766</th>\n",
              "      <td>1</td>\n",
              "      <td>126</td>\n",
              "      <td>60</td>\n",
              "      <td>0</td>\n",
              "      <td>0</td>\n",
              "      <td>30.1</td>\n",
              "      <td>0.349</td>\n",
              "      <td>47</td>\n",
              "      <td>1</td>\n",
              "    </tr>\n",
              "    <tr>\n",
              "      <th>767</th>\n",
              "      <td>1</td>\n",
              "      <td>93</td>\n",
              "      <td>70</td>\n",
              "      <td>31</td>\n",
              "      <td>0</td>\n",
              "      <td>30.4</td>\n",
              "      <td>0.315</td>\n",
              "      <td>23</td>\n",
              "      <td>0</td>\n",
              "    </tr>\n",
              "  </tbody>\n",
              "</table>\n",
              "<p>768 rows × 9 columns</p>\n",
              "</div>"
            ],
            "text/plain": [
              "     numPreg  plasgluc  dbp  trithick  insulin   bmi    dpf  age  diabetes\n",
              "0          6       148   72        35        0  33.6  0.627   50         1\n",
              "1          1        85   66        29        0  26.6  0.351   31         0\n",
              "2          8       183   64         0        0  23.3  0.672   32         1\n",
              "3          1        89   66        23       94  28.1  0.167   21         0\n",
              "4          0       137   40        35      168  43.1  2.288   33         1\n",
              "..       ...       ...  ...       ...      ...   ...    ...  ...       ...\n",
              "763       10       101   76        48      180  32.9  0.171   63         0\n",
              "764        2       122   70        27        0  36.8  0.340   27         0\n",
              "765        5       121   72        23      112  26.2  0.245   30         0\n",
              "766        1       126   60         0        0  30.1  0.349   47         1\n",
              "767        1        93   70        31        0  30.4  0.315   23         0\n",
              "\n",
              "[768 rows x 9 columns]"
            ]
          },
          "metadata": {
            "tags": []
          },
          "execution_count": 50
        }
      ]
    },
    {
      "cell_type": "markdown",
      "metadata": {
        "id": "vDJ1dPD7YixX"
      },
      "source": [
        "## Accessing data in a DataFrame\n",
        "We can get a column of a DataFrame by using the column name:"
      ]
    },
    {
      "cell_type": "code",
      "metadata": {
        "id": "ekjtSzmNYixX",
        "outputId": "8f40180b-834b-4bdb-c1e1-0efd9519e415"
      },
      "source": [
        "athletes['Weight']"
      ],
      "execution_count": null,
      "outputs": [
        {
          "output_type": "execute_result",
          "data": {
            "text/plain": [
              "0      66\n",
              "1     162\n",
              "2     204\n",
              "3      90\n",
              "4      99\n",
              "5     106\n",
              "6     175\n",
              "7     123\n",
              "8      68\n",
              "9     200\n",
              "10    163\n",
              "11     95\n",
              "12     77\n",
              "13    108\n",
              "14    155\n",
              "15    155\n",
              "16    108\n",
              "17    106\n",
              "18     97\n",
              "19     76\n",
              "20     99\n",
              "21    104\n",
              "22    101\n",
              "23    188\n",
              "24    166\n",
              "25     97\n",
              "26    106\n",
              "27    106\n",
              "Name: Weight, dtype: int64"
            ]
          },
          "metadata": {
            "tags": []
          },
          "execution_count": 25
        }
      ]
    },
    {
      "cell_type": "markdown",
      "metadata": {
        "id": "zcaszozAYixY"
      },
      "source": [
        "and we can get multiple columns by passing a list of column names"
      ]
    },
    {
      "cell_type": "code",
      "metadata": {
        "id": "wM8oCSOxYixY",
        "outputId": "dd8cd878-1364-426a-fa85-d55c704a8fe2"
      },
      "source": [
        "athletes[['Weight', 'Height']]"
      ],
      "execution_count": null,
      "outputs": [
        {
          "output_type": "execute_result",
          "data": {
            "text/html": [
              "<div>\n",
              "<table border=\"1\" class=\"dataframe\">\n",
              "  <thead>\n",
              "    <tr style=\"text-align: right;\">\n",
              "      <th></th>\n",
              "      <th>Weight</th>\n",
              "      <th>Height</th>\n",
              "    </tr>\n",
              "  </thead>\n",
              "  <tbody>\n",
              "    <tr>\n",
              "      <th>0</th>\n",
              "      <td>66</td>\n",
              "      <td>54</td>\n",
              "    </tr>\n",
              "    <tr>\n",
              "      <th>1</th>\n",
              "      <td>162</td>\n",
              "      <td>72</td>\n",
              "    </tr>\n",
              "    <tr>\n",
              "      <th>2</th>\n",
              "      <td>204</td>\n",
              "      <td>78</td>\n",
              "    </tr>\n",
              "    <tr>\n",
              "      <th>3</th>\n",
              "      <td>90</td>\n",
              "      <td>49</td>\n",
              "    </tr>\n",
              "    <tr>\n",
              "      <th>4</th>\n",
              "      <td>99</td>\n",
              "      <td>65</td>\n",
              "    </tr>\n",
              "    <tr>\n",
              "      <th>5</th>\n",
              "      <td>106</td>\n",
              "      <td>63</td>\n",
              "    </tr>\n",
              "    <tr>\n",
              "      <th>6</th>\n",
              "      <td>175</td>\n",
              "      <td>75</td>\n",
              "    </tr>\n",
              "    <tr>\n",
              "      <th>7</th>\n",
              "      <td>123</td>\n",
              "      <td>67</td>\n",
              "    </tr>\n",
              "    <tr>\n",
              "      <th>8</th>\n",
              "      <td>68</td>\n",
              "      <td>54</td>\n",
              "    </tr>\n",
              "    <tr>\n",
              "      <th>9</th>\n",
              "      <td>200</td>\n",
              "      <td>76</td>\n",
              "    </tr>\n",
              "    <tr>\n",
              "      <th>10</th>\n",
              "      <td>163</td>\n",
              "      <td>68</td>\n",
              "    </tr>\n",
              "    <tr>\n",
              "      <th>11</th>\n",
              "      <td>95</td>\n",
              "      <td>61</td>\n",
              "    </tr>\n",
              "    <tr>\n",
              "      <th>12</th>\n",
              "      <td>77</td>\n",
              "      <td>58</td>\n",
              "    </tr>\n",
              "    <tr>\n",
              "      <th>13</th>\n",
              "      <td>108</td>\n",
              "      <td>70</td>\n",
              "    </tr>\n",
              "    <tr>\n",
              "      <th>14</th>\n",
              "      <td>155</td>\n",
              "      <td>70</td>\n",
              "    </tr>\n",
              "    <tr>\n",
              "      <th>15</th>\n",
              "      <td>155</td>\n",
              "      <td>70</td>\n",
              "    </tr>\n",
              "    <tr>\n",
              "      <th>16</th>\n",
              "      <td>108</td>\n",
              "      <td>63</td>\n",
              "    </tr>\n",
              "    <tr>\n",
              "      <th>17</th>\n",
              "      <td>106</td>\n",
              "      <td>65</td>\n",
              "    </tr>\n",
              "    <tr>\n",
              "      <th>18</th>\n",
              "      <td>97</td>\n",
              "      <td>66</td>\n",
              "    </tr>\n",
              "    <tr>\n",
              "      <th>19</th>\n",
              "      <td>76</td>\n",
              "      <td>61</td>\n",
              "    </tr>\n",
              "    <tr>\n",
              "      <th>20</th>\n",
              "      <td>99</td>\n",
              "      <td>64</td>\n",
              "    </tr>\n",
              "    <tr>\n",
              "      <th>21</th>\n",
              "      <td>104</td>\n",
              "      <td>57</td>\n",
              "    </tr>\n",
              "    <tr>\n",
              "      <th>22</th>\n",
              "      <td>101</td>\n",
              "      <td>62</td>\n",
              "    </tr>\n",
              "    <tr>\n",
              "      <th>23</th>\n",
              "      <td>188</td>\n",
              "      <td>77</td>\n",
              "    </tr>\n",
              "    <tr>\n",
              "      <th>24</th>\n",
              "      <td>166</td>\n",
              "      <td>72</td>\n",
              "    </tr>\n",
              "    <tr>\n",
              "      <th>25</th>\n",
              "      <td>97</td>\n",
              "      <td>61</td>\n",
              "    </tr>\n",
              "    <tr>\n",
              "      <th>26</th>\n",
              "      <td>106</td>\n",
              "      <td>65</td>\n",
              "    </tr>\n",
              "    <tr>\n",
              "      <th>27</th>\n",
              "      <td>106</td>\n",
              "      <td>60</td>\n",
              "    </tr>\n",
              "  </tbody>\n",
              "</table>\n",
              "</div>"
            ],
            "text/plain": [
              "    Weight  Height\n",
              "0       66      54\n",
              "1      162      72\n",
              "2      204      78\n",
              "3       90      49\n",
              "4       99      65\n",
              "5      106      63\n",
              "6      175      75\n",
              "7      123      67\n",
              "8       68      54\n",
              "9      200      76\n",
              "10     163      68\n",
              "11      95      61\n",
              "12      77      58\n",
              "13     108      70\n",
              "14     155      70\n",
              "15     155      70\n",
              "16     108      63\n",
              "17     106      65\n",
              "18      97      66\n",
              "19      76      61\n",
              "20      99      64\n",
              "21     104      57\n",
              "22     101      62\n",
              "23     188      77\n",
              "24     166      72\n",
              "25      97      61\n",
              "26     106      65\n",
              "27     106      60"
            ]
          },
          "metadata": {
            "tags": []
          },
          "execution_count": 26
        }
      ]
    },
    {
      "cell_type": "markdown",
      "metadata": {
        "id": "HFNI8QKUYixY"
      },
      "source": [
        "<h3 style=\"color:red\">Q3. Pima Indians Diabetes Dataframe</h3>\n",
        "\n",
        "<span style=\"color:red\">Suppose we want to create a new dataframe `pima2` from the original one but with only the columns</span>\n",
        "\n",
        "\n",
        "\n",
        "1.  Plasma glucose concentration a 2 hours in an oral glucose tolerance test \n",
        "2.  2-Hour serum insulin (mu U/ml) \n",
        "3.  Body mass index (weight in kg/(height in m)^2) \n",
        "4.  Diabetes pedigree function \n",
        "5.  Age\n",
        "6.  Whether they got diabetes or not (0 = no, 1 = yes)\n",
        "\n",
        "\n",
        "<span style=\"color:red\">How would you do so?</span>\n"
      ]
    },
    {
      "cell_type": "code",
      "metadata": {
        "collapsed": true,
        "id": "KjFUF6rIYixZ"
      },
      "source": [
        "# your code here\n",
        "pima2 = pima[['plasgluc', 'insulin', 'bmi', 'dpf', 'age', 'diabetes']]"
      ],
      "execution_count": 48,
      "outputs": []
    },
    {
      "cell_type": "markdown",
      "metadata": {
        "id": "BCDVcFn3YixZ"
      },
      "source": [
        "### Returning rows\n",
        "\n",
        "To get a row we can use the `loc` function"
      ]
    },
    {
      "cell_type": "code",
      "metadata": {
        "id": "MSDYIm3cYixZ",
        "colab": {
          "base_uri": "https://localhost:8080/"
        },
        "outputId": "7e6d7c66-e3fa-4e42-bf08-7ac588398125"
      },
      "source": [
        "athletes.loc[0]\n",
        "pima2.loc[2]"
      ],
      "execution_count": 49,
      "outputs": [
        {
          "output_type": "execute_result",
          "data": {
            "text/plain": [
              "plasgluc    183.000\n",
              "insulin       0.000\n",
              "bmi          23.300\n",
              "dpf           0.672\n",
              "age          32.000\n",
              "diabetes      1.000\n",
              "Name: 2, dtype: float64"
            ]
          },
          "metadata": {
            "tags": []
          },
          "execution_count": 49
        }
      ]
    },
    {
      "cell_type": "markdown",
      "metadata": {
        "id": "QqHEsRNFYixd"
      },
      "source": [
        "We can also get rows that match a specific criterion. For example:"
      ]
    },
    {
      "cell_type": "code",
      "metadata": {
        "id": "nGVmuA9QYixe",
        "outputId": "2cd71651-f84e-45c2-eda4-a45f40e1162f"
      },
      "source": [
        "basketballPlayers = athletes.loc[athletes['Sport'] == 'Basketball']\n",
        "basketballPlayers"
      ],
      "execution_count": null,
      "outputs": [
        {
          "output_type": "execute_result",
          "data": {
            "text/html": [
              "<div>\n",
              "<style scoped>\n",
              "    .dataframe tbody tr th:only-of-type {\n",
              "        vertical-align: middle;\n",
              "    }\n",
              "\n",
              "    .dataframe tbody tr th {\n",
              "        vertical-align: top;\n",
              "    }\n",
              "\n",
              "    .dataframe thead th {\n",
              "        text-align: right;\n",
              "    }\n",
              "</style>\n",
              "<table border=\"1\" class=\"dataframe\">\n",
              "  <thead>\n",
              "    <tr style=\"text-align: right;\">\n",
              "      <th></th>\n",
              "      <th>Name</th>\n",
              "      <th>Sport</th>\n",
              "      <th>Height</th>\n",
              "      <th>Weight</th>\n",
              "    </tr>\n",
              "  </thead>\n",
              "  <tbody>\n",
              "    <tr>\n",
              "      <th>1</th>\n",
              "      <td>Brittainey Raven</td>\n",
              "      <td>Basketball</td>\n",
              "      <td>72</td>\n",
              "      <td>162</td>\n",
              "    </tr>\n",
              "    <tr>\n",
              "      <th>2</th>\n",
              "      <td>Chen Nan</td>\n",
              "      <td>Basketball</td>\n",
              "      <td>78</td>\n",
              "      <td>204</td>\n",
              "    </tr>\n",
              "    <tr>\n",
              "      <th>6</th>\n",
              "      <td>Jennifer Lacy</td>\n",
              "      <td>Basketball</td>\n",
              "      <td>75</td>\n",
              "      <td>175</td>\n",
              "    </tr>\n",
              "    <tr>\n",
              "      <th>9</th>\n",
              "      <td>Nakia Sanford</td>\n",
              "      <td>Basketball</td>\n",
              "      <td>76</td>\n",
              "      <td>200</td>\n",
              "    </tr>\n",
              "    <tr>\n",
              "      <th>10</th>\n",
              "      <td>Nikki Blue</td>\n",
              "      <td>Basketball</td>\n",
              "      <td>68</td>\n",
              "      <td>163</td>\n",
              "    </tr>\n",
              "    <tr>\n",
              "      <th>14</th>\n",
              "      <td>Shanna Crossley</td>\n",
              "      <td>Basketball</td>\n",
              "      <td>70</td>\n",
              "      <td>155</td>\n",
              "    </tr>\n",
              "    <tr>\n",
              "      <th>15</th>\n",
              "      <td>Shavonte Zellous</td>\n",
              "      <td>Basketball</td>\n",
              "      <td>70</td>\n",
              "      <td>155</td>\n",
              "    </tr>\n",
              "    <tr>\n",
              "      <th>23</th>\n",
              "      <td>Elena Delle Donne</td>\n",
              "      <td>Basketball</td>\n",
              "      <td>77</td>\n",
              "      <td>188</td>\n",
              "    </tr>\n",
              "    <tr>\n",
              "      <th>24</th>\n",
              "      <td>Seimone Augustus</td>\n",
              "      <td>Basketball</td>\n",
              "      <td>72</td>\n",
              "      <td>166</td>\n",
              "    </tr>\n",
              "  </tbody>\n",
              "</table>\n",
              "</div>"
            ],
            "text/plain": [
              "                 Name       Sport  Height  Weight\n",
              "1    Brittainey Raven  Basketball      72     162\n",
              "2            Chen Nan  Basketball      78     204\n",
              "6       Jennifer Lacy  Basketball      75     175\n",
              "9       Nakia Sanford  Basketball      76     200\n",
              "10         Nikki Blue  Basketball      68     163\n",
              "14    Shanna Crossley  Basketball      70     155\n",
              "15   Shavonte Zellous  Basketball      70     155\n",
              "23  Elena Delle Donne  Basketball      77     188\n",
              "24   Seimone Augustus  Basketball      72     166"
            ]
          },
          "metadata": {
            "tags": []
          },
          "execution_count": 24
        }
      ]
    },
    {
      "cell_type": "code",
      "metadata": {
        "id": "hYcq9ZGPYixe",
        "outputId": "ce944d1c-05ec-4bdf-bf8c-39cff6ef90bf"
      },
      "source": [
        "tallBasketballPlayers = athletes.loc[(athletes['Sport'] == 'Basketball') & (athletes['Height'] > 72)]\n",
        "tallBasketballPlayers"
      ],
      "execution_count": null,
      "outputs": [
        {
          "output_type": "execute_result",
          "data": {
            "text/html": [
              "<div>\n",
              "<style scoped>\n",
              "    .dataframe tbody tr th:only-of-type {\n",
              "        vertical-align: middle;\n",
              "    }\n",
              "\n",
              "    .dataframe tbody tr th {\n",
              "        vertical-align: top;\n",
              "    }\n",
              "\n",
              "    .dataframe thead th {\n",
              "        text-align: right;\n",
              "    }\n",
              "</style>\n",
              "<table border=\"1\" class=\"dataframe\">\n",
              "  <thead>\n",
              "    <tr style=\"text-align: right;\">\n",
              "      <th></th>\n",
              "      <th>Name</th>\n",
              "      <th>Sport</th>\n",
              "      <th>Height</th>\n",
              "      <th>Weight</th>\n",
              "    </tr>\n",
              "  </thead>\n",
              "  <tbody>\n",
              "    <tr>\n",
              "      <th>2</th>\n",
              "      <td>Chen Nan</td>\n",
              "      <td>Basketball</td>\n",
              "      <td>78</td>\n",
              "      <td>204</td>\n",
              "    </tr>\n",
              "    <tr>\n",
              "      <th>6</th>\n",
              "      <td>Jennifer Lacy</td>\n",
              "      <td>Basketball</td>\n",
              "      <td>75</td>\n",
              "      <td>175</td>\n",
              "    </tr>\n",
              "    <tr>\n",
              "      <th>9</th>\n",
              "      <td>Nakia Sanford</td>\n",
              "      <td>Basketball</td>\n",
              "      <td>76</td>\n",
              "      <td>200</td>\n",
              "    </tr>\n",
              "    <tr>\n",
              "      <th>23</th>\n",
              "      <td>Elena Delle Donne</td>\n",
              "      <td>Basketball</td>\n",
              "      <td>77</td>\n",
              "      <td>188</td>\n",
              "    </tr>\n",
              "  </tbody>\n",
              "</table>\n",
              "</div>"
            ],
            "text/plain": [
              "                 Name       Sport  Height  Weight\n",
              "2            Chen Nan  Basketball      78     204\n",
              "6       Jennifer Lacy  Basketball      75     175\n",
              "9       Nakia Sanford  Basketball      76     200\n",
              "23  Elena Delle Donne  Basketball      77     188"
            ]
          },
          "metadata": {
            "tags": []
          },
          "execution_count": 25
        }
      ]
    },
    {
      "cell_type": "markdown",
      "metadata": {
        "id": "cNh00OLeYixe"
      },
      "source": [
        "<span style=\"color:red\">How would we create a new DataFrame that has all the athletes who weight under 100 pounds?</span>"
      ]
    },
    {
      "cell_type": "code",
      "metadata": {
        "id": "nutNuGduYixf",
        "colab": {
          "base_uri": "https://localhost:8080/",
          "height": 359
        },
        "outputId": "578ca95d-efc9-4d1b-ab3b-2b6f980985e3"
      },
      "source": [
        "lightathletes = athletes.loc[athletes['Weight'] < 100]\n",
        "lightathletes"
      ],
      "execution_count": 58,
      "outputs": [
        {
          "output_type": "execute_result",
          "data": {
            "text/html": [
              "<div>\n",
              "<style scoped>\n",
              "    .dataframe tbody tr th:only-of-type {\n",
              "        vertical-align: middle;\n",
              "    }\n",
              "\n",
              "    .dataframe tbody tr th {\n",
              "        vertical-align: top;\n",
              "    }\n",
              "\n",
              "    .dataframe thead th {\n",
              "        text-align: right;\n",
              "    }\n",
              "</style>\n",
              "<table border=\"1\" class=\"dataframe\">\n",
              "  <thead>\n",
              "    <tr style=\"text-align: right;\">\n",
              "      <th></th>\n",
              "      <th>Name</th>\n",
              "      <th>Sport</th>\n",
              "      <th>Height</th>\n",
              "      <th>Weight</th>\n",
              "    </tr>\n",
              "  </thead>\n",
              "  <tbody>\n",
              "    <tr>\n",
              "      <th>0</th>\n",
              "      <td>Asuka Teramoto</td>\n",
              "      <td>Gymnastics</td>\n",
              "      <td>54</td>\n",
              "      <td>66</td>\n",
              "    </tr>\n",
              "    <tr>\n",
              "      <th>3</th>\n",
              "      <td>Gabby Douglas</td>\n",
              "      <td>Gymnastics</td>\n",
              "      <td>49</td>\n",
              "      <td>90</td>\n",
              "    </tr>\n",
              "    <tr>\n",
              "      <th>4</th>\n",
              "      <td>Helalia Johannes</td>\n",
              "      <td>Track</td>\n",
              "      <td>65</td>\n",
              "      <td>99</td>\n",
              "    </tr>\n",
              "    <tr>\n",
              "      <th>8</th>\n",
              "      <td>Linlin Deng</td>\n",
              "      <td>Gymnastics</td>\n",
              "      <td>54</td>\n",
              "      <td>68</td>\n",
              "    </tr>\n",
              "    <tr>\n",
              "      <th>11</th>\n",
              "      <td>Qiushuang Huang</td>\n",
              "      <td>Gymnastics</td>\n",
              "      <td>61</td>\n",
              "      <td>95</td>\n",
              "    </tr>\n",
              "    <tr>\n",
              "      <th>12</th>\n",
              "      <td>Rebecca Tunney</td>\n",
              "      <td>Gymnastics</td>\n",
              "      <td>58</td>\n",
              "      <td>77</td>\n",
              "    </tr>\n",
              "    <tr>\n",
              "      <th>18</th>\n",
              "      <td>Valeria Straneo</td>\n",
              "      <td>Track</td>\n",
              "      <td>66</td>\n",
              "      <td>97</td>\n",
              "    </tr>\n",
              "    <tr>\n",
              "      <th>19</th>\n",
              "      <td>Viktoria Komova</td>\n",
              "      <td>Gymnastics</td>\n",
              "      <td>61</td>\n",
              "      <td>76</td>\n",
              "    </tr>\n",
              "    <tr>\n",
              "      <th>20</th>\n",
              "      <td>Amy Cragg</td>\n",
              "      <td>Track</td>\n",
              "      <td>64</td>\n",
              "      <td>99</td>\n",
              "    </tr>\n",
              "    <tr>\n",
              "      <th>25</th>\n",
              "      <td>Desiree Linden</td>\n",
              "      <td>Track</td>\n",
              "      <td>61</td>\n",
              "      <td>97</td>\n",
              "    </tr>\n",
              "  </tbody>\n",
              "</table>\n",
              "</div>"
            ],
            "text/plain": [
              "                Name       Sport  Height  Weight\n",
              "0     Asuka Teramoto  Gymnastics      54      66\n",
              "3      Gabby Douglas  Gymnastics      49      90\n",
              "4   Helalia Johannes       Track      65      99\n",
              "8        Linlin Deng  Gymnastics      54      68\n",
              "11   Qiushuang Huang  Gymnastics      61      95\n",
              "12    Rebecca Tunney  Gymnastics      58      77\n",
              "18   Valeria Straneo       Track      66      97\n",
              "19   Viktoria Komova  Gymnastics      61      76\n",
              "20         Amy Cragg       Track      64      99\n",
              "25    Desiree Linden       Track      61      97"
            ]
          },
          "metadata": {
            "tags": []
          },
          "execution_count": 58
        }
      ]
    },
    {
      "cell_type": "markdown",
      "metadata": {
        "id": "aJ6zFGP9Yixf"
      },
      "source": [
        "We can add columns to a DataFrame.\n",
        "For example the formula for Body Mass Index is\n",
        "\n",
        "$$BMI = \\frac{weightInPounds}{heightInInches^2} \\times 703 $$"
      ]
    },
    {
      "cell_type": "code",
      "metadata": {
        "id": "sLYBX55OYixf"
      },
      "source": [
        "athletes['bmi'] = 703 *(athletes['Weight'] / (athletes['Height']**2))"
      ],
      "execution_count": 64,
      "outputs": []
    },
    {
      "cell_type": "code",
      "metadata": {
        "id": "rlQMMt14Yixg",
        "colab": {
          "base_uri": "https://localhost:8080/",
          "height": 917
        },
        "outputId": "7eabfa0f-b18a-47cc-9dcb-7f36daba7804"
      },
      "source": [
        "athletes"
      ],
      "execution_count": 63,
      "outputs": [
        {
          "output_type": "execute_result",
          "data": {
            "text/html": [
              "<div>\n",
              "<style scoped>\n",
              "    .dataframe tbody tr th:only-of-type {\n",
              "        vertical-align: middle;\n",
              "    }\n",
              "\n",
              "    .dataframe tbody tr th {\n",
              "        vertical-align: top;\n",
              "    }\n",
              "\n",
              "    .dataframe thead th {\n",
              "        text-align: right;\n",
              "    }\n",
              "</style>\n",
              "<table border=\"1\" class=\"dataframe\">\n",
              "  <thead>\n",
              "    <tr style=\"text-align: right;\">\n",
              "      <th></th>\n",
              "      <th>Name</th>\n",
              "      <th>Sport</th>\n",
              "      <th>Height</th>\n",
              "      <th>Weight</th>\n",
              "      <th>bmi</th>\n",
              "    </tr>\n",
              "  </thead>\n",
              "  <tbody>\n",
              "    <tr>\n",
              "      <th>0</th>\n",
              "      <td>Asuka Teramoto</td>\n",
              "      <td>Gymnastics</td>\n",
              "      <td>54</td>\n",
              "      <td>66</td>\n",
              "      <td>15.911523</td>\n",
              "    </tr>\n",
              "    <tr>\n",
              "      <th>1</th>\n",
              "      <td>Brittainey Raven</td>\n",
              "      <td>Basketball</td>\n",
              "      <td>72</td>\n",
              "      <td>162</td>\n",
              "      <td>21.968750</td>\n",
              "    </tr>\n",
              "    <tr>\n",
              "      <th>2</th>\n",
              "      <td>Chen Nan</td>\n",
              "      <td>Basketball</td>\n",
              "      <td>78</td>\n",
              "      <td>204</td>\n",
              "      <td>23.571992</td>\n",
              "    </tr>\n",
              "    <tr>\n",
              "      <th>3</th>\n",
              "      <td>Gabby Douglas</td>\n",
              "      <td>Gymnastics</td>\n",
              "      <td>49</td>\n",
              "      <td>90</td>\n",
              "      <td>26.351520</td>\n",
              "    </tr>\n",
              "    <tr>\n",
              "      <th>4</th>\n",
              "      <td>Helalia Johannes</td>\n",
              "      <td>Track</td>\n",
              "      <td>65</td>\n",
              "      <td>99</td>\n",
              "      <td>16.472663</td>\n",
              "    </tr>\n",
              "    <tr>\n",
              "      <th>5</th>\n",
              "      <td>Irina Miketenko</td>\n",
              "      <td>Track</td>\n",
              "      <td>63</td>\n",
              "      <td>106</td>\n",
              "      <td>18.775006</td>\n",
              "    </tr>\n",
              "    <tr>\n",
              "      <th>6</th>\n",
              "      <td>Jennifer Lacy</td>\n",
              "      <td>Basketball</td>\n",
              "      <td>75</td>\n",
              "      <td>175</td>\n",
              "      <td>21.871111</td>\n",
              "    </tr>\n",
              "    <tr>\n",
              "      <th>7</th>\n",
              "      <td>Kara Goucher</td>\n",
              "      <td>Track</td>\n",
              "      <td>67</td>\n",
              "      <td>123</td>\n",
              "      <td>19.262419</td>\n",
              "    </tr>\n",
              "    <tr>\n",
              "      <th>8</th>\n",
              "      <td>Linlin Deng</td>\n",
              "      <td>Gymnastics</td>\n",
              "      <td>54</td>\n",
              "      <td>68</td>\n",
              "      <td>16.393690</td>\n",
              "    </tr>\n",
              "    <tr>\n",
              "      <th>9</th>\n",
              "      <td>Nakia Sanford</td>\n",
              "      <td>Basketball</td>\n",
              "      <td>76</td>\n",
              "      <td>200</td>\n",
              "      <td>24.342105</td>\n",
              "    </tr>\n",
              "    <tr>\n",
              "      <th>10</th>\n",
              "      <td>Nikki Blue</td>\n",
              "      <td>Basketball</td>\n",
              "      <td>68</td>\n",
              "      <td>163</td>\n",
              "      <td>24.781358</td>\n",
              "    </tr>\n",
              "    <tr>\n",
              "      <th>11</th>\n",
              "      <td>Qiushuang Huang</td>\n",
              "      <td>Gymnastics</td>\n",
              "      <td>61</td>\n",
              "      <td>95</td>\n",
              "      <td>17.948132</td>\n",
              "    </tr>\n",
              "    <tr>\n",
              "      <th>12</th>\n",
              "      <td>Rebecca Tunney</td>\n",
              "      <td>Gymnastics</td>\n",
              "      <td>58</td>\n",
              "      <td>77</td>\n",
              "      <td>16.091260</td>\n",
              "    </tr>\n",
              "    <tr>\n",
              "      <th>13</th>\n",
              "      <td>Rene Kalmer</td>\n",
              "      <td>Track</td>\n",
              "      <td>70</td>\n",
              "      <td>108</td>\n",
              "      <td>15.494694</td>\n",
              "    </tr>\n",
              "    <tr>\n",
              "      <th>14</th>\n",
              "      <td>Shanna Crossley</td>\n",
              "      <td>Basketball</td>\n",
              "      <td>70</td>\n",
              "      <td>155</td>\n",
              "      <td>22.237755</td>\n",
              "    </tr>\n",
              "    <tr>\n",
              "      <th>15</th>\n",
              "      <td>Shavonte Zellous</td>\n",
              "      <td>Basketball</td>\n",
              "      <td>70</td>\n",
              "      <td>155</td>\n",
              "      <td>22.237755</td>\n",
              "    </tr>\n",
              "    <tr>\n",
              "      <th>16</th>\n",
              "      <td>Tatyana Petrova</td>\n",
              "      <td>Track</td>\n",
              "      <td>63</td>\n",
              "      <td>108</td>\n",
              "      <td>19.129252</td>\n",
              "    </tr>\n",
              "    <tr>\n",
              "      <th>17</th>\n",
              "      <td>Tiki Gelana</td>\n",
              "      <td>Track</td>\n",
              "      <td>65</td>\n",
              "      <td>106</td>\n",
              "      <td>17.637396</td>\n",
              "    </tr>\n",
              "    <tr>\n",
              "      <th>18</th>\n",
              "      <td>Valeria Straneo</td>\n",
              "      <td>Track</td>\n",
              "      <td>66</td>\n",
              "      <td>97</td>\n",
              "      <td>15.654500</td>\n",
              "    </tr>\n",
              "    <tr>\n",
              "      <th>19</th>\n",
              "      <td>Viktoria Komova</td>\n",
              "      <td>Gymnastics</td>\n",
              "      <td>61</td>\n",
              "      <td>76</td>\n",
              "      <td>14.358506</td>\n",
              "    </tr>\n",
              "    <tr>\n",
              "      <th>20</th>\n",
              "      <td>Amy Cragg</td>\n",
              "      <td>Track</td>\n",
              "      <td>64</td>\n",
              "      <td>99</td>\n",
              "      <td>16.991455</td>\n",
              "    </tr>\n",
              "    <tr>\n",
              "      <th>21</th>\n",
              "      <td>Simone Biles</td>\n",
              "      <td>Gymnastics</td>\n",
              "      <td>57</td>\n",
              "      <td>104</td>\n",
              "      <td>22.502924</td>\n",
              "    </tr>\n",
              "    <tr>\n",
              "      <th>22</th>\n",
              "      <td>Madison Kocian</td>\n",
              "      <td>Gymnastics</td>\n",
              "      <td>62</td>\n",
              "      <td>101</td>\n",
              "      <td>18.471124</td>\n",
              "    </tr>\n",
              "    <tr>\n",
              "      <th>23</th>\n",
              "      <td>Elena Delle Donne</td>\n",
              "      <td>Basketball</td>\n",
              "      <td>77</td>\n",
              "      <td>188</td>\n",
              "      <td>22.291111</td>\n",
              "    </tr>\n",
              "    <tr>\n",
              "      <th>24</th>\n",
              "      <td>Seimone Augustus</td>\n",
              "      <td>Basketball</td>\n",
              "      <td>72</td>\n",
              "      <td>166</td>\n",
              "      <td>22.511188</td>\n",
              "    </tr>\n",
              "    <tr>\n",
              "      <th>25</th>\n",
              "      <td>Desiree Linden</td>\n",
              "      <td>Track</td>\n",
              "      <td>61</td>\n",
              "      <td>97</td>\n",
              "      <td>18.325988</td>\n",
              "    </tr>\n",
              "    <tr>\n",
              "      <th>26</th>\n",
              "      <td>Shalane Flanagan</td>\n",
              "      <td>Track</td>\n",
              "      <td>65</td>\n",
              "      <td>106</td>\n",
              "      <td>17.637396</td>\n",
              "    </tr>\n",
              "    <tr>\n",
              "      <th>27</th>\n",
              "      <td>Laurie Hernandez</td>\n",
              "      <td>Gymnastics</td>\n",
              "      <td>60</td>\n",
              "      <td>106</td>\n",
              "      <td>20.699444</td>\n",
              "    </tr>\n",
              "  </tbody>\n",
              "</table>\n",
              "</div>"
            ],
            "text/plain": [
              "                 Name       Sport  Height  Weight        bmi\n",
              "0      Asuka Teramoto  Gymnastics      54      66  15.911523\n",
              "1    Brittainey Raven  Basketball      72     162  21.968750\n",
              "2            Chen Nan  Basketball      78     204  23.571992\n",
              "3       Gabby Douglas  Gymnastics      49      90  26.351520\n",
              "4    Helalia Johannes       Track      65      99  16.472663\n",
              "5     Irina Miketenko       Track      63     106  18.775006\n",
              "6       Jennifer Lacy  Basketball      75     175  21.871111\n",
              "7        Kara Goucher       Track      67     123  19.262419\n",
              "8         Linlin Deng  Gymnastics      54      68  16.393690\n",
              "9       Nakia Sanford  Basketball      76     200  24.342105\n",
              "10         Nikki Blue  Basketball      68     163  24.781358\n",
              "11    Qiushuang Huang  Gymnastics      61      95  17.948132\n",
              "12     Rebecca Tunney  Gymnastics      58      77  16.091260\n",
              "13        Rene Kalmer       Track      70     108  15.494694\n",
              "14    Shanna Crossley  Basketball      70     155  22.237755\n",
              "15   Shavonte Zellous  Basketball      70     155  22.237755\n",
              "16    Tatyana Petrova       Track      63     108  19.129252\n",
              "17        Tiki Gelana       Track      65     106  17.637396\n",
              "18    Valeria Straneo       Track      66      97  15.654500\n",
              "19    Viktoria Komova  Gymnastics      61      76  14.358506\n",
              "20          Amy Cragg       Track      64      99  16.991455\n",
              "21       Simone Biles  Gymnastics      57     104  22.502924\n",
              "22     Madison Kocian  Gymnastics      62     101  18.471124\n",
              "23  Elena Delle Donne  Basketball      77     188  22.291111\n",
              "24   Seimone Augustus  Basketball      72     166  22.511188\n",
              "25     Desiree Linden       Track      61      97  18.325988\n",
              "26   Shalane Flanagan       Track      65     106  17.637396\n",
              "27   Laurie Hernandez  Gymnastics      60     106  20.699444"
            ]
          },
          "metadata": {
            "tags": []
          },
          "execution_count": 63
        }
      ]
    },
    {
      "cell_type": "markdown",
      "metadata": {
        "id": "Jl5e-bN4Yixg"
      },
      "source": [
        "## Descriptive Statistics on DataFrames\n",
        "One handy function is `describe`"
      ]
    },
    {
      "cell_type": "code",
      "metadata": {
        "id": "40jJy6okYixg",
        "colab": {
          "base_uri": "https://localhost:8080/",
          "height": 297
        },
        "outputId": "43934cf4-6e25-4d04-ed9a-34c1be32bd22"
      },
      "source": [
        "athletes.describe()"
      ],
      "execution_count": 65,
      "outputs": [
        {
          "output_type": "execute_result",
          "data": {
            "text/html": [
              "<div>\n",
              "<style scoped>\n",
              "    .dataframe tbody tr th:only-of-type {\n",
              "        vertical-align: middle;\n",
              "    }\n",
              "\n",
              "    .dataframe tbody tr th {\n",
              "        vertical-align: top;\n",
              "    }\n",
              "\n",
              "    .dataframe thead th {\n",
              "        text-align: right;\n",
              "    }\n",
              "</style>\n",
              "<table border=\"1\" class=\"dataframe\">\n",
              "  <thead>\n",
              "    <tr style=\"text-align: right;\">\n",
              "      <th></th>\n",
              "      <th>Height</th>\n",
              "      <th>Weight</th>\n",
              "      <th>bmi</th>\n",
              "    </tr>\n",
              "  </thead>\n",
              "  <tbody>\n",
              "    <tr>\n",
              "      <th>count</th>\n",
              "      <td>28.000000</td>\n",
              "      <td>28.000000</td>\n",
              "      <td>28.000000</td>\n",
              "    </tr>\n",
              "    <tr>\n",
              "      <th>mean</th>\n",
              "      <td>65.107143</td>\n",
              "      <td>121.428571</td>\n",
              "      <td>19.640072</td>\n",
              "    </tr>\n",
              "    <tr>\n",
              "      <th>std</th>\n",
              "      <td>7.258912</td>\n",
              "      <td>40.274455</td>\n",
              "      <td>3.264325</td>\n",
              "    </tr>\n",
              "    <tr>\n",
              "      <th>min</th>\n",
              "      <td>49.000000</td>\n",
              "      <td>66.000000</td>\n",
              "      <td>14.358506</td>\n",
              "    </tr>\n",
              "    <tr>\n",
              "      <th>25%</th>\n",
              "      <td>61.000000</td>\n",
              "      <td>97.000000</td>\n",
              "      <td>16.861757</td>\n",
              "    </tr>\n",
              "    <tr>\n",
              "      <th>50%</th>\n",
              "      <td>65.000000</td>\n",
              "      <td>106.000000</td>\n",
              "      <td>18.952129</td>\n",
              "    </tr>\n",
              "    <tr>\n",
              "      <th>75%</th>\n",
              "      <td>70.000000</td>\n",
              "      <td>156.750000</td>\n",
              "      <td>22.251094</td>\n",
              "    </tr>\n",
              "    <tr>\n",
              "      <th>max</th>\n",
              "      <td>78.000000</td>\n",
              "      <td>204.000000</td>\n",
              "      <td>26.351520</td>\n",
              "    </tr>\n",
              "  </tbody>\n",
              "</table>\n",
              "</div>"
            ],
            "text/plain": [
              "          Height      Weight        bmi\n",
              "count  28.000000   28.000000  28.000000\n",
              "mean   65.107143  121.428571  19.640072\n",
              "std     7.258912   40.274455   3.264325\n",
              "min    49.000000   66.000000  14.358506\n",
              "25%    61.000000   97.000000  16.861757\n",
              "50%    65.000000  106.000000  18.952129\n",
              "75%    70.000000  156.750000  22.251094\n",
              "max    78.000000  204.000000  26.351520"
            ]
          },
          "metadata": {
            "tags": []
          },
          "execution_count": 65
        }
      ]
    },
    {
      "cell_type": "markdown",
      "metadata": {
        "id": "5K5PKxvxYixg"
      },
      "source": [
        "Alternatively, I could ask for a specific statistic:\n"
      ]
    },
    {
      "cell_type": "code",
      "metadata": {
        "id": "9m2bH0bpYixh",
        "outputId": "8139e72d-d4f2-4726-9c8c-0d86a7d55734"
      },
      "source": [
        "athletes['Weight'].mean()"
      ],
      "execution_count": null,
      "outputs": [
        {
          "output_type": "execute_result",
          "data": {
            "text/plain": [
              "121.42857142857143"
            ]
          },
          "metadata": {
            "tags": []
          },
          "execution_count": 30
        }
      ]
    },
    {
      "cell_type": "code",
      "metadata": {
        "id": "tqhCslsrYixh",
        "outputId": "93ea686d-c3c6-4f17-fc52-2464ec88126d"
      },
      "source": [
        "athletes.loc[athletes['Sport'] == 'Gymnastics' ]['Weight'].mean()"
      ],
      "execution_count": null,
      "outputs": [
        {
          "output_type": "execute_result",
          "data": {
            "text/plain": [
              "87.0"
            ]
          },
          "metadata": {
            "tags": []
          },
          "execution_count": 31
        }
      ]
    },
    {
      "cell_type": "code",
      "metadata": {
        "id": "wn4P4XMYYixh",
        "outputId": "a5fb312e-35b6-4d39-d62f-7f32e2ec4717"
      },
      "source": [
        "athletes.loc[athletes['Sport'] == 'Basketball' ]['Weight'].mean()"
      ],
      "execution_count": null,
      "outputs": [
        {
          "output_type": "execute_result",
          "data": {
            "text/plain": [
              "174.22222222222223"
            ]
          },
          "metadata": {
            "tags": []
          },
          "execution_count": 32
        }
      ]
    },
    {
      "cell_type": "markdown",
      "metadata": {
        "id": "91LVDwoTYixi"
      },
      "source": [
        "<h3 style=\"color:red\">Q4. Pima Indians</h3>\n",
        "<span style=\"color:red\">I would like to fill out this little table:</span>\n",
        "\n",
        "  x | Avg. BMI | Avg. Diabetes Pedigree | Avg. times pregnant | Avg. Plasma glucose |\n",
        "---   | :---: | :---: | :---: | :---: |\n",
        "Has Diabetes |   | |  |\n",
        "Doesn't have Diabetes |   | |  |\n",
        "\n",
        "<span style=\"color:red\">Can you get this information (where 'Avg' refers to the mean)? So, for example, the first cell is the average Body Mass Index of people who have diabetes.</span> You don't need to write code to generate a table, I just want to see the values that would be put in such a table.\n"
      ]
    },
    {
      "cell_type": "code",
      "metadata": {
        "collapsed": true,
        "id": "j8yN9XFLYixi",
        "colab": {
          "base_uri": "https://localhost:8080/"
        },
        "outputId": "4386a241-81c3-4327-c1d1-4085c902f166"
      },
      "source": [
        "# your code here\n",
        "\n",
        "davbmi = pima.loc[pima['diabetes'] == 1]['bmi'].mean()\n",
        "avbmi = pima.loc[pima['diabetes'] == 0]['bmi'].mean()\n",
        "davdpf = pima.loc[pima['diabetes'] == 1]['dpf'].mean()\n",
        "avdpf = pima.loc[pima['diabetes'] == 0]['dpf'].mean()\n",
        "davnumPreg = pima.loc[pima['diabetes'] == 1]['numPreg'].mean()\n",
        "avnumPreg = pima.loc[pima['diabetes'] == 0]['numPreg'].mean()\n",
        "davplasgluc = pima.loc[pima['diabetes'] == 1]['plasgluc'].mean()\n",
        "avplasgluc = pima.loc[pima['diabetes'] == 0]['plasgluc'].mean()\n",
        "print(davbmi, avbmi, davdpf, avdpf, davnumPreg, avnumPreg, davplasgluc, avplasgluc)"
      ],
      "execution_count": 77,
      "outputs": [
        {
          "output_type": "stream",
          "text": [
            "35.14253731343278 30.30419999999996 0.5505 0.42973400000000017 4.865671641791045 3.298 141.25746268656715 109.98\n"
          ],
          "name": "stdout"
        }
      ]
    },
    {
      "cell_type": "markdown",
      "metadata": {
        "id": "IVZ2reYmYixi"
      },
      "source": [
        "### Music Ratings\n",
        "\n",
        "Suppose I have customers of my vinyl record shop rate different artists\n",
        "\n",
        "|Customer | Taylor Swift | Miranda Lambert | Carrie Underwood | Nicki Minaj | Ariana Grande |\n",
        "|:-----------|:------:|:------:|:---------:|:------:|:--------:|\n",
        "|Jake|5|-|5|2|2|\n",
        "|Clara|2|-|-|4|5|\n",
        "|Kelsey|5|5|5|2|-|\n",
        "|Angelica|2|3|-|5|5|\n",
        "|Jordyn|2|1|-|5|-|\n",
        "\n",
        "<h3 style=\"color:red\">Q4. Ratings</h3>\n",
        "<span style=\"color:red\">Create a dataframe called `ratings` from the CSV file</span>\n",
        "\n",
        "    https://raw.githubusercontent.com/zacharski/ml-class/master/data/ratings.csv"
      ]
    },
    {
      "cell_type": "code",
      "metadata": {
        "id": "-DzMa6q3Yixj",
        "colab": {
          "base_uri": "https://localhost:8080/",
          "height": 204
        },
        "outputId": "3609faef-ed04-4f8e-9bc0-38644ee256cb"
      },
      "source": [
        "# your code here\n",
        "ratings = pd.read_csv('https://raw.githubusercontent.com/zacharski/ml-class/master/data/ratings.csv')\n",
        "ratings"
      ],
      "execution_count": 85,
      "outputs": [
        {
          "output_type": "execute_result",
          "data": {
            "text/html": [
              "<div>\n",
              "<style scoped>\n",
              "    .dataframe tbody tr th:only-of-type {\n",
              "        vertical-align: middle;\n",
              "    }\n",
              "\n",
              "    .dataframe tbody tr th {\n",
              "        vertical-align: top;\n",
              "    }\n",
              "\n",
              "    .dataframe thead th {\n",
              "        text-align: right;\n",
              "    }\n",
              "</style>\n",
              "<table border=\"1\" class=\"dataframe\">\n",
              "  <thead>\n",
              "    <tr style=\"text-align: right;\">\n",
              "      <th></th>\n",
              "      <th>Customer</th>\n",
              "      <th>Taylor Swift</th>\n",
              "      <th>Miranda Lambert</th>\n",
              "      <th>Carrie Underwood</th>\n",
              "      <th>Nicki Minaj</th>\n",
              "      <th>Ariana Grande</th>\n",
              "    </tr>\n",
              "  </thead>\n",
              "  <tbody>\n",
              "    <tr>\n",
              "      <th>0</th>\n",
              "      <td>Jake</td>\n",
              "      <td>5</td>\n",
              "      <td>NaN</td>\n",
              "      <td>5.0</td>\n",
              "      <td>2</td>\n",
              "      <td>2.0</td>\n",
              "    </tr>\n",
              "    <tr>\n",
              "      <th>1</th>\n",
              "      <td>Clara</td>\n",
              "      <td>2</td>\n",
              "      <td>NaN</td>\n",
              "      <td>NaN</td>\n",
              "      <td>4</td>\n",
              "      <td>5.0</td>\n",
              "    </tr>\n",
              "    <tr>\n",
              "      <th>2</th>\n",
              "      <td>Kelsey</td>\n",
              "      <td>5</td>\n",
              "      <td>5.0</td>\n",
              "      <td>5.0</td>\n",
              "      <td>2</td>\n",
              "      <td>NaN</td>\n",
              "    </tr>\n",
              "    <tr>\n",
              "      <th>3</th>\n",
              "      <td>Angelica</td>\n",
              "      <td>2</td>\n",
              "      <td>3.0</td>\n",
              "      <td>NaN</td>\n",
              "      <td>5</td>\n",
              "      <td>5.0</td>\n",
              "    </tr>\n",
              "    <tr>\n",
              "      <th>4</th>\n",
              "      <td>Jordyn</td>\n",
              "      <td>2</td>\n",
              "      <td>1.0</td>\n",
              "      <td>NaN</td>\n",
              "      <td>5</td>\n",
              "      <td>NaN</td>\n",
              "    </tr>\n",
              "  </tbody>\n",
              "</table>\n",
              "</div>"
            ],
            "text/plain": [
              "   Customer  Taylor Swift  ...  Nicki Minaj  Ariana Grande\n",
              "0      Jake             5  ...            2            2.0\n",
              "1     Clara             2  ...            4            5.0\n",
              "2    Kelsey             5  ...            2            NaN\n",
              "3  Angelica             2  ...            5            5.0\n",
              "4    Jordyn             2  ...            5            NaN\n",
              "\n",
              "[5 rows x 6 columns]"
            ]
          },
          "metadata": {
            "tags": []
          },
          "execution_count": 85
        }
      ]
    },
    {
      "cell_type": "markdown",
      "metadata": {
        "id": "tc2PkMkvYixj"
      },
      "source": [
        "We can get the mean rating of each artist by:\n"
      ]
    },
    {
      "cell_type": "code",
      "metadata": {
        "id": "B_cbYD9SYixj",
        "colab": {
          "base_uri": "https://localhost:8080/"
        },
        "outputId": "225d266d-b6e9-4da1-e373-338ef21b2831"
      },
      "source": [
        "ratings.mean()"
      ],
      "execution_count": 86,
      "outputs": [
        {
          "output_type": "execute_result",
          "data": {
            "text/plain": [
              "Taylor Swift        3.2\n",
              "Miranda Lambert     3.0\n",
              "Carrie Underwood    5.0\n",
              "Nicki Minaj         3.6\n",
              "Ariana Grande       4.0\n",
              "dtype: float64"
            ]
          },
          "metadata": {
            "tags": []
          },
          "execution_count": 86
        }
      ]
    },
    {
      "cell_type": "markdown",
      "metadata": {
        "id": "MMcqC37dYixk"
      },
      "source": [
        "Many descriptive statistics functions take an optional parameter `axis` that tells which axis to reduce over. If we want the mean ratings for each **customer** instead of each artist we can do:"
      ]
    },
    {
      "cell_type": "code",
      "metadata": {
        "id": "ukDal8WUYixk",
        "colab": {
          "base_uri": "https://localhost:8080/"
        },
        "outputId": "ff3b8a84-2633-42e9-8583-4d97b1ebffd0"
      },
      "source": [
        "ratings.mean(axis=1)"
      ],
      "execution_count": 87,
      "outputs": [
        {
          "output_type": "execute_result",
          "data": {
            "text/plain": [
              "0    3.500000\n",
              "1    3.666667\n",
              "2    4.250000\n",
              "3    3.750000\n",
              "4    2.666667\n",
              "dtype: float64"
            ]
          },
          "metadata": {
            "tags": []
          },
          "execution_count": 87
        }
      ]
    },
    {
      "cell_type": "markdown",
      "metadata": {
        "id": "HcHbBk6TYixk"
      },
      "source": [
        "Well, that was sort of unhelpful. We know that person 2 has a mean of 4.25, but it would be nice to use names as the indices for the rows instead of numbers. So right now we have the rows labeled 0, 1, 2, 3 ... but we would like them labeled *Jake, Clara, Kelsey*   We can do so by creating a new dataframe:"
      ]
    },
    {
      "cell_type": "code",
      "metadata": {
        "id": "E-Fre0xoYixl",
        "colab": {
          "base_uri": "https://localhost:8080/"
        },
        "outputId": "8f70d630-cce4-40ea-a76c-e93fa85f165a"
      },
      "source": [
        "ratings2 = ratings.set_index('Customer')\n",
        "ratings2.mean(axis=1)"
      ],
      "execution_count": 88,
      "outputs": [
        {
          "output_type": "execute_result",
          "data": {
            "text/plain": [
              "Customer\n",
              "Jake        3.500000\n",
              "Clara       3.666667\n",
              "Kelsey      4.250000\n",
              "Angelica    3.750000\n",
              "Jordyn      2.666667\n",
              "dtype: float64"
            ]
          },
          "metadata": {
            "tags": []
          },
          "execution_count": 88
        }
      ]
    },
    {
      "cell_type": "markdown",
      "metadata": {
        "id": "t-UCZ7FNYixl"
      },
      "source": [
        "*Note that while this looks like it erroneously creates an additional row called Customer, that is just the way the table is displayed*\n",
        "\n",
        "Sweet! So `axis=1` means reduce by rows and `axis=0` means reduce by columns:"
      ]
    },
    {
      "cell_type": "code",
      "metadata": {
        "id": "0pveURSRYixl",
        "colab": {
          "base_uri": "https://localhost:8080/"
        },
        "outputId": "6bf43287-cad1-452a-cfac-08cbbd8bc55c"
      },
      "source": [
        "ratings2.mean(axis=0)"
      ],
      "execution_count": 89,
      "outputs": [
        {
          "output_type": "execute_result",
          "data": {
            "text/plain": [
              "Taylor Swift        3.2\n",
              "Miranda Lambert     3.0\n",
              "Carrie Underwood    5.0\n",
              "Nicki Minaj         3.6\n",
              "Ariana Grande       4.0\n",
              "dtype: float64"
            ]
          },
          "metadata": {
            "tags": []
          },
          "execution_count": 89
        }
      ]
    },
    {
      "cell_type": "markdown",
      "metadata": {
        "id": "iVFXIq-nYixm"
      },
      "source": [
        "## list of descriptive statistics\n",
        "(from the book *Python for Data Analysis*)\n",
        "\n",
        "Method | Description\n",
        ":-- | :--\n",
        "`count` | Number of non-NaN values\n",
        "`describe` | A set of common summary statistics\n",
        "`min, max` | compute minimum and maximum values\n",
        "`argmin, argmax` | compute index locations of minimum and maximum values\n",
        "`sum` | Sum the values\n",
        "`mean` | Mean of values\n",
        "`median` | Median of values\n",
        "`std` | Sample standard deviation\n",
        "\n",
        "So, for example, the lowest rating for each artist:\n"
      ]
    },
    {
      "cell_type": "code",
      "metadata": {
        "id": "EgMd_ccwYixm",
        "colab": {
          "base_uri": "https://localhost:8080/"
        },
        "outputId": "40b70fc0-86b2-4f02-8990-ac1c514b1d42"
      },
      "source": [
        "ratings2.min()"
      ],
      "execution_count": 90,
      "outputs": [
        {
          "output_type": "execute_result",
          "data": {
            "text/plain": [
              "Taylor Swift        2.0\n",
              "Miranda Lambert     1.0\n",
              "Carrie Underwood    5.0\n",
              "Nicki Minaj         2.0\n",
              "Ariana Grande       2.0\n",
              "dtype: float64"
            ]
          },
          "metadata": {
            "tags": []
          },
          "execution_count": 90
        }
      ]
    },
    {
      "cell_type": "markdown",
      "metadata": {
        "id": "tt7IwprCYixn"
      },
      "source": [
        "<h3 style=\"color:red\">Q5. Ratings 2</h3>\n",
        "<span style=\"color:red\">What are the median ratings for each customer?</span>"
      ]
    },
    {
      "cell_type": "code",
      "metadata": {
        "collapsed": true,
        "id": "2fZi4o7ZYixn",
        "colab": {
          "base_uri": "https://localhost:8080/"
        },
        "outputId": "94b2b01d-f537-455b-f15c-ff8d11274c0e"
      },
      "source": [
        "# your code\n",
        "ratings2.min(axis=1)"
      ],
      "execution_count": 92,
      "outputs": [
        {
          "output_type": "execute_result",
          "data": {
            "text/plain": [
              "Customer\n",
              "Jake        2.0\n",
              "Clara       2.0\n",
              "Kelsey      2.0\n",
              "Angelica    2.0\n",
              "Jordyn      1.0\n",
              "dtype: float64"
            ]
          },
          "metadata": {
            "tags": []
          },
          "execution_count": 92
        }
      ]
    },
    {
      "cell_type": "markdown",
      "metadata": {
        "id": "LjZ2SMNCYixn"
      },
      "source": [
        "## sorting\n",
        "To sort by the index we can use the `sort_index` method"
      ]
    },
    {
      "cell_type": "code",
      "metadata": {
        "id": "Gt04CmAvYixo",
        "colab": {
          "base_uri": "https://localhost:8080/",
          "height": 948
        },
        "outputId": "8a67a323-3f30-4b8e-f822-45f6901a4f97"
      },
      "source": [
        "athlete = pd.read_csv('https://raw.githubusercontent.com/zacharski/ml-class/master/data/athletesNoHeader.csv', names=['Name', 'Sport', 'Height', 'Weight'])\n",
        "a = athlete.set_index('Name')\n",
        "a.sort_index()"
      ],
      "execution_count": 94,
      "outputs": [
        {
          "output_type": "execute_result",
          "data": {
            "text/html": [
              "<div>\n",
              "<style scoped>\n",
              "    .dataframe tbody tr th:only-of-type {\n",
              "        vertical-align: middle;\n",
              "    }\n",
              "\n",
              "    .dataframe tbody tr th {\n",
              "        vertical-align: top;\n",
              "    }\n",
              "\n",
              "    .dataframe thead th {\n",
              "        text-align: right;\n",
              "    }\n",
              "</style>\n",
              "<table border=\"1\" class=\"dataframe\">\n",
              "  <thead>\n",
              "    <tr style=\"text-align: right;\">\n",
              "      <th></th>\n",
              "      <th>Sport</th>\n",
              "      <th>Height</th>\n",
              "      <th>Weight</th>\n",
              "    </tr>\n",
              "    <tr>\n",
              "      <th>Name</th>\n",
              "      <th></th>\n",
              "      <th></th>\n",
              "      <th></th>\n",
              "    </tr>\n",
              "  </thead>\n",
              "  <tbody>\n",
              "    <tr>\n",
              "      <th>Amy Cragg</th>\n",
              "      <td>Track</td>\n",
              "      <td>64</td>\n",
              "      <td>99</td>\n",
              "    </tr>\n",
              "    <tr>\n",
              "      <th>Asuka Teramoto</th>\n",
              "      <td>Gymnastics</td>\n",
              "      <td>54</td>\n",
              "      <td>66</td>\n",
              "    </tr>\n",
              "    <tr>\n",
              "      <th>Brittainey Raven</th>\n",
              "      <td>Basketball</td>\n",
              "      <td>72</td>\n",
              "      <td>162</td>\n",
              "    </tr>\n",
              "    <tr>\n",
              "      <th>Chen Nan</th>\n",
              "      <td>Basketball</td>\n",
              "      <td>78</td>\n",
              "      <td>204</td>\n",
              "    </tr>\n",
              "    <tr>\n",
              "      <th>Desiree Linden</th>\n",
              "      <td>Track</td>\n",
              "      <td>61</td>\n",
              "      <td>97</td>\n",
              "    </tr>\n",
              "    <tr>\n",
              "      <th>Elena Delle Donne</th>\n",
              "      <td>Basketball</td>\n",
              "      <td>77</td>\n",
              "      <td>188</td>\n",
              "    </tr>\n",
              "    <tr>\n",
              "      <th>Gabby Douglas</th>\n",
              "      <td>Gymnastics</td>\n",
              "      <td>49</td>\n",
              "      <td>90</td>\n",
              "    </tr>\n",
              "    <tr>\n",
              "      <th>Helalia Johannes</th>\n",
              "      <td>Track</td>\n",
              "      <td>65</td>\n",
              "      <td>99</td>\n",
              "    </tr>\n",
              "    <tr>\n",
              "      <th>Irina Miketenko</th>\n",
              "      <td>Track</td>\n",
              "      <td>63</td>\n",
              "      <td>106</td>\n",
              "    </tr>\n",
              "    <tr>\n",
              "      <th>Jennifer Lacy</th>\n",
              "      <td>Basketball</td>\n",
              "      <td>75</td>\n",
              "      <td>175</td>\n",
              "    </tr>\n",
              "    <tr>\n",
              "      <th>Kara Goucher</th>\n",
              "      <td>Track</td>\n",
              "      <td>67</td>\n",
              "      <td>123</td>\n",
              "    </tr>\n",
              "    <tr>\n",
              "      <th>Laurie Hernandez</th>\n",
              "      <td>Gymnastics</td>\n",
              "      <td>60</td>\n",
              "      <td>106</td>\n",
              "    </tr>\n",
              "    <tr>\n",
              "      <th>Linlin Deng</th>\n",
              "      <td>Gymnastics</td>\n",
              "      <td>54</td>\n",
              "      <td>68</td>\n",
              "    </tr>\n",
              "    <tr>\n",
              "      <th>Madison Kocian</th>\n",
              "      <td>Gymnastics</td>\n",
              "      <td>62</td>\n",
              "      <td>101</td>\n",
              "    </tr>\n",
              "    <tr>\n",
              "      <th>Nakia Sanford</th>\n",
              "      <td>Basketball</td>\n",
              "      <td>76</td>\n",
              "      <td>200</td>\n",
              "    </tr>\n",
              "    <tr>\n",
              "      <th>Nikki Blue</th>\n",
              "      <td>Basketball</td>\n",
              "      <td>68</td>\n",
              "      <td>163</td>\n",
              "    </tr>\n",
              "    <tr>\n",
              "      <th>Qiushuang Huang</th>\n",
              "      <td>Gymnastics</td>\n",
              "      <td>61</td>\n",
              "      <td>95</td>\n",
              "    </tr>\n",
              "    <tr>\n",
              "      <th>Rebecca Tunney</th>\n",
              "      <td>Gymnastics</td>\n",
              "      <td>58</td>\n",
              "      <td>77</td>\n",
              "    </tr>\n",
              "    <tr>\n",
              "      <th>Rene Kalmer</th>\n",
              "      <td>Track</td>\n",
              "      <td>70</td>\n",
              "      <td>108</td>\n",
              "    </tr>\n",
              "    <tr>\n",
              "      <th>Seimone Augustus</th>\n",
              "      <td>Basketball</td>\n",
              "      <td>72</td>\n",
              "      <td>166</td>\n",
              "    </tr>\n",
              "    <tr>\n",
              "      <th>Shalane Flanagan</th>\n",
              "      <td>Track</td>\n",
              "      <td>65</td>\n",
              "      <td>106</td>\n",
              "    </tr>\n",
              "    <tr>\n",
              "      <th>Shanna Crossley</th>\n",
              "      <td>Basketball</td>\n",
              "      <td>70</td>\n",
              "      <td>155</td>\n",
              "    </tr>\n",
              "    <tr>\n",
              "      <th>Shavonte Zellous</th>\n",
              "      <td>Basketball</td>\n",
              "      <td>70</td>\n",
              "      <td>155</td>\n",
              "    </tr>\n",
              "    <tr>\n",
              "      <th>Simone Biles</th>\n",
              "      <td>Gymnastics</td>\n",
              "      <td>57</td>\n",
              "      <td>104</td>\n",
              "    </tr>\n",
              "    <tr>\n",
              "      <th>Tatyana Petrova</th>\n",
              "      <td>Track</td>\n",
              "      <td>63</td>\n",
              "      <td>108</td>\n",
              "    </tr>\n",
              "    <tr>\n",
              "      <th>Tiki Gelana</th>\n",
              "      <td>Track</td>\n",
              "      <td>65</td>\n",
              "      <td>106</td>\n",
              "    </tr>\n",
              "    <tr>\n",
              "      <th>Valeria Straneo</th>\n",
              "      <td>Track</td>\n",
              "      <td>66</td>\n",
              "      <td>97</td>\n",
              "    </tr>\n",
              "    <tr>\n",
              "      <th>Viktoria Komova</th>\n",
              "      <td>Gymnastics</td>\n",
              "      <td>61</td>\n",
              "      <td>76</td>\n",
              "    </tr>\n",
              "  </tbody>\n",
              "</table>\n",
              "</div>"
            ],
            "text/plain": [
              "                        Sport  Height  Weight\n",
              "Name                                         \n",
              "Amy Cragg               Track      64      99\n",
              "Asuka Teramoto     Gymnastics      54      66\n",
              "Brittainey Raven   Basketball      72     162\n",
              "Chen Nan           Basketball      78     204\n",
              "Desiree Linden          Track      61      97\n",
              "Elena Delle Donne  Basketball      77     188\n",
              "Gabby Douglas      Gymnastics      49      90\n",
              "Helalia Johannes        Track      65      99\n",
              "Irina Miketenko         Track      63     106\n",
              "Jennifer Lacy      Basketball      75     175\n",
              "Kara Goucher            Track      67     123\n",
              "Laurie Hernandez   Gymnastics      60     106\n",
              "Linlin Deng        Gymnastics      54      68\n",
              "Madison Kocian     Gymnastics      62     101\n",
              "Nakia Sanford      Basketball      76     200\n",
              "Nikki Blue         Basketball      68     163\n",
              "Qiushuang Huang    Gymnastics      61      95\n",
              "Rebecca Tunney     Gymnastics      58      77\n",
              "Rene Kalmer             Track      70     108\n",
              "Seimone Augustus   Basketball      72     166\n",
              "Shalane Flanagan        Track      65     106\n",
              "Shanna Crossley    Basketball      70     155\n",
              "Shavonte Zellous   Basketball      70     155\n",
              "Simone Biles       Gymnastics      57     104\n",
              "Tatyana Petrova         Track      63     108\n",
              "Tiki Gelana             Track      65     106\n",
              "Valeria Straneo         Track      66      97\n",
              "Viktoria Komova    Gymnastics      61      76"
            ]
          },
          "metadata": {
            "tags": []
          },
          "execution_count": 94
        }
      ]
    },
    {
      "cell_type": "markdown",
      "metadata": {
        "id": "LEITsxFEYixo"
      },
      "source": [
        "We can sort in reverse by"
      ]
    },
    {
      "cell_type": "code",
      "metadata": {
        "id": "fQxCd41aYixo",
        "outputId": "e6d99ad0-08a4-4e56-accd-e8bb79cf8ea7"
      },
      "source": [
        "a.sort_index(ascending=False)"
      ],
      "execution_count": null,
      "outputs": [
        {
          "output_type": "execute_result",
          "data": {
            "text/html": [
              "<div>\n",
              "<style scoped>\n",
              "    .dataframe tbody tr th:only-of-type {\n",
              "        vertical-align: middle;\n",
              "    }\n",
              "\n",
              "    .dataframe tbody tr th {\n",
              "        vertical-align: top;\n",
              "    }\n",
              "\n",
              "    .dataframe thead th {\n",
              "        text-align: right;\n",
              "    }\n",
              "</style>\n",
              "<table border=\"1\" class=\"dataframe\">\n",
              "  <thead>\n",
              "    <tr style=\"text-align: right;\">\n",
              "      <th></th>\n",
              "      <th>Sport</th>\n",
              "      <th>Height</th>\n",
              "      <th>Weight</th>\n",
              "    </tr>\n",
              "    <tr>\n",
              "      <th>Name</th>\n",
              "      <th></th>\n",
              "      <th></th>\n",
              "      <th></th>\n",
              "    </tr>\n",
              "  </thead>\n",
              "  <tbody>\n",
              "    <tr>\n",
              "      <th>Viktoria Komova</th>\n",
              "      <td>Gymnastics</td>\n",
              "      <td>61</td>\n",
              "      <td>76</td>\n",
              "    </tr>\n",
              "    <tr>\n",
              "      <th>Valeria Straneo</th>\n",
              "      <td>Track</td>\n",
              "      <td>66</td>\n",
              "      <td>97</td>\n",
              "    </tr>\n",
              "    <tr>\n",
              "      <th>Tiki Gelana</th>\n",
              "      <td>Track</td>\n",
              "      <td>65</td>\n",
              "      <td>106</td>\n",
              "    </tr>\n",
              "    <tr>\n",
              "      <th>Tatyana Petrova</th>\n",
              "      <td>Track</td>\n",
              "      <td>63</td>\n",
              "      <td>108</td>\n",
              "    </tr>\n",
              "    <tr>\n",
              "      <th>Simone Biles</th>\n",
              "      <td>Gymnastics</td>\n",
              "      <td>57</td>\n",
              "      <td>104</td>\n",
              "    </tr>\n",
              "    <tr>\n",
              "      <th>Shavonte Zellous</th>\n",
              "      <td>Basketball</td>\n",
              "      <td>70</td>\n",
              "      <td>155</td>\n",
              "    </tr>\n",
              "    <tr>\n",
              "      <th>Shanna Crossley</th>\n",
              "      <td>Basketball</td>\n",
              "      <td>70</td>\n",
              "      <td>155</td>\n",
              "    </tr>\n",
              "    <tr>\n",
              "      <th>Shalane Flanagan</th>\n",
              "      <td>Track</td>\n",
              "      <td>65</td>\n",
              "      <td>106</td>\n",
              "    </tr>\n",
              "    <tr>\n",
              "      <th>Seimone Augustus</th>\n",
              "      <td>Basketball</td>\n",
              "      <td>72</td>\n",
              "      <td>166</td>\n",
              "    </tr>\n",
              "    <tr>\n",
              "      <th>Rene Kalmer</th>\n",
              "      <td>Track</td>\n",
              "      <td>70</td>\n",
              "      <td>108</td>\n",
              "    </tr>\n",
              "    <tr>\n",
              "      <th>Rebecca Tunney</th>\n",
              "      <td>Gymnastics</td>\n",
              "      <td>58</td>\n",
              "      <td>77</td>\n",
              "    </tr>\n",
              "    <tr>\n",
              "      <th>Qiushuang Huang</th>\n",
              "      <td>Gymnastics</td>\n",
              "      <td>61</td>\n",
              "      <td>95</td>\n",
              "    </tr>\n",
              "    <tr>\n",
              "      <th>Nikki Blue</th>\n",
              "      <td>Basketball</td>\n",
              "      <td>68</td>\n",
              "      <td>163</td>\n",
              "    </tr>\n",
              "    <tr>\n",
              "      <th>Nakia Sanford</th>\n",
              "      <td>Basketball</td>\n",
              "      <td>76</td>\n",
              "      <td>200</td>\n",
              "    </tr>\n",
              "    <tr>\n",
              "      <th>Madison Kocian</th>\n",
              "      <td>Gymnastics</td>\n",
              "      <td>62</td>\n",
              "      <td>101</td>\n",
              "    </tr>\n",
              "    <tr>\n",
              "      <th>Linlin Deng</th>\n",
              "      <td>Gymnastics</td>\n",
              "      <td>54</td>\n",
              "      <td>68</td>\n",
              "    </tr>\n",
              "    <tr>\n",
              "      <th>Laurie Hernandez</th>\n",
              "      <td>Gymnastics</td>\n",
              "      <td>60</td>\n",
              "      <td>106</td>\n",
              "    </tr>\n",
              "    <tr>\n",
              "      <th>Kara Goucher</th>\n",
              "      <td>Track</td>\n",
              "      <td>67</td>\n",
              "      <td>123</td>\n",
              "    </tr>\n",
              "    <tr>\n",
              "      <th>Jennifer Lacy</th>\n",
              "      <td>Basketball</td>\n",
              "      <td>75</td>\n",
              "      <td>175</td>\n",
              "    </tr>\n",
              "    <tr>\n",
              "      <th>Irina Miketenko</th>\n",
              "      <td>Track</td>\n",
              "      <td>63</td>\n",
              "      <td>106</td>\n",
              "    </tr>\n",
              "    <tr>\n",
              "      <th>Helalia Johannes</th>\n",
              "      <td>Track</td>\n",
              "      <td>65</td>\n",
              "      <td>99</td>\n",
              "    </tr>\n",
              "    <tr>\n",
              "      <th>Gabby Douglas</th>\n",
              "      <td>Gymnastics</td>\n",
              "      <td>49</td>\n",
              "      <td>90</td>\n",
              "    </tr>\n",
              "    <tr>\n",
              "      <th>Elena Delle Donne</th>\n",
              "      <td>Basketball</td>\n",
              "      <td>77</td>\n",
              "      <td>188</td>\n",
              "    </tr>\n",
              "    <tr>\n",
              "      <th>Desiree Linden</th>\n",
              "      <td>Track</td>\n",
              "      <td>61</td>\n",
              "      <td>97</td>\n",
              "    </tr>\n",
              "    <tr>\n",
              "      <th>Chen Nan</th>\n",
              "      <td>Basketball</td>\n",
              "      <td>78</td>\n",
              "      <td>204</td>\n",
              "    </tr>\n",
              "    <tr>\n",
              "      <th>Brittainey Raven</th>\n",
              "      <td>Basketball</td>\n",
              "      <td>72</td>\n",
              "      <td>162</td>\n",
              "    </tr>\n",
              "    <tr>\n",
              "      <th>Asuka Teramoto</th>\n",
              "      <td>Gymnastics</td>\n",
              "      <td>54</td>\n",
              "      <td>66</td>\n",
              "    </tr>\n",
              "    <tr>\n",
              "      <th>Amy Cragg</th>\n",
              "      <td>Track</td>\n",
              "      <td>64</td>\n",
              "      <td>99</td>\n",
              "    </tr>\n",
              "  </tbody>\n",
              "</table>\n",
              "</div>"
            ],
            "text/plain": [
              "                        Sport  Height  Weight\n",
              "Name                                         \n",
              "Viktoria Komova    Gymnastics      61      76\n",
              "Valeria Straneo         Track      66      97\n",
              "Tiki Gelana             Track      65     106\n",
              "Tatyana Petrova         Track      63     108\n",
              "Simone Biles       Gymnastics      57     104\n",
              "Shavonte Zellous   Basketball      70     155\n",
              "Shanna Crossley    Basketball      70     155\n",
              "Shalane Flanagan        Track      65     106\n",
              "Seimone Augustus   Basketball      72     166\n",
              "Rene Kalmer             Track      70     108\n",
              "Rebecca Tunney     Gymnastics      58      77\n",
              "Qiushuang Huang    Gymnastics      61      95\n",
              "Nikki Blue         Basketball      68     163\n",
              "Nakia Sanford      Basketball      76     200\n",
              "Madison Kocian     Gymnastics      62     101\n",
              "Linlin Deng        Gymnastics      54      68\n",
              "Laurie Hernandez   Gymnastics      60     106\n",
              "Kara Goucher            Track      67     123\n",
              "Jennifer Lacy      Basketball      75     175\n",
              "Irina Miketenko         Track      63     106\n",
              "Helalia Johannes        Track      65      99\n",
              "Gabby Douglas      Gymnastics      49      90\n",
              "Elena Delle Donne  Basketball      77     188\n",
              "Desiree Linden          Track      61      97\n",
              "Chen Nan           Basketball      78     204\n",
              "Brittainey Raven   Basketball      72     162\n",
              "Asuka Teramoto     Gymnastics      54      66\n",
              "Amy Cragg               Track      64      99"
            ]
          },
          "metadata": {
            "tags": []
          },
          "execution_count": 34
        }
      ]
    },
    {
      "cell_type": "markdown",
      "metadata": {
        "id": "ytJCs-mmYixp"
      },
      "source": [
        "We can use the `sort_values` method with the `by` argument to sort by a particular column:"
      ]
    },
    {
      "cell_type": "code",
      "metadata": {
        "id": "cWZJjPF4Yixp",
        "outputId": "7c6f9f68-b1ee-41b5-c742-dc95e126a050"
      },
      "source": [
        "a.sort_values(by='Sport')"
      ],
      "execution_count": null,
      "outputs": [
        {
          "output_type": "execute_result",
          "data": {
            "text/html": [
              "<div>\n",
              "<style scoped>\n",
              "    .dataframe tbody tr th:only-of-type {\n",
              "        vertical-align: middle;\n",
              "    }\n",
              "\n",
              "    .dataframe tbody tr th {\n",
              "        vertical-align: top;\n",
              "    }\n",
              "\n",
              "    .dataframe thead th {\n",
              "        text-align: right;\n",
              "    }\n",
              "</style>\n",
              "<table border=\"1\" class=\"dataframe\">\n",
              "  <thead>\n",
              "    <tr style=\"text-align: right;\">\n",
              "      <th></th>\n",
              "      <th>Sport</th>\n",
              "      <th>Height</th>\n",
              "      <th>Weight</th>\n",
              "    </tr>\n",
              "    <tr>\n",
              "      <th>Name</th>\n",
              "      <th></th>\n",
              "      <th></th>\n",
              "      <th></th>\n",
              "    </tr>\n",
              "  </thead>\n",
              "  <tbody>\n",
              "    <tr>\n",
              "      <th>Brittainey Raven</th>\n",
              "      <td>Basketball</td>\n",
              "      <td>72</td>\n",
              "      <td>162</td>\n",
              "    </tr>\n",
              "    <tr>\n",
              "      <th>Chen Nan</th>\n",
              "      <td>Basketball</td>\n",
              "      <td>78</td>\n",
              "      <td>204</td>\n",
              "    </tr>\n",
              "    <tr>\n",
              "      <th>Seimone Augustus</th>\n",
              "      <td>Basketball</td>\n",
              "      <td>72</td>\n",
              "      <td>166</td>\n",
              "    </tr>\n",
              "    <tr>\n",
              "      <th>Elena Delle Donne</th>\n",
              "      <td>Basketball</td>\n",
              "      <td>77</td>\n",
              "      <td>188</td>\n",
              "    </tr>\n",
              "    <tr>\n",
              "      <th>Jennifer Lacy</th>\n",
              "      <td>Basketball</td>\n",
              "      <td>75</td>\n",
              "      <td>175</td>\n",
              "    </tr>\n",
              "    <tr>\n",
              "      <th>Nakia Sanford</th>\n",
              "      <td>Basketball</td>\n",
              "      <td>76</td>\n",
              "      <td>200</td>\n",
              "    </tr>\n",
              "    <tr>\n",
              "      <th>Nikki Blue</th>\n",
              "      <td>Basketball</td>\n",
              "      <td>68</td>\n",
              "      <td>163</td>\n",
              "    </tr>\n",
              "    <tr>\n",
              "      <th>Shavonte Zellous</th>\n",
              "      <td>Basketball</td>\n",
              "      <td>70</td>\n",
              "      <td>155</td>\n",
              "    </tr>\n",
              "    <tr>\n",
              "      <th>Shanna Crossley</th>\n",
              "      <td>Basketball</td>\n",
              "      <td>70</td>\n",
              "      <td>155</td>\n",
              "    </tr>\n",
              "    <tr>\n",
              "      <th>Asuka Teramoto</th>\n",
              "      <td>Gymnastics</td>\n",
              "      <td>54</td>\n",
              "      <td>66</td>\n",
              "    </tr>\n",
              "    <tr>\n",
              "      <th>Madison Kocian</th>\n",
              "      <td>Gymnastics</td>\n",
              "      <td>62</td>\n",
              "      <td>101</td>\n",
              "    </tr>\n",
              "    <tr>\n",
              "      <th>Simone Biles</th>\n",
              "      <td>Gymnastics</td>\n",
              "      <td>57</td>\n",
              "      <td>104</td>\n",
              "    </tr>\n",
              "    <tr>\n",
              "      <th>Viktoria Komova</th>\n",
              "      <td>Gymnastics</td>\n",
              "      <td>61</td>\n",
              "      <td>76</td>\n",
              "    </tr>\n",
              "    <tr>\n",
              "      <th>Laurie Hernandez</th>\n",
              "      <td>Gymnastics</td>\n",
              "      <td>60</td>\n",
              "      <td>106</td>\n",
              "    </tr>\n",
              "    <tr>\n",
              "      <th>Rebecca Tunney</th>\n",
              "      <td>Gymnastics</td>\n",
              "      <td>58</td>\n",
              "      <td>77</td>\n",
              "    </tr>\n",
              "    <tr>\n",
              "      <th>Qiushuang Huang</th>\n",
              "      <td>Gymnastics</td>\n",
              "      <td>61</td>\n",
              "      <td>95</td>\n",
              "    </tr>\n",
              "    <tr>\n",
              "      <th>Linlin Deng</th>\n",
              "      <td>Gymnastics</td>\n",
              "      <td>54</td>\n",
              "      <td>68</td>\n",
              "    </tr>\n",
              "    <tr>\n",
              "      <th>Gabby Douglas</th>\n",
              "      <td>Gymnastics</td>\n",
              "      <td>49</td>\n",
              "      <td>90</td>\n",
              "    </tr>\n",
              "    <tr>\n",
              "      <th>Tatyana Petrova</th>\n",
              "      <td>Track</td>\n",
              "      <td>63</td>\n",
              "      <td>108</td>\n",
              "    </tr>\n",
              "    <tr>\n",
              "      <th>Tiki Gelana</th>\n",
              "      <td>Track</td>\n",
              "      <td>65</td>\n",
              "      <td>106</td>\n",
              "    </tr>\n",
              "    <tr>\n",
              "      <th>Valeria Straneo</th>\n",
              "      <td>Track</td>\n",
              "      <td>66</td>\n",
              "      <td>97</td>\n",
              "    </tr>\n",
              "    <tr>\n",
              "      <th>Amy Cragg</th>\n",
              "      <td>Track</td>\n",
              "      <td>64</td>\n",
              "      <td>99</td>\n",
              "    </tr>\n",
              "    <tr>\n",
              "      <th>Kara Goucher</th>\n",
              "      <td>Track</td>\n",
              "      <td>67</td>\n",
              "      <td>123</td>\n",
              "    </tr>\n",
              "    <tr>\n",
              "      <th>Irina Miketenko</th>\n",
              "      <td>Track</td>\n",
              "      <td>63</td>\n",
              "      <td>106</td>\n",
              "    </tr>\n",
              "    <tr>\n",
              "      <th>Helalia Johannes</th>\n",
              "      <td>Track</td>\n",
              "      <td>65</td>\n",
              "      <td>99</td>\n",
              "    </tr>\n",
              "    <tr>\n",
              "      <th>Desiree Linden</th>\n",
              "      <td>Track</td>\n",
              "      <td>61</td>\n",
              "      <td>97</td>\n",
              "    </tr>\n",
              "    <tr>\n",
              "      <th>Shalane Flanagan</th>\n",
              "      <td>Track</td>\n",
              "      <td>65</td>\n",
              "      <td>106</td>\n",
              "    </tr>\n",
              "    <tr>\n",
              "      <th>Rene Kalmer</th>\n",
              "      <td>Track</td>\n",
              "      <td>70</td>\n",
              "      <td>108</td>\n",
              "    </tr>\n",
              "  </tbody>\n",
              "</table>\n",
              "</div>"
            ],
            "text/plain": [
              "                        Sport  Height  Weight\n",
              "Name                                         \n",
              "Brittainey Raven   Basketball      72     162\n",
              "Chen Nan           Basketball      78     204\n",
              "Seimone Augustus   Basketball      72     166\n",
              "Elena Delle Donne  Basketball      77     188\n",
              "Jennifer Lacy      Basketball      75     175\n",
              "Nakia Sanford      Basketball      76     200\n",
              "Nikki Blue         Basketball      68     163\n",
              "Shavonte Zellous   Basketball      70     155\n",
              "Shanna Crossley    Basketball      70     155\n",
              "Asuka Teramoto     Gymnastics      54      66\n",
              "Madison Kocian     Gymnastics      62     101\n",
              "Simone Biles       Gymnastics      57     104\n",
              "Viktoria Komova    Gymnastics      61      76\n",
              "Laurie Hernandez   Gymnastics      60     106\n",
              "Rebecca Tunney     Gymnastics      58      77\n",
              "Qiushuang Huang    Gymnastics      61      95\n",
              "Linlin Deng        Gymnastics      54      68\n",
              "Gabby Douglas      Gymnastics      49      90\n",
              "Tatyana Petrova         Track      63     108\n",
              "Tiki Gelana             Track      65     106\n",
              "Valeria Straneo         Track      66      97\n",
              "Amy Cragg               Track      64      99\n",
              "Kara Goucher            Track      67     123\n",
              "Irina Miketenko         Track      63     106\n",
              "Helalia Johannes        Track      65      99\n",
              "Desiree Linden          Track      61      97\n",
              "Shalane Flanagan        Track      65     106\n",
              "Rene Kalmer             Track      70     108"
            ]
          },
          "metadata": {
            "tags": []
          },
          "execution_count": 35
        }
      ]
    },
    {
      "cell_type": "code",
      "metadata": {
        "id": "vju9_qkGYixp",
        "outputId": "80c18e58-a087-4142-bb28-05c23954f438"
      },
      "source": [
        "a.sort_values(by=['Height', 'Weight'])"
      ],
      "execution_count": null,
      "outputs": [
        {
          "output_type": "execute_result",
          "data": {
            "text/html": [
              "<div>\n",
              "<style scoped>\n",
              "    .dataframe tbody tr th:only-of-type {\n",
              "        vertical-align: middle;\n",
              "    }\n",
              "\n",
              "    .dataframe tbody tr th {\n",
              "        vertical-align: top;\n",
              "    }\n",
              "\n",
              "    .dataframe thead th {\n",
              "        text-align: right;\n",
              "    }\n",
              "</style>\n",
              "<table border=\"1\" class=\"dataframe\">\n",
              "  <thead>\n",
              "    <tr style=\"text-align: right;\">\n",
              "      <th></th>\n",
              "      <th>Sport</th>\n",
              "      <th>Height</th>\n",
              "      <th>Weight</th>\n",
              "    </tr>\n",
              "    <tr>\n",
              "      <th>Name</th>\n",
              "      <th></th>\n",
              "      <th></th>\n",
              "      <th></th>\n",
              "    </tr>\n",
              "  </thead>\n",
              "  <tbody>\n",
              "    <tr>\n",
              "      <th>Gabby Douglas</th>\n",
              "      <td>Gymnastics</td>\n",
              "      <td>49</td>\n",
              "      <td>90</td>\n",
              "    </tr>\n",
              "    <tr>\n",
              "      <th>Asuka Teramoto</th>\n",
              "      <td>Gymnastics</td>\n",
              "      <td>54</td>\n",
              "      <td>66</td>\n",
              "    </tr>\n",
              "    <tr>\n",
              "      <th>Linlin Deng</th>\n",
              "      <td>Gymnastics</td>\n",
              "      <td>54</td>\n",
              "      <td>68</td>\n",
              "    </tr>\n",
              "    <tr>\n",
              "      <th>Simone Biles</th>\n",
              "      <td>Gymnastics</td>\n",
              "      <td>57</td>\n",
              "      <td>104</td>\n",
              "    </tr>\n",
              "    <tr>\n",
              "      <th>Rebecca Tunney</th>\n",
              "      <td>Gymnastics</td>\n",
              "      <td>58</td>\n",
              "      <td>77</td>\n",
              "    </tr>\n",
              "    <tr>\n",
              "      <th>Laurie Hernandez</th>\n",
              "      <td>Gymnastics</td>\n",
              "      <td>60</td>\n",
              "      <td>106</td>\n",
              "    </tr>\n",
              "    <tr>\n",
              "      <th>Viktoria Komova</th>\n",
              "      <td>Gymnastics</td>\n",
              "      <td>61</td>\n",
              "      <td>76</td>\n",
              "    </tr>\n",
              "    <tr>\n",
              "      <th>Qiushuang Huang</th>\n",
              "      <td>Gymnastics</td>\n",
              "      <td>61</td>\n",
              "      <td>95</td>\n",
              "    </tr>\n",
              "    <tr>\n",
              "      <th>Desiree Linden</th>\n",
              "      <td>Track</td>\n",
              "      <td>61</td>\n",
              "      <td>97</td>\n",
              "    </tr>\n",
              "    <tr>\n",
              "      <th>Madison Kocian</th>\n",
              "      <td>Gymnastics</td>\n",
              "      <td>62</td>\n",
              "      <td>101</td>\n",
              "    </tr>\n",
              "    <tr>\n",
              "      <th>Irina Miketenko</th>\n",
              "      <td>Track</td>\n",
              "      <td>63</td>\n",
              "      <td>106</td>\n",
              "    </tr>\n",
              "    <tr>\n",
              "      <th>Tatyana Petrova</th>\n",
              "      <td>Track</td>\n",
              "      <td>63</td>\n",
              "      <td>108</td>\n",
              "    </tr>\n",
              "    <tr>\n",
              "      <th>Amy Cragg</th>\n",
              "      <td>Track</td>\n",
              "      <td>64</td>\n",
              "      <td>99</td>\n",
              "    </tr>\n",
              "    <tr>\n",
              "      <th>Helalia Johannes</th>\n",
              "      <td>Track</td>\n",
              "      <td>65</td>\n",
              "      <td>99</td>\n",
              "    </tr>\n",
              "    <tr>\n",
              "      <th>Tiki Gelana</th>\n",
              "      <td>Track</td>\n",
              "      <td>65</td>\n",
              "      <td>106</td>\n",
              "    </tr>\n",
              "    <tr>\n",
              "      <th>Shalane Flanagan</th>\n",
              "      <td>Track</td>\n",
              "      <td>65</td>\n",
              "      <td>106</td>\n",
              "    </tr>\n",
              "    <tr>\n",
              "      <th>Valeria Straneo</th>\n",
              "      <td>Track</td>\n",
              "      <td>66</td>\n",
              "      <td>97</td>\n",
              "    </tr>\n",
              "    <tr>\n",
              "      <th>Kara Goucher</th>\n",
              "      <td>Track</td>\n",
              "      <td>67</td>\n",
              "      <td>123</td>\n",
              "    </tr>\n",
              "    <tr>\n",
              "      <th>Nikki Blue</th>\n",
              "      <td>Basketball</td>\n",
              "      <td>68</td>\n",
              "      <td>163</td>\n",
              "    </tr>\n",
              "    <tr>\n",
              "      <th>Rene Kalmer</th>\n",
              "      <td>Track</td>\n",
              "      <td>70</td>\n",
              "      <td>108</td>\n",
              "    </tr>\n",
              "    <tr>\n",
              "      <th>Shanna Crossley</th>\n",
              "      <td>Basketball</td>\n",
              "      <td>70</td>\n",
              "      <td>155</td>\n",
              "    </tr>\n",
              "    <tr>\n",
              "      <th>Shavonte Zellous</th>\n",
              "      <td>Basketball</td>\n",
              "      <td>70</td>\n",
              "      <td>155</td>\n",
              "    </tr>\n",
              "    <tr>\n",
              "      <th>Brittainey Raven</th>\n",
              "      <td>Basketball</td>\n",
              "      <td>72</td>\n",
              "      <td>162</td>\n",
              "    </tr>\n",
              "    <tr>\n",
              "      <th>Seimone Augustus</th>\n",
              "      <td>Basketball</td>\n",
              "      <td>72</td>\n",
              "      <td>166</td>\n",
              "    </tr>\n",
              "    <tr>\n",
              "      <th>Jennifer Lacy</th>\n",
              "      <td>Basketball</td>\n",
              "      <td>75</td>\n",
              "      <td>175</td>\n",
              "    </tr>\n",
              "    <tr>\n",
              "      <th>Nakia Sanford</th>\n",
              "      <td>Basketball</td>\n",
              "      <td>76</td>\n",
              "      <td>200</td>\n",
              "    </tr>\n",
              "    <tr>\n",
              "      <th>Elena Delle Donne</th>\n",
              "      <td>Basketball</td>\n",
              "      <td>77</td>\n",
              "      <td>188</td>\n",
              "    </tr>\n",
              "    <tr>\n",
              "      <th>Chen Nan</th>\n",
              "      <td>Basketball</td>\n",
              "      <td>78</td>\n",
              "      <td>204</td>\n",
              "    </tr>\n",
              "  </tbody>\n",
              "</table>\n",
              "</div>"
            ],
            "text/plain": [
              "                        Sport  Height  Weight\n",
              "Name                                         \n",
              "Gabby Douglas      Gymnastics      49      90\n",
              "Asuka Teramoto     Gymnastics      54      66\n",
              "Linlin Deng        Gymnastics      54      68\n",
              "Simone Biles       Gymnastics      57     104\n",
              "Rebecca Tunney     Gymnastics      58      77\n",
              "Laurie Hernandez   Gymnastics      60     106\n",
              "Viktoria Komova    Gymnastics      61      76\n",
              "Qiushuang Huang    Gymnastics      61      95\n",
              "Desiree Linden          Track      61      97\n",
              "Madison Kocian     Gymnastics      62     101\n",
              "Irina Miketenko         Track      63     106\n",
              "Tatyana Petrova         Track      63     108\n",
              "Amy Cragg               Track      64      99\n",
              "Helalia Johannes        Track      65      99\n",
              "Tiki Gelana             Track      65     106\n",
              "Shalane Flanagan        Track      65     106\n",
              "Valeria Straneo         Track      66      97\n",
              "Kara Goucher            Track      67     123\n",
              "Nikki Blue         Basketball      68     163\n",
              "Rene Kalmer             Track      70     108\n",
              "Shanna Crossley    Basketball      70     155\n",
              "Shavonte Zellous   Basketball      70     155\n",
              "Brittainey Raven   Basketball      72     162\n",
              "Seimone Augustus   Basketball      72     166\n",
              "Jennifer Lacy      Basketball      75     175\n",
              "Nakia Sanford      Basketball      76     200\n",
              "Elena Delle Donne  Basketball      77     188\n",
              "Chen Nan           Basketball      78     204"
            ]
          },
          "metadata": {
            "tags": []
          },
          "execution_count": 37
        }
      ]
    },
    {
      "cell_type": "markdown",
      "metadata": {
        "id": "HQx1qz37Yixq"
      },
      "source": [
        "In that last example, we first sorted by height and then by weight.\n",
        "\n",
        "# The nearest neighbor Music example in Pandas\n",
        "\n",
        "Let's go back to our Numpy task that dealt with the following music data:\n",
        "\n",
        "\n",
        "\n",
        "| Guest  | Janelle Monae  | Major Lazer  | Tim McGraw  |  Maren Morris | Hailee Steinfeld| \n",
        "|---|---|---|---|---|---|\n",
        "|  Ann | 4  |  5 | 2  |  1 | 3 |\n",
        "| Ben  |  3 |  1 |  5 | 4  | 2|\n",
        "| Jordyn  | 5  |  5 | 2  | 2  | 3|\n",
        "|  Sam | 4 | 1 | 4 | 4 | 1|\n",
        "| Hyunseo | 1 | 1 | 5 | 4 | 1 |\n",
        "| Lauren | 3 | 1 | 5 |  5 | 5 |\n",
        "|  Ahmed | 4  |  5 | 3  |  3 | 1 |\n",
        "\n",
        "\n",
        "I want to find out who is the most similar to Mikaela and who is most similar to Brandon, who rated the artists:\n",
        "\n",
        "\n",
        "| Guest  | Janelle Monae  | Major Lazer  | Tim McGraw  |  Maren Morris | Hailee Steinfeld| \n",
        "|---|---|---|---|---|---|\n",
        "|  Mikaela | 3  |  2 | 4  |  5 |4 |\n",
        "|  Brandon | 4  |  5 | 1  |  2 |3 |\n",
        "\n",
        "My first step is to read in the data and convert the guest name column as the index:"
      ]
    },
    {
      "cell_type": "code",
      "metadata": {
        "scrolled": true,
        "id": "NonLhodLYixq",
        "colab": {
          "base_uri": "https://localhost:8080/",
          "height": 297
        },
        "outputId": "fa089700-7d4a-4662-fecd-98b0ab004809"
      },
      "source": [
        "f = pd.read_csv('https://raw.githubusercontent.com/zacharski/ml-class/master/data/ratings2.csv')\n",
        "fr = f.set_index('Guest')\n",
        "fr"
      ],
      "execution_count": 95,
      "outputs": [
        {
          "output_type": "execute_result",
          "data": {
            "text/html": [
              "<div>\n",
              "<style scoped>\n",
              "    .dataframe tbody tr th:only-of-type {\n",
              "        vertical-align: middle;\n",
              "    }\n",
              "\n",
              "    .dataframe tbody tr th {\n",
              "        vertical-align: top;\n",
              "    }\n",
              "\n",
              "    .dataframe thead th {\n",
              "        text-align: right;\n",
              "    }\n",
              "</style>\n",
              "<table border=\"1\" class=\"dataframe\">\n",
              "  <thead>\n",
              "    <tr style=\"text-align: right;\">\n",
              "      <th></th>\n",
              "      <th>Janelle Monae</th>\n",
              "      <th>Major Lazer</th>\n",
              "      <th>Tim McGraw</th>\n",
              "      <th>Maren Morris</th>\n",
              "      <th>Hailee Steinfeld</th>\n",
              "    </tr>\n",
              "    <tr>\n",
              "      <th>Guest</th>\n",
              "      <th></th>\n",
              "      <th></th>\n",
              "      <th></th>\n",
              "      <th></th>\n",
              "      <th></th>\n",
              "    </tr>\n",
              "  </thead>\n",
              "  <tbody>\n",
              "    <tr>\n",
              "      <th>Ann</th>\n",
              "      <td>4</td>\n",
              "      <td>5</td>\n",
              "      <td>2</td>\n",
              "      <td>1</td>\n",
              "      <td>3</td>\n",
              "    </tr>\n",
              "    <tr>\n",
              "      <th>Ben</th>\n",
              "      <td>3</td>\n",
              "      <td>1</td>\n",
              "      <td>5</td>\n",
              "      <td>4</td>\n",
              "      <td>2</td>\n",
              "    </tr>\n",
              "    <tr>\n",
              "      <th>Jordyn</th>\n",
              "      <td>5</td>\n",
              "      <td>5</td>\n",
              "      <td>1</td>\n",
              "      <td>1</td>\n",
              "      <td>3</td>\n",
              "    </tr>\n",
              "    <tr>\n",
              "      <th>Sam</th>\n",
              "      <td>4</td>\n",
              "      <td>1</td>\n",
              "      <td>4</td>\n",
              "      <td>4</td>\n",
              "      <td>1</td>\n",
              "    </tr>\n",
              "    <tr>\n",
              "      <th>Hyunseo</th>\n",
              "      <td>1</td>\n",
              "      <td>1</td>\n",
              "      <td>5</td>\n",
              "      <td>4</td>\n",
              "      <td>1</td>\n",
              "    </tr>\n",
              "    <tr>\n",
              "      <th>Lauren</th>\n",
              "      <td>3</td>\n",
              "      <td>1</td>\n",
              "      <td>5</td>\n",
              "      <td>5</td>\n",
              "      <td>5</td>\n",
              "    </tr>\n",
              "    <tr>\n",
              "      <th>Ahmed</th>\n",
              "      <td>4</td>\n",
              "      <td>5</td>\n",
              "      <td>3</td>\n",
              "      <td>3</td>\n",
              "      <td>1</td>\n",
              "    </tr>\n",
              "  </tbody>\n",
              "</table>\n",
              "</div>"
            ],
            "text/plain": [
              "         Janelle Monae  Major Lazer  Tim McGraw  Maren Morris  Hailee Steinfeld\n",
              "Guest                                                                          \n",
              "Ann                  4            5           2             1                 3\n",
              "Ben                  3            1           5             4                 2\n",
              "Jordyn               5            5           1             1                 3\n",
              "Sam                  4            1           4             4                 1\n",
              "Hyunseo              1            1           5             4                 1\n",
              "Lauren               3            1           5             5                 5\n",
              "Ahmed                4            5           3             3                 1"
            ]
          },
          "metadata": {
            "tags": []
          },
          "execution_count": 95
        }
      ]
    },
    {
      "cell_type": "markdown",
      "metadata": {
        "id": "AXa6mYP0Yixq"
      },
      "source": [
        "Now let's load in Mikaela and Brandon in a different DataFrame"
      ]
    },
    {
      "cell_type": "code",
      "metadata": {
        "id": "Mgtz5c1RYixq",
        "colab": {
          "base_uri": "https://localhost:8080/",
          "height": 142
        },
        "outputId": "2200bc61-f25d-4e54-c888-cdc97f427abf"
      },
      "source": [
        "mb = pd.read_csv('https://raw.githubusercontent.com/zacharski/ml-class/master/data/ratings3.csv')\n",
        "mb.set_index('Guest', inplace=True)\n",
        "mb"
      ],
      "execution_count": 96,
      "outputs": [
        {
          "output_type": "execute_result",
          "data": {
            "text/html": [
              "<div>\n",
              "<style scoped>\n",
              "    .dataframe tbody tr th:only-of-type {\n",
              "        vertical-align: middle;\n",
              "    }\n",
              "\n",
              "    .dataframe tbody tr th {\n",
              "        vertical-align: top;\n",
              "    }\n",
              "\n",
              "    .dataframe thead th {\n",
              "        text-align: right;\n",
              "    }\n",
              "</style>\n",
              "<table border=\"1\" class=\"dataframe\">\n",
              "  <thead>\n",
              "    <tr style=\"text-align: right;\">\n",
              "      <th></th>\n",
              "      <th>Janelle Monae</th>\n",
              "      <th>Major Lazer</th>\n",
              "      <th>Tim McGraw</th>\n",
              "      <th>Maren Morris</th>\n",
              "      <th>Hailee Steinfeld</th>\n",
              "    </tr>\n",
              "    <tr>\n",
              "      <th>Guest</th>\n",
              "      <th></th>\n",
              "      <th></th>\n",
              "      <th></th>\n",
              "      <th></th>\n",
              "      <th></th>\n",
              "    </tr>\n",
              "  </thead>\n",
              "  <tbody>\n",
              "    <tr>\n",
              "      <th>Mikaela</th>\n",
              "      <td>3</td>\n",
              "      <td>2</td>\n",
              "      <td>4</td>\n",
              "      <td>5</td>\n",
              "      <td>4</td>\n",
              "    </tr>\n",
              "    <tr>\n",
              "      <th>Brandon</th>\n",
              "      <td>4</td>\n",
              "      <td>5</td>\n",
              "      <td>1</td>\n",
              "      <td>2</td>\n",
              "      <td>3</td>\n",
              "    </tr>\n",
              "  </tbody>\n",
              "</table>\n",
              "</div>"
            ],
            "text/plain": [
              "         Janelle Monae  Major Lazer  Tim McGraw  Maren Morris  Hailee Steinfeld\n",
              "Guest                                                                          \n",
              "Mikaela              3            2           4             5                 4\n",
              "Brandon              4            5           1             2                 3"
            ]
          },
          "metadata": {
            "tags": []
          },
          "execution_count": 96
        }
      ]
    },
    {
      "cell_type": "markdown",
      "metadata": {
        "id": "XIsu_zaUYixr"
      },
      "source": [
        "Let's work through the example step-by-step.\n",
        "\n",
        "First, can you set a variable named `mikaela` to equal the Mikaela row of `mb`?\n",
        "So something that starts with\n",
        "\n",
        "    mikaela = mb???????????"
      ]
    },
    {
      "cell_type": "code",
      "metadata": {
        "id": "vqZkIAxTYixr",
        "colab": {
          "base_uri": "https://localhost:8080/"
        },
        "outputId": "fe1dbd4b-13fa-4101-9daa-9b531c963bf2"
      },
      "source": [
        "mikaela = mb.loc['Mikaela']\n",
        "mikaela"
      ],
      "execution_count": 100,
      "outputs": [
        {
          "output_type": "execute_result",
          "data": {
            "text/plain": [
              "Janelle Monae       3\n",
              "Major Lazer         2\n",
              "Tim McGraw          4\n",
              "Maren Morris        5\n",
              "Hailee Steinfeld    4\n",
              "Name: Mikaela, dtype: int64"
            ]
          },
          "metadata": {
            "tags": []
          },
          "execution_count": 100
        }
      ]
    },
    {
      "cell_type": "markdown",
      "metadata": {
        "id": "NFtFhz6cYixr"
      },
      "source": [
        "First, let's subtract Mikaela's ratings from the other people's:"
      ]
    },
    {
      "cell_type": "code",
      "metadata": {
        "id": "Fpyk1YOVYixr",
        "colab": {
          "base_uri": "https://localhost:8080/",
          "height": 297
        },
        "outputId": "6a9797a6-7413-4963-a907-ad4652c7652c"
      },
      "source": [
        "fr2 =fr.sub(mikaela)\n",
        "fr2"
      ],
      "execution_count": 101,
      "outputs": [
        {
          "output_type": "execute_result",
          "data": {
            "text/html": [
              "<div>\n",
              "<style scoped>\n",
              "    .dataframe tbody tr th:only-of-type {\n",
              "        vertical-align: middle;\n",
              "    }\n",
              "\n",
              "    .dataframe tbody tr th {\n",
              "        vertical-align: top;\n",
              "    }\n",
              "\n",
              "    .dataframe thead th {\n",
              "        text-align: right;\n",
              "    }\n",
              "</style>\n",
              "<table border=\"1\" class=\"dataframe\">\n",
              "  <thead>\n",
              "    <tr style=\"text-align: right;\">\n",
              "      <th></th>\n",
              "      <th>Janelle Monae</th>\n",
              "      <th>Major Lazer</th>\n",
              "      <th>Tim McGraw</th>\n",
              "      <th>Maren Morris</th>\n",
              "      <th>Hailee Steinfeld</th>\n",
              "    </tr>\n",
              "    <tr>\n",
              "      <th>Guest</th>\n",
              "      <th></th>\n",
              "      <th></th>\n",
              "      <th></th>\n",
              "      <th></th>\n",
              "      <th></th>\n",
              "    </tr>\n",
              "  </thead>\n",
              "  <tbody>\n",
              "    <tr>\n",
              "      <th>Ann</th>\n",
              "      <td>1</td>\n",
              "      <td>3</td>\n",
              "      <td>-2</td>\n",
              "      <td>-4</td>\n",
              "      <td>-1</td>\n",
              "    </tr>\n",
              "    <tr>\n",
              "      <th>Ben</th>\n",
              "      <td>0</td>\n",
              "      <td>-1</td>\n",
              "      <td>1</td>\n",
              "      <td>-1</td>\n",
              "      <td>-2</td>\n",
              "    </tr>\n",
              "    <tr>\n",
              "      <th>Jordyn</th>\n",
              "      <td>2</td>\n",
              "      <td>3</td>\n",
              "      <td>-3</td>\n",
              "      <td>-4</td>\n",
              "      <td>-1</td>\n",
              "    </tr>\n",
              "    <tr>\n",
              "      <th>Sam</th>\n",
              "      <td>1</td>\n",
              "      <td>-1</td>\n",
              "      <td>0</td>\n",
              "      <td>-1</td>\n",
              "      <td>-3</td>\n",
              "    </tr>\n",
              "    <tr>\n",
              "      <th>Hyunseo</th>\n",
              "      <td>-2</td>\n",
              "      <td>-1</td>\n",
              "      <td>1</td>\n",
              "      <td>-1</td>\n",
              "      <td>-3</td>\n",
              "    </tr>\n",
              "    <tr>\n",
              "      <th>Lauren</th>\n",
              "      <td>0</td>\n",
              "      <td>-1</td>\n",
              "      <td>1</td>\n",
              "      <td>0</td>\n",
              "      <td>1</td>\n",
              "    </tr>\n",
              "    <tr>\n",
              "      <th>Ahmed</th>\n",
              "      <td>1</td>\n",
              "      <td>3</td>\n",
              "      <td>-1</td>\n",
              "      <td>-2</td>\n",
              "      <td>-3</td>\n",
              "    </tr>\n",
              "  </tbody>\n",
              "</table>\n",
              "</div>"
            ],
            "text/plain": [
              "         Janelle Monae  Major Lazer  Tim McGraw  Maren Morris  Hailee Steinfeld\n",
              "Guest                                                                          \n",
              "Ann                  1            3          -2            -4                -1\n",
              "Ben                  0           -1           1            -1                -2\n",
              "Jordyn               2            3          -3            -4                -1\n",
              "Sam                  1           -1           0            -1                -3\n",
              "Hyunseo             -2           -1           1            -1                -3\n",
              "Lauren               0           -1           1             0                 1\n",
              "Ahmed                1            3          -1            -2                -3"
            ]
          },
          "metadata": {
            "tags": []
          },
          "execution_count": 101
        }
      ]
    },
    {
      "cell_type": "markdown",
      "metadata": {
        "id": "RnKIJX_-Yixs"
      },
      "source": [
        "\n",
        "\n",
        "Next, we will get the absolute values "
      ]
    },
    {
      "cell_type": "code",
      "metadata": {
        "id": "V7X9_9DlYixs",
        "colab": {
          "base_uri": "https://localhost:8080/",
          "height": 297
        },
        "outputId": "f974f6fa-72a6-4c9c-98d7-803c9e19fa47"
      },
      "source": [
        "fr3 = fr2.apply(np.abs)\n",
        "fr3"
      ],
      "execution_count": 102,
      "outputs": [
        {
          "output_type": "execute_result",
          "data": {
            "text/html": [
              "<div>\n",
              "<style scoped>\n",
              "    .dataframe tbody tr th:only-of-type {\n",
              "        vertical-align: middle;\n",
              "    }\n",
              "\n",
              "    .dataframe tbody tr th {\n",
              "        vertical-align: top;\n",
              "    }\n",
              "\n",
              "    .dataframe thead th {\n",
              "        text-align: right;\n",
              "    }\n",
              "</style>\n",
              "<table border=\"1\" class=\"dataframe\">\n",
              "  <thead>\n",
              "    <tr style=\"text-align: right;\">\n",
              "      <th></th>\n",
              "      <th>Janelle Monae</th>\n",
              "      <th>Major Lazer</th>\n",
              "      <th>Tim McGraw</th>\n",
              "      <th>Maren Morris</th>\n",
              "      <th>Hailee Steinfeld</th>\n",
              "    </tr>\n",
              "    <tr>\n",
              "      <th>Guest</th>\n",
              "      <th></th>\n",
              "      <th></th>\n",
              "      <th></th>\n",
              "      <th></th>\n",
              "      <th></th>\n",
              "    </tr>\n",
              "  </thead>\n",
              "  <tbody>\n",
              "    <tr>\n",
              "      <th>Ann</th>\n",
              "      <td>1</td>\n",
              "      <td>3</td>\n",
              "      <td>2</td>\n",
              "      <td>4</td>\n",
              "      <td>1</td>\n",
              "    </tr>\n",
              "    <tr>\n",
              "      <th>Ben</th>\n",
              "      <td>0</td>\n",
              "      <td>1</td>\n",
              "      <td>1</td>\n",
              "      <td>1</td>\n",
              "      <td>2</td>\n",
              "    </tr>\n",
              "    <tr>\n",
              "      <th>Jordyn</th>\n",
              "      <td>2</td>\n",
              "      <td>3</td>\n",
              "      <td>3</td>\n",
              "      <td>4</td>\n",
              "      <td>1</td>\n",
              "    </tr>\n",
              "    <tr>\n",
              "      <th>Sam</th>\n",
              "      <td>1</td>\n",
              "      <td>1</td>\n",
              "      <td>0</td>\n",
              "      <td>1</td>\n",
              "      <td>3</td>\n",
              "    </tr>\n",
              "    <tr>\n",
              "      <th>Hyunseo</th>\n",
              "      <td>2</td>\n",
              "      <td>1</td>\n",
              "      <td>1</td>\n",
              "      <td>1</td>\n",
              "      <td>3</td>\n",
              "    </tr>\n",
              "    <tr>\n",
              "      <th>Lauren</th>\n",
              "      <td>0</td>\n",
              "      <td>1</td>\n",
              "      <td>1</td>\n",
              "      <td>0</td>\n",
              "      <td>1</td>\n",
              "    </tr>\n",
              "    <tr>\n",
              "      <th>Ahmed</th>\n",
              "      <td>1</td>\n",
              "      <td>3</td>\n",
              "      <td>1</td>\n",
              "      <td>2</td>\n",
              "      <td>3</td>\n",
              "    </tr>\n",
              "  </tbody>\n",
              "</table>\n",
              "</div>"
            ],
            "text/plain": [
              "         Janelle Monae  Major Lazer  Tim McGraw  Maren Morris  Hailee Steinfeld\n",
              "Guest                                                                          \n",
              "Ann                  1            3           2             4                 1\n",
              "Ben                  0            1           1             1                 2\n",
              "Jordyn               2            3           3             4                 1\n",
              "Sam                  1            1           0             1                 3\n",
              "Hyunseo              2            1           1             1                 3\n",
              "Lauren               0            1           1             0                 1\n",
              "Ahmed                1            3           1             2                 3"
            ]
          },
          "metadata": {
            "tags": []
          },
          "execution_count": 102
        }
      ]
    },
    {
      "cell_type": "markdown",
      "metadata": {
        "id": "LCdn0_F5Yixs"
      },
      "source": [
        "and sum the values in each row to compute the distances"
      ]
    },
    {
      "cell_type": "code",
      "metadata": {
        "id": "IVwhe0meYixt",
        "colab": {
          "base_uri": "https://localhost:8080/"
        },
        "outputId": "afce2b65-881f-4ca2-d3aa-10f8b9c5414c"
      },
      "source": [
        "fr4 = fr3.sum(axis = 1)\n",
        "fr4"
      ],
      "execution_count": 103,
      "outputs": [
        {
          "output_type": "execute_result",
          "data": {
            "text/plain": [
              "Guest\n",
              "Ann        11\n",
              "Ben         5\n",
              "Jordyn     13\n",
              "Sam         6\n",
              "Hyunseo     8\n",
              "Lauren      3\n",
              "Ahmed      10\n",
              "dtype: int64"
            ]
          },
          "metadata": {
            "tags": []
          },
          "execution_count": 103
        }
      ]
    },
    {
      "cell_type": "markdown",
      "metadata": {
        "id": "GM9ZfR_cYixt"
      },
      "source": [
        "Finally, let's sort by the distance and get the three closest guests:"
      ]
    },
    {
      "cell_type": "code",
      "metadata": {
        "id": "15sjgU9nYixt",
        "colab": {
          "base_uri": "https://localhost:8080/"
        },
        "outputId": "26160867-227c-4219-a3ed-d39a4e18698c"
      },
      "source": [
        "fr4.sort_values().head(3)"
      ],
      "execution_count": 104,
      "outputs": [
        {
          "output_type": "execute_result",
          "data": {
            "text/plain": [
              "Guest\n",
              "Lauren    3\n",
              "Ben       5\n",
              "Sam       6\n",
              "dtype: int64"
            ]
          },
          "metadata": {
            "tags": []
          },
          "execution_count": 104
        }
      ]
    },
    {
      "cell_type": "markdown",
      "metadata": {
        "id": "Do8fRQNjYixt"
      },
      "source": [
        "So Lauren is the person most similar to Mikaela, followed by Ben and Sam.\n",
        "\n",
        "<h3 style=\"color:red\">Q6. Find Closest</h3>\n",
        "\n",
        "<span style=\"color:red\">Can you write a function nearestNeighbor that takes 2 arguments: a customers dataframe,  and an array representing one customers ratings and returns the name and distance of the closest  customer (using Euclidean Distance)?</span>\n",
        "\n"
      ]
    },
    {
      "cell_type": "code",
      "metadata": {
        "id": "yWqk6OVGYixu",
        "colab": {
          "base_uri": "https://localhost:8080/"
        },
        "outputId": "284c1d69-e64d-477c-fcd0-f456f98d5b8a"
      },
      "source": [
        "ahmed = [4, 5, 3, 3, 1]\n",
        "def nearestNeighbor(ratings, customer):\n",
        "    a = ratings.sub(customer)\n",
        "    sqr = np.square(a)\n",
        "    add = sqr.sum(axis=1)\n",
        "    rooted = np.sqrt(add)\n",
        "    rooted = np.argsort(rooted)\n",
        "    return rooted.sort_values().head(1)\n",
        "    \n",
        "    \n",
        "print(nearestNeighbor(fr, mikaela))\n",
        "# TO DO\n",
        "brandon = mb.loc['Brandon']\n",
        "print(nearestNeighbor(fr, brandon))"
      ],
      "execution_count": 117,
      "outputs": [
        {
          "output_type": "stream",
          "text": [
            "Guest\n",
            "Lauren    0\n",
            "dtype: int64\n",
            "Guest\n",
            "Ann    0\n",
            "dtype: int64\n"
          ],
          "name": "stdout"
        }
      ]
    },
    {
      "cell_type": "markdown",
      "metadata": {
        "collapsed": true,
        "id": "jTi2GpZ8Yixu"
      },
      "source": [
        "<h3 style=\"color:red\">Q7. Find Closest using Euclidean Distance</h3>\n",
        "\n",
        "<span style=\"color:red\">Can you write a new function nearestNeighbor that takes 3 arguments</span>\n",
        "\n",
        "* ratings - an DataFrame representing all our customer ratings\n",
        "* customer - a DataFrame representing one customer's rating\n",
        "* metric - the value is either the string 'manhattan' or 'euclidean' representing which metric to use to compute the distance.\n",
        "    a customers dataframe,  and an array representing one customers ratings\n",
        "    \n",
        "It returns the name and distance of the closest  customer (using Euclidean Distance)?\n"
      ]
    },
    {
      "cell_type": "code",
      "metadata": {
        "colab": {
          "base_uri": "https://localhost:8080/",
          "height": 297
        },
        "id": "aFvA0Yx0sRgW",
        "outputId": "9b578c20-12d0-480d-a7d5-d2691b4380b0"
      },
      "source": [
        "fr"
      ],
      "execution_count": 130,
      "outputs": [
        {
          "output_type": "execute_result",
          "data": {
            "text/html": [
              "<div>\n",
              "<style scoped>\n",
              "    .dataframe tbody tr th:only-of-type {\n",
              "        vertical-align: middle;\n",
              "    }\n",
              "\n",
              "    .dataframe tbody tr th {\n",
              "        vertical-align: top;\n",
              "    }\n",
              "\n",
              "    .dataframe thead th {\n",
              "        text-align: right;\n",
              "    }\n",
              "</style>\n",
              "<table border=\"1\" class=\"dataframe\">\n",
              "  <thead>\n",
              "    <tr style=\"text-align: right;\">\n",
              "      <th></th>\n",
              "      <th>Janelle Monae</th>\n",
              "      <th>Major Lazer</th>\n",
              "      <th>Tim McGraw</th>\n",
              "      <th>Maren Morris</th>\n",
              "      <th>Hailee Steinfeld</th>\n",
              "    </tr>\n",
              "    <tr>\n",
              "      <th>Guest</th>\n",
              "      <th></th>\n",
              "      <th></th>\n",
              "      <th></th>\n",
              "      <th></th>\n",
              "      <th></th>\n",
              "    </tr>\n",
              "  </thead>\n",
              "  <tbody>\n",
              "    <tr>\n",
              "      <th>Ann</th>\n",
              "      <td>4</td>\n",
              "      <td>5</td>\n",
              "      <td>2</td>\n",
              "      <td>1</td>\n",
              "      <td>3</td>\n",
              "    </tr>\n",
              "    <tr>\n",
              "      <th>Ben</th>\n",
              "      <td>3</td>\n",
              "      <td>1</td>\n",
              "      <td>5</td>\n",
              "      <td>4</td>\n",
              "      <td>2</td>\n",
              "    </tr>\n",
              "    <tr>\n",
              "      <th>Jordyn</th>\n",
              "      <td>5</td>\n",
              "      <td>5</td>\n",
              "      <td>1</td>\n",
              "      <td>1</td>\n",
              "      <td>3</td>\n",
              "    </tr>\n",
              "    <tr>\n",
              "      <th>Sam</th>\n",
              "      <td>4</td>\n",
              "      <td>1</td>\n",
              "      <td>4</td>\n",
              "      <td>4</td>\n",
              "      <td>1</td>\n",
              "    </tr>\n",
              "    <tr>\n",
              "      <th>Hyunseo</th>\n",
              "      <td>1</td>\n",
              "      <td>1</td>\n",
              "      <td>5</td>\n",
              "      <td>4</td>\n",
              "      <td>1</td>\n",
              "    </tr>\n",
              "    <tr>\n",
              "      <th>Lauren</th>\n",
              "      <td>3</td>\n",
              "      <td>1</td>\n",
              "      <td>5</td>\n",
              "      <td>5</td>\n",
              "      <td>5</td>\n",
              "    </tr>\n",
              "    <tr>\n",
              "      <th>Ahmed</th>\n",
              "      <td>4</td>\n",
              "      <td>5</td>\n",
              "      <td>3</td>\n",
              "      <td>3</td>\n",
              "      <td>1</td>\n",
              "    </tr>\n",
              "  </tbody>\n",
              "</table>\n",
              "</div>"
            ],
            "text/plain": [
              "         Janelle Monae  Major Lazer  Tim McGraw  Maren Morris  Hailee Steinfeld\n",
              "Guest                                                                          \n",
              "Ann                  4            5           2             1                 3\n",
              "Ben                  3            1           5             4                 2\n",
              "Jordyn               5            5           1             1                 3\n",
              "Sam                  4            1           4             4                 1\n",
              "Hyunseo              1            1           5             4                 1\n",
              "Lauren               3            1           5             5                 5\n",
              "Ahmed                4            5           3             3                 1"
            ]
          },
          "metadata": {
            "tags": []
          },
          "execution_count": 130
        }
      ]
    },
    {
      "cell_type": "code",
      "metadata": {
        "colab": {
          "base_uri": "https://localhost:8080/"
        },
        "id": "x-ijrdXAp8yz",
        "outputId": "e17b4ffd-a59f-4fd3-cae3-7b5805b7dd49"
      },
      "source": [
        "def nearestNeighbor(ratings, customer, metric):\n",
        "  if metric == 'euclidean':\n",
        "    a = ratings.sub(customer)\n",
        "    sqr = np.square(a).sum(axis=1)\n",
        "    rooted = np.sqrt(sqr)\n",
        "    rooted = np.argsort(rooted)\n",
        "    return rooted.sort_values().head(1)\n",
        "  elif metric == 'manhattan':\n",
        "    one = ratings.sub(customer)\n",
        "    two = one.apply(np.abs)\n",
        "    three = two.sum(axis=1)\n",
        "    four = three.sort_values().head(1)\n",
        "    return four\n",
        "print(nearestNeighbor(fr, mikaela, metric='euclidean'))"
      ],
      "execution_count": 136,
      "outputs": [
        {
          "output_type": "stream",
          "text": [
            "Guest\n",
            "Lauren    0\n",
            "dtype: int64\n"
          ],
          "name": "stdout"
        }
      ]
    },
    {
      "cell_type": "code",
      "metadata": {
        "colab": {
          "base_uri": "https://localhost:8080/"
        },
        "id": "I8nq6AtGsBtn",
        "outputId": "fd6062cf-05ce-460c-9870-28f73c4649a1"
      },
      "source": [
        "mikaela"
      ],
      "execution_count": 128,
      "outputs": [
        {
          "output_type": "execute_result",
          "data": {
            "text/plain": [
              "Janelle Monae       3\n",
              "Major Lazer         2\n",
              "Tim McGraw          4\n",
              "Maren Morris        5\n",
              "Hailee Steinfeld    4\n",
              "Name: Mikaela, dtype: int64"
            ]
          },
          "metadata": {
            "tags": []
          },
          "execution_count": 128
        }
      ]
    },
    {
      "cell_type": "code",
      "metadata": {
        "id": "T3meDcmJYixu",
        "colab": {
          "base_uri": "https://localhost:8080/"
        },
        "outputId": "a30716b6-fa10-4e9e-8849-7ee788ba2066"
      },
      "source": [
        "print(nearestNeighbor(fr, mikaela, metric='euclidean'))\n",
        "# TO DO\n",
        "brandon = mb.loc['Brandon']\n",
        "print(nearestNeighbor(fr, brandon, metric='euclidean'))"
      ],
      "execution_count": 137,
      "outputs": [
        {
          "output_type": "stream",
          "text": [
            "Guest\n",
            "Lauren    0\n",
            "dtype: int64\n",
            "Guest\n",
            "Ann    0\n",
            "dtype: int64\n"
          ],
          "name": "stdout"
        }
      ]
    }
  ]
}