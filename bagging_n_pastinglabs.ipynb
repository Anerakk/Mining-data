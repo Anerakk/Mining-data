{
  "nbformat": 4,
  "nbformat_minor": 0,
  "metadata": {
    "kernelspec": {
      "display_name": "Python 3",
      "language": "python",
      "name": "python3"
    },
    "language_info": {
      "codemirror_mode": {
        "name": "ipython",
        "version": 3
      },
      "file_extension": ".py",
      "mimetype": "text/x-python",
      "name": "python",
      "nbconvert_exporter": "python",
      "pygments_lexer": "ipython3",
      "version": "3.8.3"
    },
    "colab": {
      "name": "bagging_n_pastinglabs.ipynb",
      "provenance": [],
      "include_colab_link": true
    }
  },
  "cells": [
    {
      "cell_type": "markdown",
      "metadata": {
        "id": "view-in-github",
        "colab_type": "text"
      },
      "source": [
        "<a href=\"https://colab.research.google.com/github/Anerakk/Mining-data/blob/main/bagging_n_pastinglabs.ipynb\" target=\"_parent\"><img src=\"https://colab.research.google.com/assets/colab-badge.svg\" alt=\"Open In Colab\"/></a>"
      ]
    },
    {
      "cell_type": "markdown",
      "metadata": {
        "id": "QBYrrPhRwzna"
      },
      "source": [
        "# Bagging and Pasting\n",
        "\n",
        "#### Part of the [Inquiryum Machine Learning Fundamentals Course](http://inquiryum.com/machine-learning/)\n",
        "\n",
        "![](https://raw.githubusercontent.com/zacharski/ml-class/master/labs/pics/bagging..png)\n",
        "\n",
        "\n",
        "Now we are about to embark on our journey from simple decision trees to algorithms that use decision trees as components. The path goes like this:\n",
        "\n",
        "\n",
        "![](https://raw.githubusercontent.com/zacharski/ml-class/master/labs/pics/dbxg.png)\n",
        "\n",
        "The use of decision trees began in the 1980s and XGBoost was introduced in 2016. Throughout the next few notebooks we will explore this progression of algorithms.  \n",
        "\n",
        "### A collective of classifiers\n",
        "\n",
        "To gain an intuition on how this works, let's look at how our confidence might increase when more people tell us something. Whether it is multiple doctors giving us the same diagnosis or something as simple as ...\n",
        "\n",
        "#### The Mary Spender example\n",
        "\n",
        "Let's say one of your friends mentions over lunch (pre-covid apparently) that you would love a particular musical artist on YouTube, say Mary Spender, who you never heard before. \n",
        "\n",
        "![](https://raw.githubusercontent.com/zacharski/ml-class/master/labs/pics/MarySpender2.png)\n",
        "\n",
        "What is the chance that you will actually like Mary Spender's music? Maybe slighly better than chance? Let's say you think there is a 60% chance you will like her. You will file away the recommendation but you are not going to rush home and watch a YouTube video.  Now, in addition to the lunch friend's recommendation,  an old music school friend, now living in Austin messages you saying you should check out Mary Spender and the friend predicts you will absolutely love her. Then a week later, while talking with an old bandmate over the phone, that bandmate, again, recommends Mary Spender. Over the course of less than 10 days, three of your friends independently (because they don't know one another) recommend Mary Spender. Now what is the likelihood of you liking Mary Spender? I am guessing you think that now it is higher than 60%. Maybe now you think it is 90% likely you will like her. It is the aggregate of these 3 people's opinions (3 classifiers) that ups the accuracy of the prediction.\n",
        "\n",
        "![](https://raw.githubusercontent.com/zacharski/ml-class/master/labs/pics/spender22.png)\n",
        "\n",
        "\n",
        "This is similar to how bagging works. One aggregates the votes of a number of classifiers and the vote of that ensemble of classifiers is more accurate than that of a single classifier. Even if the accuracy of each component classifier is low (known as a weak classifier), the ensemble can be a strong (high accuracy) classifier. Of course there are some caveats. \n",
        "\n",
        "Back to the Mary Spender example. Suppose one of your friends went to a Mary Spender concert and then later in the week met with four other of your friends and mentioned that she thought you would love Mary Spender's music. Then, over the course of a week all those friends recommended Mary Spender to you. In this case the recommendations are not that independent---all are based on one person's opinion. Thus, the accuracy would not be as great as in the example above. Similarly, if you made 10 copies of the exact same classifier each trained on exactly the same data, the accuracy of the ensemble of clones would not be any better than the accuracy of a single copy. Moving away from Mary Spender and our musical tastes and back to machine learning, we can try to create independence among the classifier in 2 ways:\n",
        "\n",
        "1. We can change the type of classifier. For example, we can use a k-Nearest Neighbor Classifier with Manhattan distance and a k of 5, a k-Nearest Neighbor Classifier with Euclidean distance and a k of 3, a decision tree classifier using entropy and a max depth of 5, and a decision tree classifier with using gini and no max depth specified. Hopefully, the accuracy of the ensemble of the four classifiers would be greater than that of a single classifier.\n",
        "2. We can have an ensemble of the same classifier (for example, 10 decision tree classifiers with identical hyperparameters) but each classifier can get a different subset of the training data. The classifiers would thus build different models (differents 'rules') and, again, the accuracy of the ensemble should be greather than that of a single classifier. This is the approach we will take.\n",
        "\n",
        "### Bagging and Pasting\n",
        "\n",
        "\n",
        "In this Jupyter notebook, we are going to explore Bagging algorithms. Bagging algorithms come in a variety of 'flavors' including one called 'bagging' and one called 'pasting'.\n",
        "\n",
        "But first an experiment on the what *with replacement* means. As you will see shortly, that term is the crucial difference between bagging and pasting.\n",
        "\n",
        "### A small experiment\n",
        "NOTE: The following code is just used for illustration and is nothing we will be using for machine learning. \n",
        "\n",
        "Consider a list of 5 red balls and 5 blue balls:"
      ]
    },
    {
      "cell_type": "code",
      "metadata": {
        "id": "nFxHvraswznl"
      },
      "source": [
        "bag = ['red', 'red', 'red', 'red', 'red',\n",
        "       'blue', 'blue', 'blue', 'blue', 'blue']"
      ],
      "execution_count": 1,
      "outputs": []
    },
    {
      "cell_type": "markdown",
      "metadata": {
        "id": "j7fuBzfVwznm"
      },
      "source": [
        "Suppose we want to pick 7 random balls from this list. Python offers two functions that will give us random elements from a list.One is called `choices` which selects a sample with replacement, which means that once a ball is selected it is put back in the bag so it has the potential to be selected again. Let's give it a try, and just because things are random let's do this 100 times:"
      ]
    },
    {
      "cell_type": "code",
      "metadata": {
        "id": "fplRz4Fuwznm",
        "colab": {
          "base_uri": "https://localhost:8080/"
        },
        "outputId": "47d5b2b3-00a5-4131-d2d2-777dae598d84"
      },
      "source": [
        "import random\n",
        "total = 0\n",
        "for i in range(100):\n",
        "    set = random.choices(bag, k=7)\n",
        "    blue = set.count('blue')\n",
        "    red = set.count('red')\n",
        "    if blue > 5 or red > 5:\n",
        "        print(\"%i blue and %i red\" % (set.count('blue'), set.count('red')))\n",
        "        total +=1\n",
        "print(\"Balls selected exceeded balls in bag: %i\" % (total))"
      ],
      "execution_count": 3,
      "outputs": [
        {
          "output_type": "stream",
          "text": [
            "1 blue and 6 red\n",
            "6 blue and 1 red\n",
            "1 blue and 6 red\n",
            "6 blue and 1 red\n",
            "0 blue and 7 red\n",
            "6 blue and 1 red\n",
            "6 blue and 1 red\n",
            "6 blue and 1 red\n",
            "6 blue and 1 red\n",
            "6 blue and 1 red\n",
            "6 blue and 1 red\n",
            "6 blue and 1 red\n",
            "Balls selected exceeded balls in bag: 12\n"
          ],
          "name": "stdout"
        }
      ]
    },
    {
      "cell_type": "markdown",
      "metadata": {
        "id": "gEhcbn4twzno"
      },
      "source": [
        "*A reminder: please don't mindlessly execute the code. Look at it and understand it*\n",
        "\n",
        "When I ran this, 14 times out of 100 had more of one color ball than there were in the original bag. In fact, several times I ended up with all 7 of the balls blue, even though the original list had only 5 balls:\n",
        "\n",
        "```\n",
        "7 blue and 0 red\n",
        "6 blue and 1 red\n",
        "7 blue and 0 red\n",
        "1 blue and 6 red\n",
        "0 blue and 7 red\n",
        "1 blue and 6 red\n",
        "1 blue and 6 red\n",
        "6 blue and 1 red\n",
        "6 blue and 1 red\n",
        "1 blue and 6 red\n",
        "6 blue and 1 red\n",
        "1 blue and 6 red\n",
        "6 blue and 1 red\n",
        "6 blue and 1 red\n",
        "Balls selected exceeded balls in bag: 14\n",
        "```\n",
        "Again, this is called selecting with replacement (we put what we selected back in the set before selecting again). \n",
        "\n",
        "The other alternative is to select without replacement--once we select something we can't select it again. Python's `sample` does this:\n"
      ]
    },
    {
      "cell_type": "code",
      "metadata": {
        "id": "WOaoEOQMwznp",
        "colab": {
          "base_uri": "https://localhost:8080/"
        },
        "outputId": "60988a18-c0d5-4302-bc51-877dd835e595"
      },
      "source": [
        "import random\n",
        "total = 0\n",
        "for i in range(1000):\n",
        "    set = random.sample(bag, k=7)\n",
        "    blue = set.count('blue')\n",
        "    red = set.count('red')\n",
        "    if blue > 5 or red > 5:\n",
        "        print(\"%i blue and %i red\" % (set.count('blue'), set.count('red')))\n",
        "        total +=1\n",
        "print(\"Balls selected exceeded balls in bag: %i\" % (total))"
      ],
      "execution_count": 4,
      "outputs": [
        {
          "output_type": "stream",
          "text": [
            "Balls selected exceeded balls in bag: 0\n"
          ],
          "name": "stdout"
        }
      ]
    },
    {
      "cell_type": "markdown",
      "metadata": {
        "id": "xXa8xHYewznp"
      },
      "source": [
        "As you can see, the number of a specific colored ball that we select never exceeded the number of balls of that color in the original set.\n",
        "\n",
        "Now back to bagging and pasting. In both approaches we are going to sample the training data. Let's say we want 70% of the training data in our sample. In bagging ([Breiman, 1996](https://link.springer.com/content/pdf/10.1007/BF00058655.pdf)), if we our training dataset is 1000 instances and we want 70% for a particular classifier, the algorithm will randomly select 700 out of the 1,000 **with replacement**. With pasting ([Breiman, 1998](https://link.springer.com/article/10.1023/A:1007563306331)), the selection is done **without replacement**. \n",
        "\n",
        "#### but wait, there is more ...\n",
        "\n",
        "There are two other options. Instead of selecting a random subset of training data instances, we can select a random subset of columns (features). Let's say we have a dataset of 1,000 instances each with 100 features. When we select a random subset of columns, we still have 1,000 instances but now they have just a subset of the features. This is called Random Subspaces ([Ho, 1998](https://pdfs.semanticscholar.org/b41d/0fa5fdaadd47fc882d3db04277d03fb21832.pdf?_ga=2.196949164.1638238666.1596910000-1073138517.1596910000)).\n",
        "\n",
        "Finally, we can train a classifier on both random subsets of instances and random subsets of features. This is known as Random Patches ([Louppe and Geurts, 2012](https://www.researchgate.net/publication/262212941_Ensembles_on_Random_Patches))\n",
        "\n",
        "In summary, the four methods are:\n",
        "\n",
        "* **bagging** - select a subset of data set instances using replacement\n",
        "* **pasting** - select a subset of data set instances without replacement\n",
        "* **Random Subspaces** - select a subset of features\n",
        "* **Random Patches** - select both a subset of features and of instances\n",
        "\n",
        "Let's see how this works!\n",
        "\n",
        "First, let's grab the Wisconsin Cancer data we used before:\n",
        "\n",
        "#### Wisconsin Cancer Dataset\n",
        "![](https://raw.githubusercontent.com/zacharski/ml-class/master/labs/pics/aimam.png)\n",
        "(image from Nvidia's [AI Improves Breast Cancer Diagnoses by Factoring Out False Positives](https://blogs.nvidia.com/blog/2018/02/01/making-mammography-more-meaningful/))\n",
        "\n",
        "[A description of the Cancer Database](#Breast-Cancer-Database)\n",
        "\n",
        "In this dataset we are trying to predict the diagnosis---either M (malignant) or B (benign).\n",
        "\n",
        "Let's load the dataset and split it into training and testing sets"
      ]
    },
    {
      "cell_type": "code",
      "metadata": {
        "id": "6XJHn2fYwznr",
        "colab": {
          "base_uri": "https://localhost:8080/",
          "height": 470
        },
        "outputId": "33286196-0cdd-44ae-d8d2-88ddd9023ba3"
      },
      "source": [
        "import pandas as pd\n",
        "from sklearn.model_selection import train_test_split\n",
        "from sklearn.metrics import accuracy_score\n",
        "\n",
        "colNames = ['id', 'diagnosis', 'radiusAvg', 'textureAvg', 'perimeterAvg', 'areaAvg',\n",
        "            'smoothnessAvg', 'compactnessAvg', 'concavityAvg', 'concavityPointsAvg',\n",
        "            'symmetryAvg', 'FractalDimensionAvg', 'radiusSE', 'textureSE', 'perimeterSE',\n",
        "            'areaSE','smoothnessSE', 'compactnessSE', 'concavitySE', 'concavityPointsSE',\n",
        "            'symmetrySE', 'FractalDimensionSE', 'radiusWorst', 'textureWorst', 'perimeterWorst',\n",
        "            'areaWorst', 'smoothnessWorst', 'compactnessWorst', 'concavityWorst', 'concavityPointsWorst',\n",
        "            'symmetryWorst>', 'FractalDimensionWorst']\n",
        "len(colNames)\n",
        "\n",
        "data = pd.read_csv('https://raw.githubusercontent.com/zacharski/ml-class/master/data/wdbc.data', names=colNames)\n",
        "data.set_index('id', inplace=True)\n",
        "\n",
        "trainingdata, testdata = train_test_split(data, test_size = 0.2)\n",
        "testdata"
      ],
      "execution_count": 5,
      "outputs": [
        {
          "output_type": "execute_result",
          "data": {
            "text/html": [
              "<div>\n",
              "<style scoped>\n",
              "    .dataframe tbody tr th:only-of-type {\n",
              "        vertical-align: middle;\n",
              "    }\n",
              "\n",
              "    .dataframe tbody tr th {\n",
              "        vertical-align: top;\n",
              "    }\n",
              "\n",
              "    .dataframe thead th {\n",
              "        text-align: right;\n",
              "    }\n",
              "</style>\n",
              "<table border=\"1\" class=\"dataframe\">\n",
              "  <thead>\n",
              "    <tr style=\"text-align: right;\">\n",
              "      <th></th>\n",
              "      <th>diagnosis</th>\n",
              "      <th>radiusAvg</th>\n",
              "      <th>textureAvg</th>\n",
              "      <th>perimeterAvg</th>\n",
              "      <th>areaAvg</th>\n",
              "      <th>smoothnessAvg</th>\n",
              "      <th>compactnessAvg</th>\n",
              "      <th>concavityAvg</th>\n",
              "      <th>concavityPointsAvg</th>\n",
              "      <th>symmetryAvg</th>\n",
              "      <th>FractalDimensionAvg</th>\n",
              "      <th>radiusSE</th>\n",
              "      <th>textureSE</th>\n",
              "      <th>perimeterSE</th>\n",
              "      <th>areaSE</th>\n",
              "      <th>smoothnessSE</th>\n",
              "      <th>compactnessSE</th>\n",
              "      <th>concavitySE</th>\n",
              "      <th>concavityPointsSE</th>\n",
              "      <th>symmetrySE</th>\n",
              "      <th>FractalDimensionSE</th>\n",
              "      <th>radiusWorst</th>\n",
              "      <th>textureWorst</th>\n",
              "      <th>perimeterWorst</th>\n",
              "      <th>areaWorst</th>\n",
              "      <th>smoothnessWorst</th>\n",
              "      <th>compactnessWorst</th>\n",
              "      <th>concavityWorst</th>\n",
              "      <th>concavityPointsWorst</th>\n",
              "      <th>symmetryWorst&gt;</th>\n",
              "      <th>FractalDimensionWorst</th>\n",
              "    </tr>\n",
              "    <tr>\n",
              "      <th>id</th>\n",
              "      <th></th>\n",
              "      <th></th>\n",
              "      <th></th>\n",
              "      <th></th>\n",
              "      <th></th>\n",
              "      <th></th>\n",
              "      <th></th>\n",
              "      <th></th>\n",
              "      <th></th>\n",
              "      <th></th>\n",
              "      <th></th>\n",
              "      <th></th>\n",
              "      <th></th>\n",
              "      <th></th>\n",
              "      <th></th>\n",
              "      <th></th>\n",
              "      <th></th>\n",
              "      <th></th>\n",
              "      <th></th>\n",
              "      <th></th>\n",
              "      <th></th>\n",
              "      <th></th>\n",
              "      <th></th>\n",
              "      <th></th>\n",
              "      <th></th>\n",
              "      <th></th>\n",
              "      <th></th>\n",
              "      <th></th>\n",
              "      <th></th>\n",
              "      <th></th>\n",
              "      <th></th>\n",
              "    </tr>\n",
              "  </thead>\n",
              "  <tbody>\n",
              "    <tr>\n",
              "      <th>90524101</th>\n",
              "      <td>M</td>\n",
              "      <td>17.99</td>\n",
              "      <td>20.66</td>\n",
              "      <td>117.80</td>\n",
              "      <td>991.7</td>\n",
              "      <td>0.10360</td>\n",
              "      <td>0.13040</td>\n",
              "      <td>0.120100</td>\n",
              "      <td>0.08824</td>\n",
              "      <td>0.1992</td>\n",
              "      <td>0.06069</td>\n",
              "      <td>0.4537</td>\n",
              "      <td>0.8733</td>\n",
              "      <td>3.061</td>\n",
              "      <td>49.81</td>\n",
              "      <td>0.007231</td>\n",
              "      <td>0.027720</td>\n",
              "      <td>0.025090</td>\n",
              "      <td>0.014800</td>\n",
              "      <td>0.01414</td>\n",
              "      <td>0.003336</td>\n",
              "      <td>21.08</td>\n",
              "      <td>25.41</td>\n",
              "      <td>138.10</td>\n",
              "      <td>1349.0</td>\n",
              "      <td>0.1482</td>\n",
              "      <td>0.3735</td>\n",
              "      <td>0.33010</td>\n",
              "      <td>0.19740</td>\n",
              "      <td>0.3060</td>\n",
              "      <td>0.08503</td>\n",
              "    </tr>\n",
              "    <tr>\n",
              "      <th>914580</th>\n",
              "      <td>B</td>\n",
              "      <td>12.47</td>\n",
              "      <td>17.31</td>\n",
              "      <td>80.45</td>\n",
              "      <td>480.1</td>\n",
              "      <td>0.08928</td>\n",
              "      <td>0.07630</td>\n",
              "      <td>0.036090</td>\n",
              "      <td>0.02369</td>\n",
              "      <td>0.1526</td>\n",
              "      <td>0.06046</td>\n",
              "      <td>0.1532</td>\n",
              "      <td>0.7810</td>\n",
              "      <td>1.253</td>\n",
              "      <td>11.91</td>\n",
              "      <td>0.003796</td>\n",
              "      <td>0.013710</td>\n",
              "      <td>0.013460</td>\n",
              "      <td>0.007096</td>\n",
              "      <td>0.01536</td>\n",
              "      <td>0.001541</td>\n",
              "      <td>14.06</td>\n",
              "      <td>24.34</td>\n",
              "      <td>92.82</td>\n",
              "      <td>607.3</td>\n",
              "      <td>0.1276</td>\n",
              "      <td>0.2506</td>\n",
              "      <td>0.20280</td>\n",
              "      <td>0.10530</td>\n",
              "      <td>0.3035</td>\n",
              "      <td>0.07661</td>\n",
              "    </tr>\n",
              "    <tr>\n",
              "      <th>879830</th>\n",
              "      <td>M</td>\n",
              "      <td>17.01</td>\n",
              "      <td>20.26</td>\n",
              "      <td>109.70</td>\n",
              "      <td>904.3</td>\n",
              "      <td>0.08772</td>\n",
              "      <td>0.07304</td>\n",
              "      <td>0.069500</td>\n",
              "      <td>0.05390</td>\n",
              "      <td>0.2026</td>\n",
              "      <td>0.05223</td>\n",
              "      <td>0.5858</td>\n",
              "      <td>0.8554</td>\n",
              "      <td>4.106</td>\n",
              "      <td>68.46</td>\n",
              "      <td>0.005038</td>\n",
              "      <td>0.015030</td>\n",
              "      <td>0.019460</td>\n",
              "      <td>0.011230</td>\n",
              "      <td>0.02294</td>\n",
              "      <td>0.002581</td>\n",
              "      <td>19.80</td>\n",
              "      <td>25.05</td>\n",
              "      <td>130.00</td>\n",
              "      <td>1210.0</td>\n",
              "      <td>0.1111</td>\n",
              "      <td>0.1486</td>\n",
              "      <td>0.19320</td>\n",
              "      <td>0.10960</td>\n",
              "      <td>0.3275</td>\n",
              "      <td>0.06469</td>\n",
              "    </tr>\n",
              "    <tr>\n",
              "      <th>922297</th>\n",
              "      <td>B</td>\n",
              "      <td>13.87</td>\n",
              "      <td>20.70</td>\n",
              "      <td>89.77</td>\n",
              "      <td>584.8</td>\n",
              "      <td>0.09578</td>\n",
              "      <td>0.10180</td>\n",
              "      <td>0.036880</td>\n",
              "      <td>0.02369</td>\n",
              "      <td>0.1620</td>\n",
              "      <td>0.06688</td>\n",
              "      <td>0.2720</td>\n",
              "      <td>1.0470</td>\n",
              "      <td>2.076</td>\n",
              "      <td>23.12</td>\n",
              "      <td>0.006298</td>\n",
              "      <td>0.021720</td>\n",
              "      <td>0.026150</td>\n",
              "      <td>0.009061</td>\n",
              "      <td>0.01490</td>\n",
              "      <td>0.003599</td>\n",
              "      <td>15.05</td>\n",
              "      <td>24.75</td>\n",
              "      <td>99.17</td>\n",
              "      <td>688.6</td>\n",
              "      <td>0.1264</td>\n",
              "      <td>0.2037</td>\n",
              "      <td>0.13770</td>\n",
              "      <td>0.06845</td>\n",
              "      <td>0.2249</td>\n",
              "      <td>0.08492</td>\n",
              "    </tr>\n",
              "    <tr>\n",
              "      <th>8610908</th>\n",
              "      <td>B</td>\n",
              "      <td>12.86</td>\n",
              "      <td>18.00</td>\n",
              "      <td>83.19</td>\n",
              "      <td>506.3</td>\n",
              "      <td>0.09934</td>\n",
              "      <td>0.09546</td>\n",
              "      <td>0.038890</td>\n",
              "      <td>0.02315</td>\n",
              "      <td>0.1718</td>\n",
              "      <td>0.05997</td>\n",
              "      <td>0.2655</td>\n",
              "      <td>1.0950</td>\n",
              "      <td>1.778</td>\n",
              "      <td>20.35</td>\n",
              "      <td>0.005293</td>\n",
              "      <td>0.016610</td>\n",
              "      <td>0.020710</td>\n",
              "      <td>0.008179</td>\n",
              "      <td>0.01748</td>\n",
              "      <td>0.002848</td>\n",
              "      <td>14.24</td>\n",
              "      <td>24.82</td>\n",
              "      <td>91.88</td>\n",
              "      <td>622.1</td>\n",
              "      <td>0.1289</td>\n",
              "      <td>0.2141</td>\n",
              "      <td>0.17310</td>\n",
              "      <td>0.07926</td>\n",
              "      <td>0.2779</td>\n",
              "      <td>0.07918</td>\n",
              "    </tr>\n",
              "    <tr>\n",
              "      <th>...</th>\n",
              "      <td>...</td>\n",
              "      <td>...</td>\n",
              "      <td>...</td>\n",
              "      <td>...</td>\n",
              "      <td>...</td>\n",
              "      <td>...</td>\n",
              "      <td>...</td>\n",
              "      <td>...</td>\n",
              "      <td>...</td>\n",
              "      <td>...</td>\n",
              "      <td>...</td>\n",
              "      <td>...</td>\n",
              "      <td>...</td>\n",
              "      <td>...</td>\n",
              "      <td>...</td>\n",
              "      <td>...</td>\n",
              "      <td>...</td>\n",
              "      <td>...</td>\n",
              "      <td>...</td>\n",
              "      <td>...</td>\n",
              "      <td>...</td>\n",
              "      <td>...</td>\n",
              "      <td>...</td>\n",
              "      <td>...</td>\n",
              "      <td>...</td>\n",
              "      <td>...</td>\n",
              "      <td>...</td>\n",
              "      <td>...</td>\n",
              "      <td>...</td>\n",
              "      <td>...</td>\n",
              "      <td>...</td>\n",
              "    </tr>\n",
              "    <tr>\n",
              "      <th>8610637</th>\n",
              "      <td>M</td>\n",
              "      <td>18.05</td>\n",
              "      <td>16.15</td>\n",
              "      <td>120.20</td>\n",
              "      <td>1006.0</td>\n",
              "      <td>0.10650</td>\n",
              "      <td>0.21460</td>\n",
              "      <td>0.168400</td>\n",
              "      <td>0.10800</td>\n",
              "      <td>0.2152</td>\n",
              "      <td>0.06673</td>\n",
              "      <td>0.9806</td>\n",
              "      <td>0.5505</td>\n",
              "      <td>6.311</td>\n",
              "      <td>134.80</td>\n",
              "      <td>0.007940</td>\n",
              "      <td>0.058390</td>\n",
              "      <td>0.046580</td>\n",
              "      <td>0.020700</td>\n",
              "      <td>0.02591</td>\n",
              "      <td>0.007054</td>\n",
              "      <td>22.39</td>\n",
              "      <td>18.91</td>\n",
              "      <td>150.10</td>\n",
              "      <td>1610.0</td>\n",
              "      <td>0.1478</td>\n",
              "      <td>0.5634</td>\n",
              "      <td>0.37860</td>\n",
              "      <td>0.21020</td>\n",
              "      <td>0.3751</td>\n",
              "      <td>0.11080</td>\n",
              "    </tr>\n",
              "    <tr>\n",
              "      <th>863031</th>\n",
              "      <td>B</td>\n",
              "      <td>11.64</td>\n",
              "      <td>18.33</td>\n",
              "      <td>75.17</td>\n",
              "      <td>412.5</td>\n",
              "      <td>0.11420</td>\n",
              "      <td>0.10170</td>\n",
              "      <td>0.070700</td>\n",
              "      <td>0.03485</td>\n",
              "      <td>0.1801</td>\n",
              "      <td>0.06520</td>\n",
              "      <td>0.3060</td>\n",
              "      <td>1.6570</td>\n",
              "      <td>2.155</td>\n",
              "      <td>20.62</td>\n",
              "      <td>0.008540</td>\n",
              "      <td>0.023100</td>\n",
              "      <td>0.029450</td>\n",
              "      <td>0.013980</td>\n",
              "      <td>0.01565</td>\n",
              "      <td>0.003840</td>\n",
              "      <td>13.14</td>\n",
              "      <td>29.26</td>\n",
              "      <td>85.51</td>\n",
              "      <td>521.7</td>\n",
              "      <td>0.1688</td>\n",
              "      <td>0.2660</td>\n",
              "      <td>0.28730</td>\n",
              "      <td>0.12180</td>\n",
              "      <td>0.2806</td>\n",
              "      <td>0.09097</td>\n",
              "    </tr>\n",
              "    <tr>\n",
              "      <th>8910506</th>\n",
              "      <td>B</td>\n",
              "      <td>12.87</td>\n",
              "      <td>16.21</td>\n",
              "      <td>82.38</td>\n",
              "      <td>512.2</td>\n",
              "      <td>0.09425</td>\n",
              "      <td>0.06219</td>\n",
              "      <td>0.039000</td>\n",
              "      <td>0.01615</td>\n",
              "      <td>0.2010</td>\n",
              "      <td>0.05769</td>\n",
              "      <td>0.2345</td>\n",
              "      <td>1.2190</td>\n",
              "      <td>1.546</td>\n",
              "      <td>18.24</td>\n",
              "      <td>0.005518</td>\n",
              "      <td>0.021780</td>\n",
              "      <td>0.025890</td>\n",
              "      <td>0.006330</td>\n",
              "      <td>0.02593</td>\n",
              "      <td>0.002157</td>\n",
              "      <td>13.90</td>\n",
              "      <td>23.64</td>\n",
              "      <td>89.27</td>\n",
              "      <td>597.5</td>\n",
              "      <td>0.1256</td>\n",
              "      <td>0.1808</td>\n",
              "      <td>0.19920</td>\n",
              "      <td>0.05780</td>\n",
              "      <td>0.3604</td>\n",
              "      <td>0.07062</td>\n",
              "    </tr>\n",
              "    <tr>\n",
              "      <th>906290</th>\n",
              "      <td>B</td>\n",
              "      <td>11.16</td>\n",
              "      <td>21.41</td>\n",
              "      <td>70.95</td>\n",
              "      <td>380.3</td>\n",
              "      <td>0.10180</td>\n",
              "      <td>0.05978</td>\n",
              "      <td>0.008955</td>\n",
              "      <td>0.01076</td>\n",
              "      <td>0.1615</td>\n",
              "      <td>0.06144</td>\n",
              "      <td>0.2865</td>\n",
              "      <td>1.6780</td>\n",
              "      <td>1.968</td>\n",
              "      <td>18.99</td>\n",
              "      <td>0.006908</td>\n",
              "      <td>0.009442</td>\n",
              "      <td>0.006972</td>\n",
              "      <td>0.006159</td>\n",
              "      <td>0.02694</td>\n",
              "      <td>0.002060</td>\n",
              "      <td>12.36</td>\n",
              "      <td>28.92</td>\n",
              "      <td>79.26</td>\n",
              "      <td>458.0</td>\n",
              "      <td>0.1282</td>\n",
              "      <td>0.1108</td>\n",
              "      <td>0.03582</td>\n",
              "      <td>0.04306</td>\n",
              "      <td>0.2976</td>\n",
              "      <td>0.07123</td>\n",
              "    </tr>\n",
              "    <tr>\n",
              "      <th>911320502</th>\n",
              "      <td>B</td>\n",
              "      <td>13.17</td>\n",
              "      <td>18.22</td>\n",
              "      <td>84.28</td>\n",
              "      <td>537.3</td>\n",
              "      <td>0.07466</td>\n",
              "      <td>0.05994</td>\n",
              "      <td>0.048590</td>\n",
              "      <td>0.02870</td>\n",
              "      <td>0.1454</td>\n",
              "      <td>0.05549</td>\n",
              "      <td>0.2023</td>\n",
              "      <td>0.6850</td>\n",
              "      <td>1.236</td>\n",
              "      <td>16.89</td>\n",
              "      <td>0.005969</td>\n",
              "      <td>0.014930</td>\n",
              "      <td>0.015640</td>\n",
              "      <td>0.008463</td>\n",
              "      <td>0.01093</td>\n",
              "      <td>0.001672</td>\n",
              "      <td>14.90</td>\n",
              "      <td>23.89</td>\n",
              "      <td>95.10</td>\n",
              "      <td>687.6</td>\n",
              "      <td>0.1282</td>\n",
              "      <td>0.1965</td>\n",
              "      <td>0.18760</td>\n",
              "      <td>0.10450</td>\n",
              "      <td>0.2235</td>\n",
              "      <td>0.06925</td>\n",
              "    </tr>\n",
              "  </tbody>\n",
              "</table>\n",
              "<p>114 rows × 31 columns</p>\n",
              "</div>"
            ],
            "text/plain": [
              "          diagnosis  radiusAvg  ...  symmetryWorst>  FractalDimensionWorst\n",
              "id                              ...                                       \n",
              "90524101          M      17.99  ...          0.3060                0.08503\n",
              "914580            B      12.47  ...          0.3035                0.07661\n",
              "879830            M      17.01  ...          0.3275                0.06469\n",
              "922297            B      13.87  ...          0.2249                0.08492\n",
              "8610908           B      12.86  ...          0.2779                0.07918\n",
              "...             ...        ...  ...             ...                    ...\n",
              "8610637           M      18.05  ...          0.3751                0.11080\n",
              "863031            B      11.64  ...          0.2806                0.09097\n",
              "8910506           B      12.87  ...          0.3604                0.07062\n",
              "906290            B      11.16  ...          0.2976                0.07123\n",
              "911320502         B      13.17  ...          0.2235                0.06925\n",
              "\n",
              "[114 rows x 31 columns]"
            ]
          },
          "metadata": {
            "tags": []
          },
          "execution_count": 5
        }
      ]
    },
    {
      "cell_type": "markdown",
      "metadata": {
        "id": "ncpDj38Mwzns"
      },
      "source": [
        "Now divide up the data into the features and labels"
      ]
    },
    {
      "cell_type": "code",
      "metadata": {
        "id": "yenm290Swzns"
      },
      "source": [
        "colNames.remove('id')\n",
        "colNames.remove('diagnosis')\n",
        "trainingDataFeatures = trainingdata[colNames]\n",
        "testDataFeatures = testdata[colNames]\n",
        "trainingDataLabels = trainingdata['diagnosis']\n",
        "testDataLabels = testdata['diagnosis']\n"
      ],
      "execution_count": 6,
      "outputs": []
    },
    {
      "cell_type": "markdown",
      "metadata": {
        "id": "9Laglekjwznt"
      },
      "source": [
        "Let's get a base accuracy using a single decision tree classifier:"
      ]
    },
    {
      "cell_type": "code",
      "metadata": {
        "id": "GfHR4e5Rwznt",
        "colab": {
          "base_uri": "https://localhost:8080/"
        },
        "outputId": "cc5e878f-09ac-460a-9d56-3cb448d330b7"
      },
      "source": [
        "from sklearn import tree\n",
        "clf = tree.DecisionTreeClassifier(criterion='entropy')\n",
        "clf.fit(trainingDataFeatures, trainingDataLabels)\n",
        "predictions = clf.predict(testDataFeatures)\n",
        "\n",
        "accuracy_score(testDataLabels, predictions)"
      ],
      "execution_count": 9,
      "outputs": [
        {
          "output_type": "execute_result",
          "data": {
            "text/plain": [
              "0.9385964912280702"
            ]
          },
          "metadata": {
            "tags": []
          },
          "execution_count": 9
        }
      ]
    },
    {
      "cell_type": "markdown",
      "metadata": {
        "id": "2Oe-aUnDwznu"
      },
      "source": [
        "### Building a bagging classifier\n",
        "\n",
        "Let's build a collective of 20 decision tree classifiers (`n_estimators`). Let's train each one with 100 random samples from our dataset (`max_samples`) with replacement (`bootstrap=True`). `n_jobs` means how many jobs to run in parallel. `n_jobs=-1` means use all available CPU cores.   \n",
        "\n",
        "Just to reinforce the vocabulary we are learning, `n_estimators`, `max_samples`, `bootstrap` are among the **hyperparameters** of the bagging classifier."
      ]
    },
    {
      "cell_type": "code",
      "metadata": {
        "id": "zEwjDH-Lwznu",
        "colab": {
          "base_uri": "https://localhost:8080/"
        },
        "outputId": "0b4a9ea0-9346-4256-8e5b-87103109776d"
      },
      "source": [
        "from sklearn.ensemble import BaggingClassifier\n",
        "clf = tree.DecisionTreeClassifier(criterion='entropy')\n",
        "\n",
        "bagging_clf = BaggingClassifier(clf, n_estimators=20, max_samples=100, \n",
        "                                bootstrap=True, n_jobs=-1)\n",
        "bagging_clf.fit(trainingDataFeatures, trainingDataLabels)\n",
        "predictions = bagging_clf.predict(testDataFeatures)\n",
        "accuracy_score(testDataLabels, predictions)"
      ],
      "execution_count": 10,
      "outputs": [
        {
          "output_type": "execute_result",
          "data": {
            "text/plain": [
              "0.9736842105263158"
            ]
          },
          "metadata": {
            "tags": []
          },
          "execution_count": 10
        }
      ]
    },
    {
      "cell_type": "markdown",
      "metadata": {
        "id": "2gETIa3twznv"
      },
      "source": [
        "When I did this using a single decision tree classifier was 90.3% accurate, while the bagging classifier was 96.5% accurate--halving the error rate! that's pretty good!\n",
        "\n",
        "\n",
        "### Pasting\n",
        "Let's try the same thing with pasting (without replacement):\n",
        "\n",
        "For that we set the hyperparameter: `bootstrap=False`\n"
      ]
    },
    {
      "cell_type": "code",
      "metadata": {
        "id": "UFfjya7vwznv",
        "colab": {
          "base_uri": "https://localhost:8080/"
        },
        "outputId": "7ae47ab0-9dfa-41ff-d6f0-3c4e8d8b4b5a"
      },
      "source": [
        "pasting_clf = BaggingClassifier(clf, n_estimators=20, max_samples=100, \n",
        "                                bootstrap=False, n_jobs=-1)\n",
        "pasting_clf.fit(trainingDataFeatures, trainingDataLabels)\n",
        "predictions = pasting_clf.predict(testDataFeatures)\n",
        "accuracy_score(testDataLabels, predictions)"
      ],
      "execution_count": 11,
      "outputs": [
        {
          "output_type": "execute_result",
          "data": {
            "text/plain": [
              "0.956140350877193"
            ]
          },
          "metadata": {
            "tags": []
          },
          "execution_count": 11
        }
      ]
    },
    {
      "cell_type": "markdown",
      "metadata": {
        "id": "YNYVtYz0wznw"
      },
      "source": [
        "### Random Subspaces\n",
        "Again, random subspaces are when we randomly select feature subsets rather than subsets of the dataset instances. This time we will create 50 classifiers for our collective and each will train on a dataset with 7 features (`max_feature=7`)."
      ]
    },
    {
      "cell_type": "code",
      "metadata": {
        "id": "4vrTEITUwznw",
        "colab": {
          "base_uri": "https://localhost:8080/"
        },
        "outputId": "ddc34b34-41b0-47a0-e726-242a3e348266"
      },
      "source": [
        "subspace_clf = BaggingClassifier(clf, n_estimators=50, max_features=7, \n",
        "                                bootstrap=True, n_jobs=-1)\n",
        "subspace_clf.fit(trainingDataFeatures, trainingDataLabels)\n",
        "predictions = subspace_clf.predict(testDataFeatures)\n",
        "accuracy_score(testDataLabels, predictions)"
      ],
      "execution_count": 12,
      "outputs": [
        {
          "output_type": "execute_result",
          "data": {
            "text/plain": [
              "0.956140350877193"
            ]
          },
          "metadata": {
            "tags": []
          },
          "execution_count": 12
        }
      ]
    },
    {
      "cell_type": "markdown",
      "metadata": {
        "id": "Rg5akRZ_wznx"
      },
      "source": [
        "### Random Patches\n",
        "Finally, let's combine things and try random patches. In this example each classifier will be given a subset of 100 training instances with 7 features each.:"
      ]
    },
    {
      "cell_type": "code",
      "metadata": {
        "id": "NKFSaPeSwznx",
        "colab": {
          "base_uri": "https://localhost:8080/"
        },
        "outputId": "8fc00b15-6ee0-45f8-a978-6ddbf1e049a7"
      },
      "source": [
        "subspace_clf = BaggingClassifier(clf, n_estimators=100, max_features=7, \n",
        "                                 max_samples=100, bootstrap=False, n_jobs=-1)\n",
        "subspace_clf.fit(trainingDataFeatures, trainingDataLabels)\n",
        "predictions = subspace_clf.predict(testDataFeatures)\n",
        "accuracy_score(testDataLabels, predictions)"
      ],
      "execution_count": 13,
      "outputs": [
        {
          "output_type": "execute_result",
          "data": {
            "text/plain": [
              "0.9385964912280702"
            ]
          },
          "metadata": {
            "tags": []
          },
          "execution_count": 13
        }
      ]
    },
    {
      "cell_type": "markdown",
      "metadata": {
        "id": "bYh4Bvqewzny"
      },
      "source": [
        "While it is common to use a decision tree as the base classifier, we can use any classifier. Here we use kNN:"
      ]
    },
    {
      "cell_type": "code",
      "metadata": {
        "id": "Q8y1uTPgwzny",
        "outputId": "e52bfa0c-f31a-4d77-fefa-56c17b41645c"
      },
      "source": [
        "from sklearn.neighbors import KNeighborsClassifier\n",
        "kNN = KNeighborsClassifier()\n",
        "bagging_clf = BaggingClassifier(kNN, n_estimators=20, max_samples=100, \n",
        "                                bootstrap=True, n_jobs=-1)\n",
        "bagging_clf.fit(trainingDataFeatures, trainingDataLabels)\n",
        "predictions = bagging_clf.predict(testDataFeatures)\n",
        "accuracy_score(testDataLabels, predictions)"
      ],
      "execution_count": null,
      "outputs": [
        {
          "output_type": "execute_result",
          "data": {
            "text/plain": [
              "0.9473684210526315"
            ]
          },
          "metadata": {
            "tags": []
          },
          "execution_count": 57
        }
      ]
    },
    {
      "cell_type": "markdown",
      "metadata": {
        "id": "wqvXI8Xjwzny"
      },
      "source": [
        "#### Summary\n",
        "As you can see, any of these simple bagging algorithms typically outperforms using a single classifier. \n",
        "\n",
        "\n",
        "### Review\n",
        "\n",
        "We import the bagging classifier library with:\n",
        "\n",
        "```\n",
        "from sklearn.ensemble import BaggingClassifier\n",
        "```\n",
        "\n",
        "and create an instance of one with:\n",
        "\n",
        "```\n",
        "my_bagging_classifier = BaggingClassifier(baseClassifier, Hyperparameters,n_jobs=-1)\n",
        "```\n",
        "\n",
        "#### Base Classifier\n",
        "while any classifier can be used we typically use a decision tree\n",
        "\n",
        "#### Hyperparameters\n",
        "Here is a list of the hyperparameters (from the [sklearn documentation](https://scikit-learn.org/stable/modules/generated/sklearn.ensemble.BaggingClassifier.html#sklearn.ensemble.BaggingClassifier)):\n",
        "\n",
        "* `n_estimators`: integer, default value = 10, the number of classifiers (estimators) in the ensemble.\n",
        "* `max_samples`: integer or float, default value = 1.0(meaning use all the training instances), the number of samples (instances) to draw from the training dataset to train each base classifier.\n",
        "    * if integer, then draw max_features features.\n",
        "    * if float, then draw max_samples * X.shape[0] samples. For example if `max_samples` is 0.7 and there are 100 instances in the training dataset then draw 70 samples.\n",
        "* `max_features`, integer or float, default value =1.0,  \n",
        "the number of features to draw from the training dataset to train each base estimator \n",
        "    * if integers, then draw max_features features.\n",
        "    * if float, then draw max_features * X.shape[1] features.\n",
        "* `bootstrap` boolean, default value =True, whether samples and features are drawn with replacement. If False, sampling without replacement is performed.\n",
        "\n",
        "For other hyperparamters, consult the documentation.\n",
        "\n",
        "## You try: Predicting musical genres from audio file attributes\n",
        "\n",
        "When you listen even to a few seconds of a song you can identify it as blues, country, classical, or any other genre. How do you do this? What attributes are you hearing in the audio file that helps you make this classification? And, more to the point, can we train a computer to do it?\n",
        "\n",
        "![](https://raw.githubusercontent.com/zacharski/ml-class/master/labs/pics/bluesClassical.png)\n",
        "\n",
        "We are going to be using  the [GTZAN Dataset for Music Genre Classification](https://www.kaggle.com/andradaolteanu/gtzan-dataset-music-genre-classification). It provides data of 100 songs for each of 10 genres. The data is in several formats:\n",
        "\n",
        "* 30 second audio files (wav)\n",
        "* spectral images of those 30 second clips (see image above)\n",
        "* a csv file containing acoustic attributes of the 30 second clip\n",
        "* a csv file containing acoustic attributes of 3 second clips (the 30 second clips were split into 3 second ones)\n",
        "\n",
        "We are going to use the 3 second csv file which is available at \n",
        "\n",
        "https://raw.githubusercontent.com/zacharski/ml-class/master/data/gtzan.csv\n",
        "\n",
        "Go ahead and load the data into a dataframe (the first row contains feature names)\n"
      ]
    },
    {
      "cell_type": "code",
      "metadata": {
        "id": "qWrtkbRIwznz"
      },
      "source": [
        "music = pd.read_csv(\"https://raw.githubusercontent.com/zacharski/ml-class/master/data/gtzan.csv\")"
      ],
      "execution_count": 14,
      "outputs": []
    },
    {
      "cell_type": "markdown",
      "metadata": {
        "id": "TtbooqdRwznz"
      },
      "source": [
        "Let's examine the values of the label column (the genres):"
      ]
    },
    {
      "cell_type": "code",
      "metadata": {
        "id": "2XTXYBHtwznz",
        "colab": {
          "base_uri": "https://localhost:8080/"
        },
        "outputId": "f1000e85-4234-4f62-cb6c-e4085c8c11f4"
      },
      "source": [
        "music.label.unique()"
      ],
      "execution_count": 15,
      "outputs": [
        {
          "output_type": "execute_result",
          "data": {
            "text/plain": [
              "array(['blues', 'classical', 'country', 'disco', 'hiphop', 'jazz',\n",
              "       'metal', 'pop', 'reggae', 'rock'], dtype=object)"
            ]
          },
          "metadata": {
            "tags": []
          },
          "execution_count": 15
        }
      ]
    },
    {
      "cell_type": "markdown",
      "metadata": {
        "id": "0PpZDXuOwzn0"
      },
      "source": [
        "Those are the 10 genres we are trying to predict. So if we were just to guess without hearing the clip, we would be accurate 10% of the time. How accurate do you think you would be based on hearing a 3 second clip? I am pretty confident I could correctly label the 30 second clips, but I am much less confident about labeling 3 second ones. Since guessing randomly would give me 10% accuracy, I am estimating maybe 50-60% accuracy. Let's see how a computer does.\n",
        "\n",
        "#### Feature Names\n",
        "So the column we are trying to predict is `label`. Now let's get the names of the feature columns"
      ]
    },
    {
      "cell_type": "code",
      "metadata": {
        "scrolled": true,
        "id": "cePIDOytwzn0",
        "colab": {
          "base_uri": "https://localhost:8080/"
        },
        "outputId": "1dff01b8-6598-4b50-ade8-3a3c26270675"
      },
      "source": [
        "featureNames = list(music.columns)\n",
        "featureNames.remove('filename')\n",
        "featureNames.remove('label')\n",
        "print(featureNames)\n",
        "print(len(featureNames))"
      ],
      "execution_count": 16,
      "outputs": [
        {
          "output_type": "stream",
          "text": [
            "['length', 'chroma_stft_mean', 'chroma_stft_var', 'rms_mean', 'rms_var', 'spectral_centroid_mean', 'spectral_centroid_var', 'spectral_bandwidth_mean', 'spectral_bandwidth_var', 'rolloff_mean', 'rolloff_var', 'zero_crossing_rate_mean', 'zero_crossing_rate_var', 'harmony_mean', 'harmony_var', 'perceptr_mean', 'perceptr_var', 'tempo', 'mfcc1_mean', 'mfcc1_var', 'mfcc2_mean', 'mfcc2_var', 'mfcc3_mean', 'mfcc3_var', 'mfcc4_mean', 'mfcc4_var', 'mfcc5_mean', 'mfcc5_var', 'mfcc6_mean', 'mfcc6_var', 'mfcc7_mean', 'mfcc7_var', 'mfcc8_mean', 'mfcc8_var', 'mfcc9_mean', 'mfcc9_var', 'mfcc10_mean', 'mfcc10_var', 'mfcc11_mean', 'mfcc11_var', 'mfcc12_mean', 'mfcc12_var', 'mfcc13_mean', 'mfcc13_var', 'mfcc14_mean', 'mfcc14_var', 'mfcc15_mean', 'mfcc15_var', 'mfcc16_mean', 'mfcc16_var', 'mfcc17_mean', 'mfcc17_var', 'mfcc18_mean', 'mfcc18_var', 'mfcc19_mean', 'mfcc19_var', 'mfcc20_mean', 'mfcc20_var']\n",
            "58\n"
          ],
          "name": "stdout"
        }
      ]
    },
    {
      "cell_type": "markdown",
      "metadata": {
        "id": "oW71GL_1wzn0"
      },
      "source": [
        "So we have 58 features. \n",
        "\n",
        "#### Training and test sets\n",
        "Now it is time to construct the training and test sets:"
      ]
    },
    {
      "cell_type": "code",
      "metadata": {
        "id": "J_hVl0Zowzn1",
        "colab": {
          "base_uri": "https://localhost:8080/"
        },
        "outputId": "9eef3c71-10cb-4da6-ec4b-aa1c0bf03941"
      },
      "source": [
        "## divide the original data 80% going into the music_training dataset \n",
        "## the rest in music_test\n",
        "from sklearn.model_selection import train_test_split\n",
        "music_training, music_test = train_test_split(music, test_size=.2)\n",
        "                              \n",
        "## now create the DataFrames for just the features (excluding the label column \n",
        "## filename column)                              \n",
        "mColumns = list(music.columns)\n",
        "mColumns.remove('filename')\n",
        "mColumns.remove('label')\n",
        "\n",
        "music_training_features = music_training[mColumns]\n",
        "music_test_features = music_test[mColumns]\n",
        "                              \n",
        "## now create the labels data structure for both the training and test sets                              \n",
        "music_training_labels = music_training['label']\n",
        "music_test_labels = music_test['label']\n"
      ],
      "execution_count": 28,
      "outputs": [
        {
          "output_type": "stream",
          "text": [
            "['filename', 'length', 'chroma_stft_mean', 'chroma_stft_var', 'rms_mean', 'rms_var', 'spectral_centroid_mean', 'spectral_centroid_var', 'spectral_bandwidth_mean', 'spectral_bandwidth_var', 'rolloff_mean', 'rolloff_var', 'zero_crossing_rate_mean', 'zero_crossing_rate_var', 'harmony_mean', 'harmony_var', 'perceptr_mean', 'perceptr_var', 'tempo', 'mfcc1_mean', 'mfcc1_var', 'mfcc2_mean', 'mfcc2_var', 'mfcc3_mean', 'mfcc3_var', 'mfcc4_mean', 'mfcc4_var', 'mfcc5_mean', 'mfcc5_var', 'mfcc6_mean', 'mfcc6_var', 'mfcc7_mean', 'mfcc7_var', 'mfcc8_mean', 'mfcc8_var', 'mfcc9_mean', 'mfcc9_var', 'mfcc10_mean', 'mfcc10_var', 'mfcc11_mean', 'mfcc11_var', 'mfcc12_mean', 'mfcc12_var', 'mfcc13_mean', 'mfcc13_var', 'mfcc14_mean', 'mfcc14_var', 'mfcc15_mean', 'mfcc15_var', 'mfcc16_mean', 'mfcc16_var', 'mfcc17_mean', 'mfcc17_var', 'mfcc18_mean', 'mfcc18_var', 'mfcc19_mean', 'mfcc19_var', 'mfcc20_mean', 'mfcc20_var', 'label']\n",
            "['length', 'chroma_stft_mean', 'chroma_stft_var', 'rms_mean', 'rms_var', 'spectral_centroid_mean', 'spectral_centroid_var', 'spectral_bandwidth_mean', 'spectral_bandwidth_var', 'rolloff_mean', 'rolloff_var', 'zero_crossing_rate_mean', 'zero_crossing_rate_var', 'harmony_mean', 'harmony_var', 'perceptr_mean', 'perceptr_var', 'tempo', 'mfcc1_mean', 'mfcc1_var', 'mfcc2_mean', 'mfcc2_var', 'mfcc3_mean', 'mfcc3_var', 'mfcc4_mean', 'mfcc4_var', 'mfcc5_mean', 'mfcc5_var', 'mfcc6_mean', 'mfcc6_var', 'mfcc7_mean', 'mfcc7_var', 'mfcc8_mean', 'mfcc8_var', 'mfcc9_mean', 'mfcc9_var', 'mfcc10_mean', 'mfcc10_var', 'mfcc11_mean', 'mfcc11_var', 'mfcc12_mean', 'mfcc12_var', 'mfcc13_mean', 'mfcc13_var', 'mfcc14_mean', 'mfcc14_var', 'mfcc15_mean', 'mfcc15_var', 'mfcc16_mean', 'mfcc16_var', 'mfcc17_mean', 'mfcc17_var', 'mfcc18_mean', 'mfcc18_var', 'mfcc19_mean', 'mfcc19_var', 'mfcc20_mean', 'mfcc20_var']\n"
          ],
          "name": "stdout"
        }
      ]
    },
    {
      "cell_type": "markdown",
      "metadata": {
        "id": "gVcTYjBBwzn1"
      },
      "source": [
        "### Building a single decision tree classifier\n",
        "Let's build a single decision tree classifier called `clf` using entropy, fit it to the data, make predictions and determine the accuracy:"
      ]
    },
    {
      "cell_type": "code",
      "metadata": {
        "id": "g83MZmISwzn1",
        "colab": {
          "base_uri": "https://localhost:8080/"
        },
        "outputId": "5c474038-23a9-4c33-bd09-97be43c07d34"
      },
      "source": [
        "## Create clf, an instance of the Decision Tree Classifier\n",
        "# TO DO\n",
        "from sklearn import tree\n",
        "clf = tree.DecisionTreeClassifier(criterion='entropy')\n",
        "## Fit it to the data\n",
        "# TO DO\n",
        "clf.fit(music_training_features, music_training_labels)\n",
        "## get the predictions for the test set\n",
        "# TO DO\n",
        "pred1 = clf.predict(music_test_features)\n",
        "## get the accuracy score\n",
        "# TO DO\n",
        "accuracy_score(music_test_labels, pred1)"
      ],
      "execution_count": 29,
      "outputs": [
        {
          "output_type": "execute_result",
          "data": {
            "text/plain": [
              "0.6631631631631631"
            ]
          },
          "metadata": {
            "tags": []
          },
          "execution_count": 29
        }
      ]
    },
    {
      "cell_type": "markdown",
      "metadata": {
        "id": "AAkpWdRTwzn2"
      },
      "source": [
        "When I did this I got 66% accuracy. That doesn't sound great but keep in mind that random guessing would only be 10% accuracy. \n",
        "\n",
        "### Building a Random Patch Classifier\n",
        "\n",
        "Now we are going to build a random patch classifier.\n",
        "\n",
        "* the base classifier will be a decision tree using entropy\n",
        "* the ensemble will contain 20 base classifiers\n",
        "* each classifier will use a random sample of 70% of the training data\n",
        "* each classifier will use a random sample of 70% of the features\n",
        "* the sampling will be done with replacement\n",
        "* it will use all available cpu cores.\n",
        "\n",
        "We are going to\n",
        "\n",
        "1. build the classifier\n",
        "2. train the classifier on the data\n",
        "3. make predictions on the test set\n",
        "4. determine the accuracy"
      ]
    },
    {
      "cell_type": "code",
      "metadata": {
        "id": "eSdL2ei3wzn2",
        "colab": {
          "base_uri": "https://localhost:8080/"
        },
        "outputId": "b8e00444-90e6-464c-afd7-96bdcefbd676"
      },
      "source": [
        "## TO DO\n",
        "from sklearn.ensemble import BaggingClassifier\n",
        "clf = tree.DecisionTreeClassifier(criterion='entropy')\n",
        "bagger = BaggingClassifier(clf, n_estimators=20, max_samples=.7, max_features=.7, bootstrap=True, n_jobs=-1)\n",
        "bagger.fit(music_training_features, music_training_labels)\n"
      ],
      "execution_count": 68,
      "outputs": [
        {
          "output_type": "execute_result",
          "data": {
            "text/plain": [
              "BaggingClassifier(base_estimator=DecisionTreeClassifier(ccp_alpha=0.0,\n",
              "                                                        class_weight=None,\n",
              "                                                        criterion='entropy',\n",
              "                                                        max_depth=None,\n",
              "                                                        max_features=None,\n",
              "                                                        max_leaf_nodes=None,\n",
              "                                                        min_impurity_decrease=0.0,\n",
              "                                                        min_impurity_split=None,\n",
              "                                                        min_samples_leaf=1,\n",
              "                                                        min_samples_split=2,\n",
              "                                                        min_weight_fraction_leaf=0.0,\n",
              "                                                        presort='deprecated',\n",
              "                                                        random_state=None,\n",
              "                                                        splitter='best'),\n",
              "                  bootstrap=True, bootstrap_features=False, max_features=0.7,\n",
              "                  max_samples=0.7, n_estimators=20, n_jobs=-1, oob_score=False,\n",
              "                  random_state=None, verbose=0, warm_start=False)"
            ]
          },
          "metadata": {
            "tags": []
          },
          "execution_count": 68
        }
      ]
    },
    {
      "cell_type": "code",
      "metadata": {
        "colab": {
          "base_uri": "https://localhost:8080/"
        },
        "id": "-dM8Y39I6EOq",
        "outputId": "aa0be660-fbe8-4f43-99a2-3aeb672a9e05"
      },
      "source": [
        "predbag = bagger.predict(music_test_features)\n",
        "accuracy_score(music_test_labels, predbag)"
      ],
      "execution_count": 70,
      "outputs": [
        {
          "output_type": "execute_result",
          "data": {
            "text/plain": [
              "0.8343343343343343"
            ]
          },
          "metadata": {
            "tags": []
          },
          "execution_count": 70
        }
      ]
    },
    {
      "cell_type": "markdown",
      "metadata": {
        "id": "a8L217ouwzn2"
      },
      "source": [
        "What accuracy did you get? Was it better than using a single classifier?\n",
        "Keep your original code above. Make a copy of it below and \n",
        "experiment a bit with the hyperparameters. (try 3 or 4 different things) What is the best accuracy you can get?"
      ]
    },
    {
      "cell_type": "code",
      "metadata": {
        "id": "VtwNppzAwzn3",
        "colab": {
          "base_uri": "https://localhost:8080/"
        },
        "outputId": "5fd95057-3e5d-411b-ced9-c9c1ef33bc93"
      },
      "source": [
        "clf = tree.DecisionTreeClassifier(criterion='entropy', max_depth=30)\n",
        "bagger = BaggingClassifier(clf, n_estimators=30, max_samples=.5, max_features=30, bootstrap=True, n_jobs=-1)\n",
        "%time bagger.fit(music_training_features, music_training_labels)"
      ],
      "execution_count": 85,
      "outputs": [
        {
          "output_type": "stream",
          "text": [
            "CPU times: user 75.1 ms, sys: 14.5 ms, total: 89.6 ms\n",
            "Wall time: 9.69 s\n"
          ],
          "name": "stdout"
        },
        {
          "output_type": "execute_result",
          "data": {
            "text/plain": [
              "BaggingClassifier(base_estimator=DecisionTreeClassifier(ccp_alpha=0.0,\n",
              "                                                        class_weight=None,\n",
              "                                                        criterion='entropy',\n",
              "                                                        max_depth=30,\n",
              "                                                        max_features=None,\n",
              "                                                        max_leaf_nodes=None,\n",
              "                                                        min_impurity_decrease=0.0,\n",
              "                                                        min_impurity_split=None,\n",
              "                                                        min_samples_leaf=1,\n",
              "                                                        min_samples_split=2,\n",
              "                                                        min_weight_fraction_leaf=0.0,\n",
              "                                                        presort='deprecated',\n",
              "                                                        random_state=None,\n",
              "                                                        splitter='best'),\n",
              "                  bootstrap=True, bootstrap_features=False, max_features=30,\n",
              "                  max_samples=0.5, n_estimators=30, n_jobs=-1, oob_score=False,\n",
              "                  random_state=None, verbose=0, warm_start=False)"
            ]
          },
          "metadata": {
            "tags": []
          },
          "execution_count": 85
        }
      ]
    },
    {
      "cell_type": "code",
      "metadata": {
        "id": "LQjcYRTBwzn3",
        "colab": {
          "base_uri": "https://localhost:8080/"
        },
        "outputId": "d6612ca9-f130-43f1-a16b-cfa130058931"
      },
      "source": [
        "predbag = bagger.predict(music_test_features)\n",
        "accuracy_score(music_test_labels, predbag)"
      ],
      "execution_count": 86,
      "outputs": [
        {
          "output_type": "execute_result",
          "data": {
            "text/plain": [
              "0.8348348348348348"
            ]
          },
          "metadata": {
            "tags": []
          },
          "execution_count": 86
        }
      ]
    },
    {
      "cell_type": "markdown",
      "metadata": {
        "id": "TqfasJ--wzn3"
      },
      "source": [
        "## NOTES\n",
        "\n",
        "### Breast Cancer Database\n",
        "\n",
        "[back](#Wisconsin-Cancer-Dataset)\n",
        "\n",
        "  This breast cancer databases was obtained from the University of Wisconsin\n",
        "   Hospitals, Madison from Dr. William H. Wolberg.  If you publish results\n",
        "   when using this database, then please include this information in your\n",
        "   acknowledgements.  Also, please cite one or more of:\n",
        "\n",
        "   1. O. L. Mangasarian and W. H. Wolberg: \"Cancer diagnosis via linear \n",
        "      programming\", SIAM News, Volume 23, Number 5, September 1990, pp 1 & 18.\n",
        "\n",
        "   2. William H. Wolberg and O.L. Mangasarian: \"Multisurface method of \n",
        "      pattern separation for medical diagnosis applied to breast cytology\", \n",
        "      Proceedings of the National Academy of Sciences, U.S.A., Volume 87, \n",
        "      December 1990, pp 9193-9196.\n",
        "\n",
        "   3. O. L. Mangasarian, R. Setiono, and W.H. Wolberg: \"Pattern recognition \n",
        "      via linear programming: Theory and application to medical diagnosis\", \n",
        "      in: \"Large-scale numerical optimization\", Thomas F. Coleman and Yuying\n",
        "      Li, editors, SIAM Publications, Philadelphia 1990, pp 22-30.\n",
        "\n",
        "   4. K. P. Bennett & O. L. Mangasarian: \"Robust linear programming \n",
        "      discrimination of two linearly inseparable sets\", Optimization Methods\n",
        "      and Software 1, 1992, 23-34 (Gordon & Breach Science Publishers).\n",
        "\n",
        "Title: Wisconsin Breast Cancer Database (January 8, 1991)\n",
        "\n",
        "\n",
        "Sources:\n",
        "   -- Dr. WIlliam H. Wolberg (physician)\n",
        "      University of Wisconsin Hospitals\n",
        "      Madison, Wisconsin\n",
        "      USA\n",
        "   -- Donor: Olvi Mangasarian (mangasarian@cs.wisc.edu)\n",
        "      Received by David W. Aha (aha@cs.jhu.edu)\n",
        "   -- Date: 15 July 1992"
      ]
    },
    {
      "cell_type": "code",
      "metadata": {
        "id": "RQ6MD67Jwzn3"
      },
      "source": [
        ""
      ],
      "execution_count": null,
      "outputs": []
    }
  ]
}