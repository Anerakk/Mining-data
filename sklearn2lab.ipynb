{
  "nbformat": 4,
  "nbformat_minor": 0,
  "metadata": {
    "anaconda-cloud": {},
    "kernelspec": {
      "display_name": "Python 3",
      "language": "python",
      "name": "python3"
    },
    "language_info": {
      "codemirror_mode": {
        "name": "ipython",
        "version": 3
      },
      "file_extension": ".py",
      "mimetype": "text/x-python",
      "name": "python",
      "nbconvert_exporter": "python",
      "pygments_lexer": "ipython3",
      "version": "3.8.3"
    },
    "colab": {
      "name": "sklearn2lab.ipynb",
      "provenance": [],
      "include_colab_link": true
    }
  },
  "cells": [
    {
      "cell_type": "markdown",
      "metadata": {
        "id": "view-in-github",
        "colab_type": "text"
      },
      "source": [
        "<a href=\"https://colab.research.google.com/github/Anerakk/Mining-data/blob/main/sklearn2lab.ipynb\" target=\"_parent\"><img src=\"https://colab.research.google.com/assets/colab-badge.svg\" alt=\"Open In Colab\"/></a>"
      ]
    },
    {
      "cell_type": "markdown",
      "metadata": {
        "id": "PEUdeuAFR0mv"
      },
      "source": [
        "## Introduction to SciKitLearn (sklearn)\n",
        "\n",
        "![](https://upload.wikimedia.org/wikipedia/commons/0/05/Scikit_learn_logo_small.svg)\n",
        "\n",
        "sklearn is a Python library that implements many machine learning algorithms.\n",
        "\n",
        "The best bet, as with probably everything else, is just to google what you want. For example, if I want to learn how to use kNN (k nearest neighbors) with sklearn is to google **sklearn knn**  and you will find the information. The good thing about sklearn documentation, is that they provide a short example of how to use each algorithm.\n",
        "\n",
        "For example, suppose we have a small dataset of the heights of women who play in the Women's NBA or who are gymnasts. We already have a small dataset with women whose sport is basketball, gymnastics, or track. So we will read the file in and filter out the track people. We will also lose the weight column\n"
      ]
    },
    {
      "cell_type": "code",
      "metadata": {
        "scrolled": true,
        "id": "rqDbS2RQR0mx",
        "colab": {
          "base_uri": "https://localhost:8080/",
          "height": 638
        },
        "outputId": "c351863d-06e0-4bf0-cf17-24de29d2312a"
      },
      "source": [
        "import pandas as pd\n",
        "from pandas import DataFrame\n",
        "athlete = pd.read_csv('https://raw.githubusercontent.com/zacharski/ml-class/master/data/athletes.csv', index_col='Name')\n",
        "athletes = athlete[((athlete.Sport == 'Basketball') | (athlete.Sport == 'Gymnastics'))][['Sport', 'Height']]\n",
        "athletes = athletes.sort_index()\n",
        "athletes"
      ],
      "execution_count": 2,
      "outputs": [
        {
          "output_type": "execute_result",
          "data": {
            "text/html": [
              "<div>\n",
              "<style scoped>\n",
              "    .dataframe tbody tr th:only-of-type {\n",
              "        vertical-align: middle;\n",
              "    }\n",
              "\n",
              "    .dataframe tbody tr th {\n",
              "        vertical-align: top;\n",
              "    }\n",
              "\n",
              "    .dataframe thead th {\n",
              "        text-align: right;\n",
              "    }\n",
              "</style>\n",
              "<table border=\"1\" class=\"dataframe\">\n",
              "  <thead>\n",
              "    <tr style=\"text-align: right;\">\n",
              "      <th></th>\n",
              "      <th>Sport</th>\n",
              "      <th>Height</th>\n",
              "    </tr>\n",
              "    <tr>\n",
              "      <th>Name</th>\n",
              "      <th></th>\n",
              "      <th></th>\n",
              "    </tr>\n",
              "  </thead>\n",
              "  <tbody>\n",
              "    <tr>\n",
              "      <th>Asuka Teramoto</th>\n",
              "      <td>Gymnastics</td>\n",
              "      <td>54</td>\n",
              "    </tr>\n",
              "    <tr>\n",
              "      <th>Brittainey Raven</th>\n",
              "      <td>Basketball</td>\n",
              "      <td>72</td>\n",
              "    </tr>\n",
              "    <tr>\n",
              "      <th>Chen Nan</th>\n",
              "      <td>Basketball</td>\n",
              "      <td>78</td>\n",
              "    </tr>\n",
              "    <tr>\n",
              "      <th>Elena Delle Donne</th>\n",
              "      <td>Basketball</td>\n",
              "      <td>77</td>\n",
              "    </tr>\n",
              "    <tr>\n",
              "      <th>Gabby Douglas</th>\n",
              "      <td>Gymnastics</td>\n",
              "      <td>49</td>\n",
              "    </tr>\n",
              "    <tr>\n",
              "      <th>Jennifer Lacy</th>\n",
              "      <td>Basketball</td>\n",
              "      <td>75</td>\n",
              "    </tr>\n",
              "    <tr>\n",
              "      <th>Laurie Hernandez</th>\n",
              "      <td>Gymnastics</td>\n",
              "      <td>60</td>\n",
              "    </tr>\n",
              "    <tr>\n",
              "      <th>Linlin Deng</th>\n",
              "      <td>Gymnastics</td>\n",
              "      <td>54</td>\n",
              "    </tr>\n",
              "    <tr>\n",
              "      <th>Madison Kocian</th>\n",
              "      <td>Gymnastics</td>\n",
              "      <td>62</td>\n",
              "    </tr>\n",
              "    <tr>\n",
              "      <th>Nakia Sanford</th>\n",
              "      <td>Basketball</td>\n",
              "      <td>76</td>\n",
              "    </tr>\n",
              "    <tr>\n",
              "      <th>Nikki Blue</th>\n",
              "      <td>Basketball</td>\n",
              "      <td>68</td>\n",
              "    </tr>\n",
              "    <tr>\n",
              "      <th>Qiushuang Huang</th>\n",
              "      <td>Gymnastics</td>\n",
              "      <td>61</td>\n",
              "    </tr>\n",
              "    <tr>\n",
              "      <th>Rebecca Tunney</th>\n",
              "      <td>Gymnastics</td>\n",
              "      <td>58</td>\n",
              "    </tr>\n",
              "    <tr>\n",
              "      <th>Seimone Augustus</th>\n",
              "      <td>Basketball</td>\n",
              "      <td>72</td>\n",
              "    </tr>\n",
              "    <tr>\n",
              "      <th>Shanna Crossley</th>\n",
              "      <td>Basketball</td>\n",
              "      <td>70</td>\n",
              "    </tr>\n",
              "    <tr>\n",
              "      <th>Shavonte Zellous</th>\n",
              "      <td>Basketball</td>\n",
              "      <td>70</td>\n",
              "    </tr>\n",
              "    <tr>\n",
              "      <th>Simone Biles</th>\n",
              "      <td>Gymnastics</td>\n",
              "      <td>57</td>\n",
              "    </tr>\n",
              "    <tr>\n",
              "      <th>Viktoria Komova</th>\n",
              "      <td>Gymnastics</td>\n",
              "      <td>61</td>\n",
              "    </tr>\n",
              "  </tbody>\n",
              "</table>\n",
              "</div>"
            ],
            "text/plain": [
              "                        Sport  Height\n",
              "Name                                 \n",
              "Asuka Teramoto     Gymnastics      54\n",
              "Brittainey Raven   Basketball      72\n",
              "Chen Nan           Basketball      78\n",
              "Elena Delle Donne  Basketball      77\n",
              "Gabby Douglas      Gymnastics      49\n",
              "Jennifer Lacy      Basketball      75\n",
              "Laurie Hernandez   Gymnastics      60\n",
              "Linlin Deng        Gymnastics      54\n",
              "Madison Kocian     Gymnastics      62\n",
              "Nakia Sanford      Basketball      76\n",
              "Nikki Blue         Basketball      68\n",
              "Qiushuang Huang    Gymnastics      61\n",
              "Rebecca Tunney     Gymnastics      58\n",
              "Seimone Augustus   Basketball      72\n",
              "Shanna Crossley    Basketball      70\n",
              "Shavonte Zellous   Basketball      70\n",
              "Simone Biles       Gymnastics      57\n",
              "Viktoria Komova    Gymnastics      61"
            ]
          },
          "metadata": {
            "tags": []
          },
          "execution_count": 2
        }
      ]
    },
    {
      "cell_type": "markdown",
      "metadata": {
        "id": "y8GeCa1dR0m0"
      },
      "source": [
        "## Classifying sport based on height\n",
        "Ok, this is a super easy task, but suppose I want to build a kNN classifier where I will give someone's height and the classifier will say whether their sport is gymnastics or basketball. \n",
        "\n",
        "First, I will import the kNN algorithm and make an instance of it."
      ]
    },
    {
      "cell_type": "code",
      "metadata": {
        "id": "krlOOjrLR0m0",
        "colab": {
          "base_uri": "https://localhost:8080/"
        },
        "outputId": "958cf5fe-8882-4047-ab9f-468cfebdcc2c"
      },
      "source": [
        "from sklearn.neighbors import KNeighborsClassifier\n",
        "knn = KNeighborsClassifier(n_neighbors=3)\n",
        "knn.get_params()"
      ],
      "execution_count": 3,
      "outputs": [
        {
          "output_type": "execute_result",
          "data": {
            "text/plain": [
              "{'algorithm': 'auto',\n",
              " 'leaf_size': 30,\n",
              " 'metric': 'minkowski',\n",
              " 'metric_params': None,\n",
              " 'n_jobs': None,\n",
              " 'n_neighbors': 3,\n",
              " 'p': 2,\n",
              " 'weights': 'uniform'}"
            ]
          },
          "metadata": {
            "tags": []
          },
          "execution_count": 3
        }
      ]
    },
    {
      "cell_type": "markdown",
      "metadata": {
        "id": "l9nihz23R0m1"
      },
      "source": [
        "The \n",
        "\n",
        "    knn = KNeighborsClassifier(n_neighbors=3)\n",
        "\n",
        "makes an instance of a k nearest neighbor classifier with k=3.\n",
        "\n",
        "As the name of the method suggests, the line\n",
        "\n",
        "    knn.get_params()\n",
        "    \n",
        "displays the parameters of the classifier. In this case:\n",
        "\n",
        "```\n",
        "{'algorithm': 'auto',\n",
        " 'leaf_size': 30,\n",
        " 'metric': 'minkowski',\n",
        " 'metric_params': None,\n",
        " 'n_jobs': None,\n",
        " 'n_neighbors': 3,\n",
        " 'p': 2,\n",
        " 'weights': 'uniform'}\n",
        " ```\n",
        " \n",
        "I won't explain all the parameters here, but notice that the metric is Minkowski, and the `p` of Minkowski is 2 making it Euclidean distance. And the number of neighbors `n_neighbors` is 3. \n",
        "\n",
        "\n",
        "---\n",
        "\n",
        "\n",
        "Most classifiers in sklearn want the labels (the thing we are trying to predict) to be a separate parameter from the features. So, lets create two DataFrames. One for the features and one for the labels. First, `athletes_features` \n"
      ]
    },
    {
      "cell_type": "code",
      "metadata": {
        "id": "C3DmspNQR0m2",
        "colab": {
          "base_uri": "https://localhost:8080/",
          "height": 638
        },
        "outputId": "06cf3d78-48d5-42e5-fbe2-fe8da6aa9c78"
      },
      "source": [
        "athletes_features = athletes[['Height']]\n",
        "athletes_features"
      ],
      "execution_count": 5,
      "outputs": [
        {
          "output_type": "execute_result",
          "data": {
            "text/html": [
              "<div>\n",
              "<style scoped>\n",
              "    .dataframe tbody tr th:only-of-type {\n",
              "        vertical-align: middle;\n",
              "    }\n",
              "\n",
              "    .dataframe tbody tr th {\n",
              "        vertical-align: top;\n",
              "    }\n",
              "\n",
              "    .dataframe thead th {\n",
              "        text-align: right;\n",
              "    }\n",
              "</style>\n",
              "<table border=\"1\" class=\"dataframe\">\n",
              "  <thead>\n",
              "    <tr style=\"text-align: right;\">\n",
              "      <th></th>\n",
              "      <th>Height</th>\n",
              "    </tr>\n",
              "    <tr>\n",
              "      <th>Name</th>\n",
              "      <th></th>\n",
              "    </tr>\n",
              "  </thead>\n",
              "  <tbody>\n",
              "    <tr>\n",
              "      <th>Asuka Teramoto</th>\n",
              "      <td>54</td>\n",
              "    </tr>\n",
              "    <tr>\n",
              "      <th>Brittainey Raven</th>\n",
              "      <td>72</td>\n",
              "    </tr>\n",
              "    <tr>\n",
              "      <th>Chen Nan</th>\n",
              "      <td>78</td>\n",
              "    </tr>\n",
              "    <tr>\n",
              "      <th>Elena Delle Donne</th>\n",
              "      <td>77</td>\n",
              "    </tr>\n",
              "    <tr>\n",
              "      <th>Gabby Douglas</th>\n",
              "      <td>49</td>\n",
              "    </tr>\n",
              "    <tr>\n",
              "      <th>Jennifer Lacy</th>\n",
              "      <td>75</td>\n",
              "    </tr>\n",
              "    <tr>\n",
              "      <th>Laurie Hernandez</th>\n",
              "      <td>60</td>\n",
              "    </tr>\n",
              "    <tr>\n",
              "      <th>Linlin Deng</th>\n",
              "      <td>54</td>\n",
              "    </tr>\n",
              "    <tr>\n",
              "      <th>Madison Kocian</th>\n",
              "      <td>62</td>\n",
              "    </tr>\n",
              "    <tr>\n",
              "      <th>Nakia Sanford</th>\n",
              "      <td>76</td>\n",
              "    </tr>\n",
              "    <tr>\n",
              "      <th>Nikki Blue</th>\n",
              "      <td>68</td>\n",
              "    </tr>\n",
              "    <tr>\n",
              "      <th>Qiushuang Huang</th>\n",
              "      <td>61</td>\n",
              "    </tr>\n",
              "    <tr>\n",
              "      <th>Rebecca Tunney</th>\n",
              "      <td>58</td>\n",
              "    </tr>\n",
              "    <tr>\n",
              "      <th>Seimone Augustus</th>\n",
              "      <td>72</td>\n",
              "    </tr>\n",
              "    <tr>\n",
              "      <th>Shanna Crossley</th>\n",
              "      <td>70</td>\n",
              "    </tr>\n",
              "    <tr>\n",
              "      <th>Shavonte Zellous</th>\n",
              "      <td>70</td>\n",
              "    </tr>\n",
              "    <tr>\n",
              "      <th>Simone Biles</th>\n",
              "      <td>57</td>\n",
              "    </tr>\n",
              "    <tr>\n",
              "      <th>Viktoria Komova</th>\n",
              "      <td>61</td>\n",
              "    </tr>\n",
              "  </tbody>\n",
              "</table>\n",
              "</div>"
            ],
            "text/plain": [
              "                   Height\n",
              "Name                     \n",
              "Asuka Teramoto         54\n",
              "Brittainey Raven       72\n",
              "Chen Nan               78\n",
              "Elena Delle Donne      77\n",
              "Gabby Douglas          49\n",
              "Jennifer Lacy          75\n",
              "Laurie Hernandez       60\n",
              "Linlin Deng            54\n",
              "Madison Kocian         62\n",
              "Nakia Sanford          76\n",
              "Nikki Blue             68\n",
              "Qiushuang Huang        61\n",
              "Rebecca Tunney         58\n",
              "Seimone Augustus       72\n",
              "Shanna Crossley        70\n",
              "Shavonte Zellous       70\n",
              "Simone Biles           57\n",
              "Viktoria Komova        61"
            ]
          },
          "metadata": {
            "tags": []
          },
          "execution_count": 5
        }
      ]
    },
    {
      "cell_type": "markdown",
      "metadata": {
        "id": "NH6mMNQHR0m3"
      },
      "source": [
        "Great! Now, one for Athlete's labels. Again, we are trying to predict what sport they play so we will use the Sport column."
      ]
    },
    {
      "cell_type": "code",
      "metadata": {
        "id": "cmJabs9RR0m3",
        "colab": {
          "base_uri": "https://localhost:8080/"
        },
        "outputId": "3126af78-f933-4f52-f752-7cb02556c140"
      },
      "source": [
        "athletes_labels =  athletes['Sport']\n",
        "athletes_labels"
      ],
      "execution_count": 6,
      "outputs": [
        {
          "output_type": "execute_result",
          "data": {
            "text/plain": [
              "Name\n",
              "Asuka Teramoto       Gymnastics\n",
              "Brittainey Raven     Basketball\n",
              "Chen Nan             Basketball\n",
              "Elena Delle Donne    Basketball\n",
              "Gabby Douglas        Gymnastics\n",
              "Jennifer Lacy        Basketball\n",
              "Laurie Hernandez     Gymnastics\n",
              "Linlin Deng          Gymnastics\n",
              "Madison Kocian       Gymnastics\n",
              "Nakia Sanford        Basketball\n",
              "Nikki Blue           Basketball\n",
              "Qiushuang Huang      Gymnastics\n",
              "Rebecca Tunney       Gymnastics\n",
              "Seimone Augustus     Basketball\n",
              "Shanna Crossley      Basketball\n",
              "Shavonte Zellous     Basketball\n",
              "Simone Biles         Gymnastics\n",
              "Viktoria Komova      Gymnastics\n",
              "Name: Sport, dtype: object"
            ]
          },
          "metadata": {
            "tags": []
          },
          "execution_count": 6
        }
      ]
    },
    {
      "cell_type": "markdown",
      "metadata": {
        "id": "4cKEGLxGR0m4"
      },
      "source": [
        "The features are a Pandas DataFrame and the labels are a Pandas Series.\n",
        "\n",
        "We train the knn classifier we created by using the `fit` method as follows:"
      ]
    },
    {
      "cell_type": "code",
      "metadata": {
        "id": "GUrKDbl8R0m4",
        "colab": {
          "base_uri": "https://localhost:8080/"
        },
        "outputId": "cc5becb8-aae3-4e44-fb96-e36f8e82c254"
      },
      "source": [
        "knn.fit(athletes_features, athletes_labels)\n"
      ],
      "execution_count": 7,
      "outputs": [
        {
          "output_type": "execute_result",
          "data": {
            "text/plain": [
              "KNeighborsClassifier(algorithm='auto', leaf_size=30, metric='minkowski',\n",
              "                     metric_params=None, n_jobs=None, n_neighbors=3, p=2,\n",
              "                     weights='uniform')"
            ]
          },
          "metadata": {
            "tags": []
          },
          "execution_count": 7
        }
      ]
    },
    {
      "cell_type": "markdown",
      "metadata": {
        "id": "UHFR5TaMR0m5"
      },
      "source": [
        "We could have done all that in one line:\n",
        "\n",
        "    knn.fit(athletes['Height'].reshape(-1, 1), athletes['Sport'])\n",
        "    \n",
        "but I just wanted to show you a common convention of naming the features `_features` and the class that example is in as either `_labels` or `_class`.  We could have also named it `features_athletes`-- so anything that makes it clear. \n",
        "\n",
        "### let's classify something\n",
        "\n",
        "Nneka Ogwumike is 6'2\" or 74 inches. Let's see what our classifier predicts:"
      ]
    },
    {
      "cell_type": "code",
      "metadata": {
        "id": "31ie7gBOR0m5",
        "colab": {
          "base_uri": "https://localhost:8080/"
        },
        "outputId": "bf8497da-f219-42af-d51e-f6e43add34e3"
      },
      "source": [
        "print(knn.predict([[74]]))"
      ],
      "execution_count": 8,
      "outputs": [
        {
          "output_type": "stream",
          "text": [
            "['Basketball']\n"
          ],
          "name": "stdout"
        }
      ]
    },
    {
      "cell_type": "markdown",
      "metadata": {
        "id": "K4nI5hVsR0m6"
      },
      "source": [
        "Ok. That is good considering Nneka Ogwumike is the 2016 MVP for the WNBA.\n",
        "\n",
        "We can also ask the classifier the probability that Nneka is a basketball player"
      ]
    },
    {
      "cell_type": "code",
      "metadata": {
        "id": "Fu4JA2I_R0m6",
        "colab": {
          "base_uri": "https://localhost:8080/"
        },
        "outputId": "59860920-a215-4e3c-b269-c76e6cdf0c93"
      },
      "source": [
        "print(knn.predict_proba([[74]]))"
      ],
      "execution_count": 9,
      "outputs": [
        {
          "output_type": "stream",
          "text": [
            "[[1. 0.]]\n"
          ],
          "name": "stdout"
        }
      ]
    },
    {
      "cell_type": "markdown",
      "metadata": {
        "id": "V388jFZ9R0m7"
      },
      "source": [
        "Ok. The probability that she is a basketball player is 1.0 and the probabity that she is a gymnast is 0.0. How did we get that probability? Well `k` was 3 so we used the three nearest neighbors and all of them were basketball players. If 2 were basketball players and 1 a gymnast the probability would be 66.6%. There is no magic here.\n",
        "\n",
        "Cool. Let's try Leilani Mitchell who is 5'5\" tall (or Svetlana Khorkina who is also the same height):"
      ]
    },
    {
      "cell_type": "code",
      "metadata": {
        "id": "JvKoNe8aR0m7",
        "colab": {
          "base_uri": "https://localhost:8080/"
        },
        "outputId": "92ef21da-9a4d-4e0e-b369-b9794178f7c7"
      },
      "source": [
        "print(knn.predict([[65]]))\n",
        "print(knn.predict_proba([[65]]))"
      ],
      "execution_count": 10,
      "outputs": [
        {
          "output_type": "stream",
          "text": [
            "['Gymnastics']\n",
            "[[0.33333333 0.66666667]]\n"
          ],
          "name": "stdout"
        }
      ]
    },
    {
      "cell_type": "markdown",
      "metadata": {
        "id": "y27Cg6G0R0m7"
      },
      "source": [
        "Ok. So here our classifer predicts gymanstics. But is only .66 confident. Why?  \n",
        "\n",
        "For that let's look at the athletes in our training set sorted by height. "
      ]
    },
    {
      "cell_type": "code",
      "metadata": {
        "id": "o_4PsoPWR0m8",
        "outputId": "7cd32722-3863-449a-e0d2-acbef111cc52"
      },
      "source": [
        "athletes.sort_values(by='Height')"
      ],
      "execution_count": null,
      "outputs": [
        {
          "output_type": "execute_result",
          "data": {
            "text/html": [
              "<div>\n",
              "<style scoped>\n",
              "    .dataframe tbody tr th:only-of-type {\n",
              "        vertical-align: middle;\n",
              "    }\n",
              "\n",
              "    .dataframe tbody tr th {\n",
              "        vertical-align: top;\n",
              "    }\n",
              "\n",
              "    .dataframe thead th {\n",
              "        text-align: right;\n",
              "    }\n",
              "</style>\n",
              "<table border=\"1\" class=\"dataframe\">\n",
              "  <thead>\n",
              "    <tr style=\"text-align: right;\">\n",
              "      <th></th>\n",
              "      <th>Sport</th>\n",
              "      <th>Height</th>\n",
              "    </tr>\n",
              "    <tr>\n",
              "      <th>Name</th>\n",
              "      <th></th>\n",
              "      <th></th>\n",
              "    </tr>\n",
              "  </thead>\n",
              "  <tbody>\n",
              "    <tr>\n",
              "      <th>Gabby Douglas</th>\n",
              "      <td>Gymnastics</td>\n",
              "      <td>49</td>\n",
              "    </tr>\n",
              "    <tr>\n",
              "      <th>Asuka Teramoto</th>\n",
              "      <td>Gymnastics</td>\n",
              "      <td>54</td>\n",
              "    </tr>\n",
              "    <tr>\n",
              "      <th>Linlin Deng</th>\n",
              "      <td>Gymnastics</td>\n",
              "      <td>54</td>\n",
              "    </tr>\n",
              "    <tr>\n",
              "      <th>Simone Biles</th>\n",
              "      <td>Gymnastics</td>\n",
              "      <td>57</td>\n",
              "    </tr>\n",
              "    <tr>\n",
              "      <th>Rebecca Tunney</th>\n",
              "      <td>Gymnastics</td>\n",
              "      <td>58</td>\n",
              "    </tr>\n",
              "    <tr>\n",
              "      <th>Laurie Hernandez</th>\n",
              "      <td>Gymnastics</td>\n",
              "      <td>60</td>\n",
              "    </tr>\n",
              "    <tr>\n",
              "      <th>Qiushuang Huang</th>\n",
              "      <td>Gymnastics</td>\n",
              "      <td>61</td>\n",
              "    </tr>\n",
              "    <tr>\n",
              "      <th>Viktoria Komova</th>\n",
              "      <td>Gymnastics</td>\n",
              "      <td>61</td>\n",
              "    </tr>\n",
              "    <tr>\n",
              "      <th>Madison Kocian</th>\n",
              "      <td>Gymnastics</td>\n",
              "      <td>62</td>\n",
              "    </tr>\n",
              "    <tr>\n",
              "      <th>Nikki Blue</th>\n",
              "      <td>Basketball</td>\n",
              "      <td>68</td>\n",
              "    </tr>\n",
              "    <tr>\n",
              "      <th>Shanna Crossley</th>\n",
              "      <td>Basketball</td>\n",
              "      <td>70</td>\n",
              "    </tr>\n",
              "    <tr>\n",
              "      <th>Shavonte Zellous</th>\n",
              "      <td>Basketball</td>\n",
              "      <td>70</td>\n",
              "    </tr>\n",
              "    <tr>\n",
              "      <th>Brittainey Raven</th>\n",
              "      <td>Basketball</td>\n",
              "      <td>72</td>\n",
              "    </tr>\n",
              "    <tr>\n",
              "      <th>Seimone Augustus</th>\n",
              "      <td>Basketball</td>\n",
              "      <td>72</td>\n",
              "    </tr>\n",
              "    <tr>\n",
              "      <th>Jennifer Lacy</th>\n",
              "      <td>Basketball</td>\n",
              "      <td>75</td>\n",
              "    </tr>\n",
              "    <tr>\n",
              "      <th>Nakia Sanford</th>\n",
              "      <td>Basketball</td>\n",
              "      <td>76</td>\n",
              "    </tr>\n",
              "    <tr>\n",
              "      <th>Elena Delle Donne</th>\n",
              "      <td>Basketball</td>\n",
              "      <td>77</td>\n",
              "    </tr>\n",
              "    <tr>\n",
              "      <th>Chen Nan</th>\n",
              "      <td>Basketball</td>\n",
              "      <td>78</td>\n",
              "    </tr>\n",
              "  </tbody>\n",
              "</table>\n",
              "</div>"
            ],
            "text/plain": [
              "                        Sport  Height\n",
              "Name                                 \n",
              "Gabby Douglas      Gymnastics      49\n",
              "Asuka Teramoto     Gymnastics      54\n",
              "Linlin Deng        Gymnastics      54\n",
              "Simone Biles       Gymnastics      57\n",
              "Rebecca Tunney     Gymnastics      58\n",
              "Laurie Hernandez   Gymnastics      60\n",
              "Qiushuang Huang    Gymnastics      61\n",
              "Viktoria Komova    Gymnastics      61\n",
              "Madison Kocian     Gymnastics      62\n",
              "Nikki Blue         Basketball      68\n",
              "Shanna Crossley    Basketball      70\n",
              "Shavonte Zellous   Basketball      70\n",
              "Brittainey Raven   Basketball      72\n",
              "Seimone Augustus   Basketball      72\n",
              "Jennifer Lacy      Basketball      75\n",
              "Nakia Sanford      Basketball      76\n",
              "Elena Delle Donne  Basketball      77\n",
              "Chen Nan           Basketball      78"
            ]
          },
          "metadata": {
            "tags": []
          },
          "execution_count": 11
        }
      ]
    },
    {
      "cell_type": "markdown",
      "metadata": {
        "id": "ec3nd9C9R0m8"
      },
      "source": [
        "We are using kNN with a k of 3 and we are trying to classify someone who is 65 inches tall.  \n",
        "<h3 style=\"color:red\">3 Nearest Neighbors</h3>\n",
        "<span style=\"color:red\">What sports do the 3 nearest neighbors play?</span>\n",
        "Double click this cell, enter the data, and shift-enter to render the cell\n",
        "\n",
        "Sport | Euclidean Distance\n",
        " :---: | :--: |\n",
        "  Gymnastics |  62   \n",
        "  Basketball | 68 \n",
        "  Gymnastics | 61 \n",
        "  |\n",
        "  \n",
        "Why did I ask for Euclidean Distance? Well, again, when we created the classifier and then used the `get_params` method, the classifier returned:\n",
        "\n",
        "```\n",
        "{'algorithm': 'auto',\n",
        " 'leaf_size': 30,\n",
        " 'metric': 'minkowski',\n",
        " 'metric_params': None,\n",
        " 'n_jobs': None,\n",
        " 'n_neighbors': 3,\n",
        " 'p': 2,\n",
        " 'weights': 'uniform'}           \n",
        "```\n",
        "\n",
        "You see that it uses the Minkowski distance. The `p` parameter is the power parameter for Minkowski and you see the default value is 2. When p=1 Minkowski distance is the Manhattan Distance, when p=2 it is the Euclidean distance. And when we created the classifier we set `k`, the number of nearest neightbors for kNN to 3 (the default is 5).  So the three nearest neighbors 'vote' on the label to give that example. So for 5'5\" Svetlana Khorkina 2 neighbors voted gymnastics and 1 voted basketball so gymnastics won.\n",
        "\n",
        "As we just discussed, for knn we have a number of parameters we can use to modify the classifier. For example, to build a Manhattan Distance kNN classifier with a k of 1:"
      ]
    },
    {
      "cell_type": "code",
      "metadata": {
        "id": "6rZwDnsCR0m9",
        "colab": {
          "base_uri": "https://localhost:8080/"
        },
        "outputId": "dae8d10d-bfc8-4f9e-8203-24878348587d"
      },
      "source": [
        "knnOne = KNeighborsClassifier(n_neighbors=1, p= 1)\n",
        "knnOne.fit(athletes[['Height']], athletes['Sport'])"
      ],
      "execution_count": 11,
      "outputs": [
        {
          "output_type": "execute_result",
          "data": {
            "text/plain": [
              "KNeighborsClassifier(algorithm='auto', leaf_size=30, metric='minkowski',\n",
              "                     metric_params=None, n_jobs=None, n_neighbors=1, p=1,\n",
              "                     weights='uniform')"
            ]
          },
          "metadata": {
            "tags": []
          },
          "execution_count": 11
        }
      ]
    },
    {
      "cell_type": "markdown",
      "metadata": {
        "id": "3Wy29e42R0m-"
      },
      "source": [
        "And using `sklearn`, it is quite easy to build and use a variety of classifiers. For example, although you might no nothing about Guassian Naive Bayes classifiers, you can build one of those without even knowing much about the algorithm:"
      ]
    },
    {
      "cell_type": "code",
      "metadata": {
        "id": "Z8BlrbB6R0m-",
        "colab": {
          "base_uri": "https://localhost:8080/"
        },
        "outputId": "b4d07f63-fdf9-4052-bfbe-8390d29c10fe"
      },
      "source": [
        "from sklearn.naive_bayes import GaussianNB\n",
        "clf = GaussianNB()\n",
        "clf.fit(athletes[['Height']], athletes['Sport'])"
      ],
      "execution_count": 12,
      "outputs": [
        {
          "output_type": "execute_result",
          "data": {
            "text/plain": [
              "GaussianNB(priors=None, var_smoothing=1e-09)"
            ]
          },
          "metadata": {
            "tags": []
          },
          "execution_count": 12
        }
      ]
    },
    {
      "cell_type": "code",
      "metadata": {
        "id": "051NMs6QR0m_",
        "colab": {
          "base_uri": "https://localhost:8080/"
        },
        "outputId": "53223185-cdc4-4f26-9c93-0e08dfff5636"
      },
      "source": [
        "clf.predict([[70]])"
      ],
      "execution_count": 13,
      "outputs": [
        {
          "output_type": "execute_result",
          "data": {
            "text/plain": [
              "array(['Basketball'], dtype='<U10')"
            ]
          },
          "metadata": {
            "tags": []
          },
          "execution_count": 13
        }
      ]
    },
    {
      "cell_type": "markdown",
      "metadata": {
        "id": "8KAFApT9R0m_"
      },
      "source": [
        "So regardless of algorithm, the steps were\n",
        "\n",
        "1. create the classifier. For ex., `knn = KNeighborsClassifier()`\n",
        "2. fit the classifier. For ex., `knn.fit(athletes_features, athletes_labels)`\n",
        "3. used the classifier to make predictions on new data. For ex., `knn.predict([70])`\n",
        "\n",
        "\n",
        "Ok. back to kNN.\n",
        "\n"
      ]
    },
    {
      "cell_type": "markdown",
      "metadata": {
        "id": "qhpgz4T5R0m_"
      },
      "source": [
        "# return to kNN\n",
        "We still have my `knn` classifier:"
      ]
    },
    {
      "cell_type": "code",
      "metadata": {
        "id": "IDLkMt8MR0nA",
        "colab": {
          "base_uri": "https://localhost:8080/"
        },
        "outputId": "61520b65-4a72-4600-a4d1-b0a691684329"
      },
      "source": [
        "knn"
      ],
      "execution_count": 14,
      "outputs": [
        {
          "output_type": "execute_result",
          "data": {
            "text/plain": [
              "KNeighborsClassifier(algorithm='auto', leaf_size=30, metric='minkowski',\n",
              "                     metric_params=None, n_jobs=None, n_neighbors=3, p=2,\n",
              "                     weights='uniform')"
            ]
          },
          "metadata": {
            "tags": []
          },
          "execution_count": 14
        }
      ]
    },
    {
      "cell_type": "markdown",
      "metadata": {
        "id": "a4wyxAJ7R0nA"
      },
      "source": [
        "### training and test sets\n",
        "\n",
        "When we `fit` the classifier:\n",
        "\n",
        "    knn.fit(athletes_features, athletes_labels)\n",
        "\n",
        "We trained the classifer on a set of data that we use for training, and not surprisingly, this is called the **training set**.  So perhaps a better variable name would be:\n",
        "\n",
        "    athletes_training_features   athletes_training_labels\n",
        "\n",
        "To see how **good** a classifier we made (more on the meaning of good later) we use a set of data called the **test** set. \n",
        "\n",
        "Let's create a test set now:\n",
        "    \n",
        "    \n",
        "\n"
      ]
    },
    {
      "cell_type": "code",
      "metadata": {
        "id": "27dUUll-R0nA",
        "colab": {
          "base_uri": "https://localhost:8080/",
          "height": 142
        },
        "outputId": "a2ada002-35ce-4a40-84bb-f6fb74174c08"
      },
      "source": [
        "athletes_test_features = DataFrame({'Height': [74, 65, 65]}, index=['Nneka Ogwumike', 'Svetlana Khorkina', 'Leilani Mitchell'])\n",
        "athletes_test_features"
      ],
      "execution_count": 15,
      "outputs": [
        {
          "output_type": "execute_result",
          "data": {
            "text/html": [
              "<div>\n",
              "<style scoped>\n",
              "    .dataframe tbody tr th:only-of-type {\n",
              "        vertical-align: middle;\n",
              "    }\n",
              "\n",
              "    .dataframe tbody tr th {\n",
              "        vertical-align: top;\n",
              "    }\n",
              "\n",
              "    .dataframe thead th {\n",
              "        text-align: right;\n",
              "    }\n",
              "</style>\n",
              "<table border=\"1\" class=\"dataframe\">\n",
              "  <thead>\n",
              "    <tr style=\"text-align: right;\">\n",
              "      <th></th>\n",
              "      <th>Height</th>\n",
              "    </tr>\n",
              "  </thead>\n",
              "  <tbody>\n",
              "    <tr>\n",
              "      <th>Nneka Ogwumike</th>\n",
              "      <td>74</td>\n",
              "    </tr>\n",
              "    <tr>\n",
              "      <th>Svetlana Khorkina</th>\n",
              "      <td>65</td>\n",
              "    </tr>\n",
              "    <tr>\n",
              "      <th>Leilani Mitchell</th>\n",
              "      <td>65</td>\n",
              "    </tr>\n",
              "  </tbody>\n",
              "</table>\n",
              "</div>"
            ],
            "text/plain": [
              "                   Height\n",
              "Nneka Ogwumike         74\n",
              "Svetlana Khorkina      65\n",
              "Leilani Mitchell       65"
            ]
          },
          "metadata": {
            "tags": []
          },
          "execution_count": 15
        }
      ]
    },
    {
      "cell_type": "markdown",
      "metadata": {
        "id": "11Svv0YRR0nB"
      },
      "source": [
        "and now we can make predictions on everyone in our test set:"
      ]
    },
    {
      "cell_type": "code",
      "metadata": {
        "id": "IClSw_I0R0nB",
        "colab": {
          "base_uri": "https://localhost:8080/"
        },
        "outputId": "f31c69f7-1130-4393-cfad-cb8bee35e51f"
      },
      "source": [
        "knn.predict(athletes_test_features)"
      ],
      "execution_count": 16,
      "outputs": [
        {
          "output_type": "execute_result",
          "data": {
            "text/plain": [
              "array(['Basketball', 'Gymnastics', 'Gymnastics'], dtype=object)"
            ]
          },
          "metadata": {
            "tags": []
          },
          "execution_count": 16
        }
      ]
    },
    {
      "cell_type": "markdown",
      "metadata": {
        "id": "8Duh0DrlR0nB"
      },
      "source": [
        "sweet!\n",
        "\n",
        "## the non-coding part of the notebook\n",
        "First, here is a confession. I know zip about sports. I've never had an interest and don't watch any sporting event. So if I make some horrendous mistake in these descriptions you may want to cut me some slack. I am using sports as an example because \n",
        "\n",
        "1. height and weight are easy things to talk about (and it is harder to come up with easy features for musicians, and \n",
        "2. it is easy to get the height and weight of sports people (it's much, much, tougher to get the height and weight of dancers for example). \n",
        "\n",
        "Let's go back to thinking about height and weight as features. Allyson Michelle Felix is among the fastest women on the planet (she won 6 Olympic Gold Medals). Her height is 5'5 and she weighs 121. Courtney Williams is a guard for the Connecticut Suns WNBA team. She is 5'8\" and weighs 136.  Here is the chart so you can see those numbers:\n",
        "\n",
        "\n",
        " person | height | weight\n",
        " :---: |  :---: | :---: \n",
        "Allyson Michelle Felix | 65 | 121\n",
        "Courtney Williams | 68 | 136\n",
        "\n",
        "\n",
        "Now I want to classify an athlete who is 5'4 and weighs 130. What is your gut feeling? Do you think she is a track person or a WNBA player?\n",
        "\n",
        "My thinking is that she is track since she seems too short for a basketball player (and plus I know that those are the stats for Carmelita 'The Jet' Jeter, the fastest women on the planet. (Although, the shortest person in the WNBA, Shannon Denise Bobbitt, is only 5'2\").  But if we classify someone who is 5'4\" by using the Manhattan Distance:\n",
        "\n",
        "    distance(Carmelita, Allyson) = abs(64 - 65) + abs(130 - 120) = 1 + 10 = 11\n",
        "    distance(Carmelita, Courtney) = abs(64 - 68) + abs(130 - 136) = 4 + 6 = 10\n",
        "    \n",
        "We'd pick that she was a basketball player (and we would still pick basketball even if we used Euclidean Distance.\n",
        "    \n",
        "\n",
        "So this is sort of a bummer.  It's the same problem that I mentioned in the video. If I had a match making site and had this misguided idea that the best relationships are those people who are about the same age and have the same salaries. And I have 2 guys:\n",
        "\n",
        " Guys | age | salary\n",
        " ---: | :---: | :---: \n",
        " Mr. Cool | 26 | 80,000\n",
        " Old Dude | 67 | 115,000\n",
        " \n",
        " And I am trying to match up Ann who is 28 and earns 100k. \n",
        " \n",
        " The Manhattan Distance between Ann and Mr. Cool is 2 + 20k = 20,002.\n",
        " \n",
        " The Manhattan Distance between Ann and Old Dude is 31 + 15k  = 15,031\n",
        " \n",
        " So, sadly, our algorithm would recommend the old dude to Ann. This is again a bummer. The problem in both examples is that the range of values in one column is far larger than the range in another column. In our case, the weight column values are much larger than the height values.\n",
        " \n",
        "### rescaling\n",
        "\n",
        "A solution to this problem is to rescale the values so the values in all columns range from 0 to 1. There are other (and possibly better) ways to rescale but let's start with this simple one for now.\n",
        "\n",
        "##### the formula for minmax rescaling:\n",
        "\n",
        "### $$x'= \\frac{x-x_{min}}{x_{max}-x_{min}}$$\n",
        "\n",
        "Let's look at our simple example of Ann, Mr. Cool and Old Dude:\n",
        "\n",
        "Person | Age | Salary\n",
        " ---: | :---: | :---: \n",
        " Mr. Cool | 26 | 80,000\n",
        " Old Dude | 67 | 115,000\n",
        " Ann   | 28 | 100,000\n",
        "\n",
        "so the minimum value of the age column is 26 and the max is 67 and let's say I want to normalize Mr. Cool's age:\n",
        "\n",
        "\n",
        "### $$x'_{Mr.Cool}= \\frac{x_{Mr.Cool}-x_{min}}{x_{max}-x_{min}} = \\frac{26-26}{67-26} = \\frac{0}{41} = 0$$\n",
        "\n",
        "Ann's normalized age:\n",
        "\n",
        "### $$x'_{Ann}= \\frac{x_{Ann}-x_{min}}{x_{max}-x_{min}} = \\frac{28-26}{67-26} = \\frac{2}{41} = 0.048$$\n",
        "\n",
        "Old Dude's normalized age:\n",
        "\n",
        "### $$x'_{OldDude}= \\frac{x_{OldDude}-x_{min}}{x_{max}-x_{min}} = \\frac{67-26}{67-26} = \\frac{41}{41} = 1$$\n",
        "\n",
        "\n",
        "<h3 style=\"color:red\">Normalize Salary</h3>\n",
        "<span style=\"color:red\">Can you normalize the values in the salary column?</span>\n",
        "\n",
        "Double click this cell, enter the data, and shift-enter to render this markdown cell\n",
        "\n",
        "Person | Age | Salary\n",
        " ---: | :---: | :---: \n",
        " Mr. Cool | 0 | 0\n",
        "Old Dude | 0.048 | 1\n",
        " Ann   | 1 | .57"
      ]
    },
    {
      "cell_type": "markdown",
      "metadata": {
        "id": "RFr-CVchR0nC"
      },
      "source": [
        "## It's pretty easy to do this in straight Python:\n",
        "\n"
      ]
    },
    {
      "cell_type": "code",
      "metadata": {
        "id": "ziY_eN_IR0nD",
        "colab": {
          "base_uri": "https://localhost:8080/"
        },
        "outputId": "3db41aca-5c00-479b-d2ee-00ab1bf86ed8"
      },
      "source": [
        "age = [26, 67, 28]\n",
        "\n",
        "def scale(arr):\n",
        "    return [(x - min(arr))/ (max(arr) - min(arr)) for x in arr]\n",
        "\n",
        "scale(age)\n"
      ],
      "execution_count": 17,
      "outputs": [
        {
          "output_type": "execute_result",
          "data": {
            "text/plain": [
              "[0.0, 1.0, 0.04878048780487805]"
            ]
          },
          "metadata": {
            "tags": []
          },
          "execution_count": 17
        }
      ]
    },
    {
      "cell_type": "markdown",
      "metadata": {
        "id": "84JKxHvOR0nD"
      },
      "source": [
        "## Using the min-max scale method in sklearn\n",
        "It's even easier to do it for pandas DataFrames. \n",
        "First, let's make a dataframe from the data we have been using."
      ]
    },
    {
      "cell_type": "code",
      "metadata": {
        "id": "JPDGcNOHR0nD",
        "colab": {
          "base_uri": "https://localhost:8080/",
          "height": 142
        },
        "outputId": "de03ae90-0fb3-4457-da16-6a4be4e8ae88"
      },
      "source": [
        "simple = DataFrame({'age': [26, 67, 28], 'salary': [80000, 115000, 100000]}, index=['Mr. Cool', 'Old Dude', 'Ann'])\n",
        "simple"
      ],
      "execution_count": 18,
      "outputs": [
        {
          "output_type": "execute_result",
          "data": {
            "text/html": [
              "<div>\n",
              "<style scoped>\n",
              "    .dataframe tbody tr th:only-of-type {\n",
              "        vertical-align: middle;\n",
              "    }\n",
              "\n",
              "    .dataframe tbody tr th {\n",
              "        vertical-align: top;\n",
              "    }\n",
              "\n",
              "    .dataframe thead th {\n",
              "        text-align: right;\n",
              "    }\n",
              "</style>\n",
              "<table border=\"1\" class=\"dataframe\">\n",
              "  <thead>\n",
              "    <tr style=\"text-align: right;\">\n",
              "      <th></th>\n",
              "      <th>age</th>\n",
              "      <th>salary</th>\n",
              "    </tr>\n",
              "  </thead>\n",
              "  <tbody>\n",
              "    <tr>\n",
              "      <th>Mr. Cool</th>\n",
              "      <td>26</td>\n",
              "      <td>80000</td>\n",
              "    </tr>\n",
              "    <tr>\n",
              "      <th>Old Dude</th>\n",
              "      <td>67</td>\n",
              "      <td>115000</td>\n",
              "    </tr>\n",
              "    <tr>\n",
              "      <th>Ann</th>\n",
              "      <td>28</td>\n",
              "      <td>100000</td>\n",
              "    </tr>\n",
              "  </tbody>\n",
              "</table>\n",
              "</div>"
            ],
            "text/plain": [
              "          age  salary\n",
              "Mr. Cool   26   80000\n",
              "Old Dude   67  115000\n",
              "Ann        28  100000"
            ]
          },
          "metadata": {
            "tags": []
          },
          "execution_count": 18
        }
      ]
    },
    {
      "cell_type": "markdown",
      "metadata": {
        "id": "wxNt7njQR0nE"
      },
      "source": [
        "ok. and now let's scale those values:"
      ]
    },
    {
      "cell_type": "code",
      "metadata": {
        "id": "iP8EZ2HeR0nE",
        "colab": {
          "base_uri": "https://localhost:8080/",
          "height": 142
        },
        "outputId": "0c2bfdaf-bb4c-4a96-eab8-761b4502bb99"
      },
      "source": [
        "from sklearn.preprocessing import MinMaxScaler\n",
        "scaler = MinMaxScaler()\n",
        "simple[['age', 'salary']] =  scaler.fit_transform(simple[['age', 'salary']] )\n",
        "simple"
      ],
      "execution_count": 20,
      "outputs": [
        {
          "output_type": "execute_result",
          "data": {
            "text/html": [
              "<div>\n",
              "<style scoped>\n",
              "    .dataframe tbody tr th:only-of-type {\n",
              "        vertical-align: middle;\n",
              "    }\n",
              "\n",
              "    .dataframe tbody tr th {\n",
              "        vertical-align: top;\n",
              "    }\n",
              "\n",
              "    .dataframe thead th {\n",
              "        text-align: right;\n",
              "    }\n",
              "</style>\n",
              "<table border=\"1\" class=\"dataframe\">\n",
              "  <thead>\n",
              "    <tr style=\"text-align: right;\">\n",
              "      <th></th>\n",
              "      <th>age</th>\n",
              "      <th>salary</th>\n",
              "    </tr>\n",
              "  </thead>\n",
              "  <tbody>\n",
              "    <tr>\n",
              "      <th>Mr. Cool</th>\n",
              "      <td>0.00000</td>\n",
              "      <td>0.000000</td>\n",
              "    </tr>\n",
              "    <tr>\n",
              "      <th>Old Dude</th>\n",
              "      <td>1.00000</td>\n",
              "      <td>1.000000</td>\n",
              "    </tr>\n",
              "    <tr>\n",
              "      <th>Ann</th>\n",
              "      <td>0.04878</td>\n",
              "      <td>0.571429</td>\n",
              "    </tr>\n",
              "  </tbody>\n",
              "</table>\n",
              "</div>"
            ],
            "text/plain": [
              "              age    salary\n",
              "Mr. Cool  0.00000  0.000000\n",
              "Old Dude  1.00000  1.000000\n",
              "Ann       0.04878  0.571429"
            ]
          },
          "metadata": {
            "tags": []
          },
          "execution_count": 20
        }
      ]
    },
    {
      "cell_type": "markdown",
      "metadata": {
        "id": "dUio4Y9zR0nF"
      },
      "source": [
        "Cool.  Now when I try to find the Manhattan distance from Ann to both Mr. Cool and Old Dude I get:\n",
        "\n",
        "###   $$distance_{Ann,Mr.Cool} = \\left|.048 - 0.0\\right| + \\left|0.57-0\\right| = .048 + 0.57 = 0.618$$\n",
        "\n",
        "###   $$distance_{Ann,OldDude} = \\left|.048 - 1.0\\right| + \\left|0.57-1\\right| = .952 + 0.57 = 1.32$$\n",
        "\n",
        "#### Now, fortunately, Ann is closer to Mr. Cool!\n",
        "\n",
        "\n",
        "\n",
        "\n",
        "\n",
        "<h1 style=\"color:red\">A bigger challenge: The Iris Data Set</h1>\n",
        "\n",
        "\n",
        "<img src=\"https://upload.wikimedia.org/wikipedia/commons/1/1e/IMG_7911-Iris_virginica.jpg\" width=\"250\" />\n",
        "\n",
        "We are going to use the Iris Dataset, one of the standard data mining data sets which has been around since 1988.  The data set contains 3 classes of 50 instances each\n",
        "\n",
        "1. Iris Setosa \n",
        "2. Iris Versicolour \n",
        "3. Iris Virginica (the picture above)\n",
        "\n",
        "There are only 4 attributes or features:\n",
        "\n",
        "1. sepal length in cm \n",
        "2. sepal width in cm \n",
        "3. petal length in cm \n",
        "4. petal width in cm \n",
        "\n",
        "Here is an example of the data:\n",
        "\n",
        "Sepal Length|Sepal Width|Petal Length|Petal Width|Class\n",
        ":--: | :--: |:--: |:--: |:--: \n",
        "5.3|3.7|1.5|0.2|Iris-setosa\n",
        "5.0|3.3|1.4|0.2|Iris-setosa\n",
        "5.0|2.0|3.5|1.0|Iris-versicolor\n",
        "5.9|3.0|4.2|1.5|Iris-versicolor\n",
        "6.3|3.4|5.6|2.4|Iris-virginica\n",
        "6.4|3.1|5.5|1.8|Iris-virginica\n",
        "\n",
        "The job of the classifier is to determine the class of an instance (the type of Iris) based on the values of the attributes.\n",
        "\n",
        "I will pause a moment while you load the dataset from\n",
        "\n",
        "    https://raw.githubusercontent.com/zacharski/ml-class/master/data/irisTrain.csv\n",
        "    \n",
        "<h3 style=\"color:red\">Load the data</h3>"
      ]
    },
    {
      "cell_type": "code",
      "metadata": {
        "scrolled": true,
        "id": "55p9C86JR0nG",
        "colab": {
          "base_uri": "https://localhost:8080/",
          "height": 419
        },
        "outputId": "ab76d528-abe1-4da4-bfdc-0c36f11146c5"
      },
      "source": [
        "iris = pd.read_csv('https://raw.githubusercontent.com/zacharski/ml-class/master/data/irisTrain.csv')\n",
        "iris"
      ],
      "execution_count": 66,
      "outputs": [
        {
          "output_type": "execute_result",
          "data": {
            "text/html": [
              "<div>\n",
              "<style scoped>\n",
              "    .dataframe tbody tr th:only-of-type {\n",
              "        vertical-align: middle;\n",
              "    }\n",
              "\n",
              "    .dataframe tbody tr th {\n",
              "        vertical-align: top;\n",
              "    }\n",
              "\n",
              "    .dataframe thead th {\n",
              "        text-align: right;\n",
              "    }\n",
              "</style>\n",
              "<table border=\"1\" class=\"dataframe\">\n",
              "  <thead>\n",
              "    <tr style=\"text-align: right;\">\n",
              "      <th></th>\n",
              "      <th>Sepal Length</th>\n",
              "      <th>Sepal Width</th>\n",
              "      <th>Petal Length</th>\n",
              "      <th>Petal Width</th>\n",
              "      <th>Class</th>\n",
              "    </tr>\n",
              "  </thead>\n",
              "  <tbody>\n",
              "    <tr>\n",
              "      <th>0</th>\n",
              "      <td>5.4</td>\n",
              "      <td>3.7</td>\n",
              "      <td>1.5</td>\n",
              "      <td>0.2</td>\n",
              "      <td>Iris-setosa</td>\n",
              "    </tr>\n",
              "    <tr>\n",
              "      <th>1</th>\n",
              "      <td>4.8</td>\n",
              "      <td>3.4</td>\n",
              "      <td>1.6</td>\n",
              "      <td>0.2</td>\n",
              "      <td>Iris-setosa</td>\n",
              "    </tr>\n",
              "    <tr>\n",
              "      <th>2</th>\n",
              "      <td>4.8</td>\n",
              "      <td>3.0</td>\n",
              "      <td>1.4</td>\n",
              "      <td>0.1</td>\n",
              "      <td>Iris-setosa</td>\n",
              "    </tr>\n",
              "    <tr>\n",
              "      <th>3</th>\n",
              "      <td>4.3</td>\n",
              "      <td>3.0</td>\n",
              "      <td>1.1</td>\n",
              "      <td>0.1</td>\n",
              "      <td>Iris-setosa</td>\n",
              "    </tr>\n",
              "    <tr>\n",
              "      <th>4</th>\n",
              "      <td>5.8</td>\n",
              "      <td>4.0</td>\n",
              "      <td>1.2</td>\n",
              "      <td>0.2</td>\n",
              "      <td>Iris-setosa</td>\n",
              "    </tr>\n",
              "    <tr>\n",
              "      <th>...</th>\n",
              "      <td>...</td>\n",
              "      <td>...</td>\n",
              "      <td>...</td>\n",
              "      <td>...</td>\n",
              "      <td>...</td>\n",
              "    </tr>\n",
              "    <tr>\n",
              "      <th>115</th>\n",
              "      <td>6.7</td>\n",
              "      <td>3.0</td>\n",
              "      <td>5.2</td>\n",
              "      <td>2.3</td>\n",
              "      <td>Iris-virginica</td>\n",
              "    </tr>\n",
              "    <tr>\n",
              "      <th>116</th>\n",
              "      <td>6.3</td>\n",
              "      <td>2.5</td>\n",
              "      <td>5.0</td>\n",
              "      <td>1.9</td>\n",
              "      <td>Iris-virginica</td>\n",
              "    </tr>\n",
              "    <tr>\n",
              "      <th>117</th>\n",
              "      <td>6.5</td>\n",
              "      <td>3.0</td>\n",
              "      <td>5.2</td>\n",
              "      <td>2.0</td>\n",
              "      <td>Iris-virginica</td>\n",
              "    </tr>\n",
              "    <tr>\n",
              "      <th>118</th>\n",
              "      <td>6.2</td>\n",
              "      <td>3.4</td>\n",
              "      <td>5.4</td>\n",
              "      <td>2.3</td>\n",
              "      <td>Iris-virginica</td>\n",
              "    </tr>\n",
              "    <tr>\n",
              "      <th>119</th>\n",
              "      <td>5.9</td>\n",
              "      <td>3.0</td>\n",
              "      <td>5.1</td>\n",
              "      <td>1.8</td>\n",
              "      <td>Iris-virginica</td>\n",
              "    </tr>\n",
              "  </tbody>\n",
              "</table>\n",
              "<p>120 rows × 5 columns</p>\n",
              "</div>"
            ],
            "text/plain": [
              "     Sepal Length  Sepal Width  Petal Length  Petal Width           Class\n",
              "0             5.4          3.7           1.5          0.2     Iris-setosa\n",
              "1             4.8          3.4           1.6          0.2     Iris-setosa\n",
              "2             4.8          3.0           1.4          0.1     Iris-setosa\n",
              "3             4.3          3.0           1.1          0.1     Iris-setosa\n",
              "4             5.8          4.0           1.2          0.2     Iris-setosa\n",
              "..            ...          ...           ...          ...             ...\n",
              "115           6.7          3.0           5.2          2.3  Iris-virginica\n",
              "116           6.3          2.5           5.0          1.9  Iris-virginica\n",
              "117           6.5          3.0           5.2          2.0  Iris-virginica\n",
              "118           6.2          3.4           5.4          2.3  Iris-virginica\n",
              "119           5.9          3.0           5.1          1.8  Iris-virginica\n",
              "\n",
              "[120 rows x 5 columns]"
            ]
          },
          "metadata": {
            "tags": []
          },
          "execution_count": 66
        }
      ]
    },
    {
      "cell_type": "markdown",
      "metadata": {
        "collapsed": true,
        "id": "GZs2zYDcR0nG"
      },
      "source": [
        "Let's take a look at the data and plot out the petal length and width of the irises:"
      ]
    },
    {
      "cell_type": "code",
      "metadata": {
        "id": "5VCvE7HHR0nG",
        "colab": {
          "base_uri": "https://localhost:8080/",
          "height": 634
        },
        "outputId": "2e86f215-30ab-4e34-ca7d-7fb3915d131b"
      },
      "source": [
        "import bokeh.plotting as bpl\n",
        "import bokeh.models as bmo\n",
        "from bokeh.palettes import d3\n",
        "bpl.output_notebook()\n",
        "source = bpl.ColumnDataSource(iris)\n",
        "\n",
        "# use whatever palette you want...\n",
        "palette = d3['Category10'][len(iris['Class'].unique())]\n",
        "color_map = bmo.CategoricalColorMapper(factors=iris['Class'].unique(),\n",
        "                                   palette=palette)\n",
        "\n",
        "# create figure and plot\n",
        "p = bpl.figure(title=\"The Petal Length and Width of Different Iris Classes\", x_axis_label=\"Petal Length\", y_axis_label=\"Petal Width\")\n",
        "p.scatter(x='Petal Length', y='Petal Width',\n",
        "          color={'field': 'Class', 'transform': color_map},\n",
        "          legend='Class', source=source)\n",
        "bpl.show(p)\n"
      ],
      "execution_count": 22,
      "outputs": [
        {
          "output_type": "stream",
          "text": [
            "BokehDeprecationWarning: 'legend' keyword is deprecated, use explicit 'legend_label', 'legend_field', or 'legend_group' keywords instead\n"
          ],
          "name": "stderr"
        },
        {
          "output_type": "display_data",
          "data": {
            "application/javascript": [
              "\n",
              "(function(root) {\n",
              "  function now() {\n",
              "    return new Date();\n",
              "  }\n",
              "\n",
              "  var force = true;\n",
              "\n",
              "  if (typeof root._bokeh_onload_callbacks === \"undefined\" || force === true) {\n",
              "    root._bokeh_onload_callbacks = [];\n",
              "    root._bokeh_is_loading = undefined;\n",
              "  }\n",
              "\n",
              "  var JS_MIME_TYPE = 'application/javascript';\n",
              "  var HTML_MIME_TYPE = 'text/html';\n",
              "  var EXEC_MIME_TYPE = 'application/vnd.bokehjs_exec.v0+json';\n",
              "  var CLASS_NAME = 'output_bokeh rendered_html';\n",
              "\n",
              "  /**\n",
              "   * Render data to the DOM node\n",
              "   */\n",
              "  function render(props, node) {\n",
              "    var script = document.createElement(\"script\");\n",
              "    node.appendChild(script);\n",
              "  }\n",
              "\n",
              "  /**\n",
              "   * Handle when an output is cleared or removed\n",
              "   */\n",
              "  function handleClearOutput(event, handle) {\n",
              "    var cell = handle.cell;\n",
              "\n",
              "    var id = cell.output_area._bokeh_element_id;\n",
              "    var server_id = cell.output_area._bokeh_server_id;\n",
              "    // Clean up Bokeh references\n",
              "    if (id != null && id in Bokeh.index) {\n",
              "      Bokeh.index[id].model.document.clear();\n",
              "      delete Bokeh.index[id];\n",
              "    }\n",
              "\n",
              "    if (server_id !== undefined) {\n",
              "      // Clean up Bokeh references\n",
              "      var cmd = \"from bokeh.io.state import curstate; print(curstate().uuid_to_server['\" + server_id + \"'].get_sessions()[0].document.roots[0]._id)\";\n",
              "      cell.notebook.kernel.execute(cmd, {\n",
              "        iopub: {\n",
              "          output: function(msg) {\n",
              "            var id = msg.content.text.trim();\n",
              "            if (id in Bokeh.index) {\n",
              "              Bokeh.index[id].model.document.clear();\n",
              "              delete Bokeh.index[id];\n",
              "            }\n",
              "          }\n",
              "        }\n",
              "      });\n",
              "      // Destroy server and session\n",
              "      var cmd = \"import bokeh.io.notebook as ion; ion.destroy_server('\" + server_id + \"')\";\n",
              "      cell.notebook.kernel.execute(cmd);\n",
              "    }\n",
              "  }\n",
              "\n",
              "  /**\n",
              "   * Handle when a new output is added\n",
              "   */\n",
              "  function handleAddOutput(event, handle) {\n",
              "    var output_area = handle.output_area;\n",
              "    var output = handle.output;\n",
              "\n",
              "    // limit handleAddOutput to display_data with EXEC_MIME_TYPE content only\n",
              "    if ((output.output_type != \"display_data\") || (!Object.prototype.hasOwnProperty.call(output.data, EXEC_MIME_TYPE))) {\n",
              "      return\n",
              "    }\n",
              "\n",
              "    var toinsert = output_area.element.find(\".\" + CLASS_NAME.split(' ')[0]);\n",
              "\n",
              "    if (output.metadata[EXEC_MIME_TYPE][\"id\"] !== undefined) {\n",
              "      toinsert[toinsert.length - 1].firstChild.textContent = output.data[JS_MIME_TYPE];\n",
              "      // store reference to embed id on output_area\n",
              "      output_area._bokeh_element_id = output.metadata[EXEC_MIME_TYPE][\"id\"];\n",
              "    }\n",
              "    if (output.metadata[EXEC_MIME_TYPE][\"server_id\"] !== undefined) {\n",
              "      var bk_div = document.createElement(\"div\");\n",
              "      bk_div.innerHTML = output.data[HTML_MIME_TYPE];\n",
              "      var script_attrs = bk_div.children[0].attributes;\n",
              "      for (var i = 0; i < script_attrs.length; i++) {\n",
              "        toinsert[toinsert.length - 1].firstChild.setAttribute(script_attrs[i].name, script_attrs[i].value);\n",
              "        toinsert[toinsert.length - 1].firstChild.textContent = bk_div.children[0].textContent\n",
              "      }\n",
              "      // store reference to server id on output_area\n",
              "      output_area._bokeh_server_id = output.metadata[EXEC_MIME_TYPE][\"server_id\"];\n",
              "    }\n",
              "  }\n",
              "\n",
              "  function register_renderer(events, OutputArea) {\n",
              "\n",
              "    function append_mime(data, metadata, element) {\n",
              "      // create a DOM node to render to\n",
              "      var toinsert = this.create_output_subarea(\n",
              "        metadata,\n",
              "        CLASS_NAME,\n",
              "        EXEC_MIME_TYPE\n",
              "      );\n",
              "      this.keyboard_manager.register_events(toinsert);\n",
              "      // Render to node\n",
              "      var props = {data: data, metadata: metadata[EXEC_MIME_TYPE]};\n",
              "      render(props, toinsert[toinsert.length - 1]);\n",
              "      element.append(toinsert);\n",
              "      return toinsert\n",
              "    }\n",
              "\n",
              "    /* Handle when an output is cleared or removed */\n",
              "    events.on('clear_output.CodeCell', handleClearOutput);\n",
              "    events.on('delete.Cell', handleClearOutput);\n",
              "\n",
              "    /* Handle when a new output is added */\n",
              "    events.on('output_added.OutputArea', handleAddOutput);\n",
              "\n",
              "    /**\n",
              "     * Register the mime type and append_mime function with output_area\n",
              "     */\n",
              "    OutputArea.prototype.register_mime_type(EXEC_MIME_TYPE, append_mime, {\n",
              "      /* Is output safe? */\n",
              "      safe: true,\n",
              "      /* Index of renderer in `output_area.display_order` */\n",
              "      index: 0\n",
              "    });\n",
              "  }\n",
              "\n",
              "  // register the mime type if in Jupyter Notebook environment and previously unregistered\n",
              "  if (root.Jupyter !== undefined) {\n",
              "    var events = require('base/js/events');\n",
              "    var OutputArea = require('notebook/js/outputarea').OutputArea;\n",
              "\n",
              "    if (OutputArea.prototype.mime_types().indexOf(EXEC_MIME_TYPE) == -1) {\n",
              "      register_renderer(events, OutputArea);\n",
              "    }\n",
              "  }\n",
              "\n",
              "  \n",
              "  if (typeof (root._bokeh_timeout) === \"undefined\" || force === true) {\n",
              "    root._bokeh_timeout = Date.now() + 5000;\n",
              "    root._bokeh_failed_load = false;\n",
              "  }\n",
              "\n",
              "  var NB_LOAD_WARNING = {'data': {'text/html':\n",
              "     \"<div style='background-color: #fdd'>\\n\"+\n",
              "     \"<p>\\n\"+\n",
              "     \"BokehJS does not appear to have successfully loaded. If loading BokehJS from CDN, this \\n\"+\n",
              "     \"may be due to a slow or bad network connection. Possible fixes:\\n\"+\n",
              "     \"</p>\\n\"+\n",
              "     \"<ul>\\n\"+\n",
              "     \"<li>re-rerun `output_notebook()` to attempt to load from CDN again, or</li>\\n\"+\n",
              "     \"<li>use INLINE resources instead, as so:</li>\\n\"+\n",
              "     \"</ul>\\n\"+\n",
              "     \"<code>\\n\"+\n",
              "     \"from bokeh.resources import INLINE\\n\"+\n",
              "     \"output_notebook(resources=INLINE)\\n\"+\n",
              "     \"</code>\\n\"+\n",
              "     \"</div>\"}};\n",
              "\n",
              "  function display_loaded() {\n",
              "    var el = document.getElementById(null);\n",
              "    if (el != null) {\n",
              "      el.textContent = \"BokehJS is loading...\";\n",
              "    }\n",
              "    if (root.Bokeh !== undefined) {\n",
              "      if (el != null) {\n",
              "        el.textContent = \"BokehJS \" + root.Bokeh.version + \" successfully loaded.\";\n",
              "      }\n",
              "    } else if (Date.now() < root._bokeh_timeout) {\n",
              "      setTimeout(display_loaded, 100)\n",
              "    }\n",
              "  }\n",
              "\n",
              "\n",
              "  function run_callbacks() {\n",
              "    try {\n",
              "      root._bokeh_onload_callbacks.forEach(function(callback) {\n",
              "        if (callback != null)\n",
              "          callback();\n",
              "      });\n",
              "    } finally {\n",
              "      delete root._bokeh_onload_callbacks\n",
              "    }\n",
              "    console.debug(\"Bokeh: all callbacks have finished\");\n",
              "  }\n",
              "\n",
              "  function load_libs(css_urls, js_urls, callback) {\n",
              "    if (css_urls == null) css_urls = [];\n",
              "    if (js_urls == null) js_urls = [];\n",
              "\n",
              "    root._bokeh_onload_callbacks.push(callback);\n",
              "    if (root._bokeh_is_loading > 0) {\n",
              "      console.debug(\"Bokeh: BokehJS is being loaded, scheduling callback at\", now());\n",
              "      return null;\n",
              "    }\n",
              "    if (js_urls == null || js_urls.length === 0) {\n",
              "      run_callbacks();\n",
              "      return null;\n",
              "    }\n",
              "    console.debug(\"Bokeh: BokehJS not loaded, scheduling load and callback at\", now());\n",
              "    root._bokeh_is_loading = css_urls.length + js_urls.length;\n",
              "\n",
              "    function on_load() {\n",
              "      root._bokeh_is_loading--;\n",
              "      if (root._bokeh_is_loading === 0) {\n",
              "        console.debug(\"Bokeh: all BokehJS libraries/stylesheets loaded\");\n",
              "        run_callbacks()\n",
              "      }\n",
              "    }\n",
              "\n",
              "    function on_error(url) {\n",
              "      console.error(\"failed to load \" + url);\n",
              "    }\n",
              "\n",
              "    for (let i = 0; i < css_urls.length; i++) {\n",
              "      const url = css_urls[i];\n",
              "      const element = document.createElement(\"link\");\n",
              "      element.onload = on_load;\n",
              "      element.onerror = on_error.bind(null, url);\n",
              "      element.rel = \"stylesheet\";\n",
              "      element.type = \"text/css\";\n",
              "      element.href = url;\n",
              "      console.debug(\"Bokeh: injecting link tag for BokehJS stylesheet: \", url);\n",
              "      document.body.appendChild(element);\n",
              "    }\n",
              "\n",
              "    const hashes = {\"https://cdn.bokeh.org/bokeh/release/bokeh-2.3.1.min.js\": \"YF85VygJKMVnHE+lLv2AM93Vbstr0yo2TbIu5v8se5Rq3UQAUmcuh4aaJwNlpKwa\", \"https://cdn.bokeh.org/bokeh/release/bokeh-widgets-2.3.1.min.js\": \"KKuas3gevv3PvrlkyCMzffFeaMq5we/a2QsP5AUoS3mJ0jmaCL7jirFJN3GoE/lM\", \"https://cdn.bokeh.org/bokeh/release/bokeh-tables-2.3.1.min.js\": \"MK/uFc3YT18pkvvXRl66tTHjP0/dxoSH2e/eiNMFIguKlun2+WVqaPTWmUy/zvh4\"};\n",
              "\n",
              "    for (let i = 0; i < js_urls.length; i++) {\n",
              "      const url = js_urls[i];\n",
              "      const element = document.createElement('script');\n",
              "      element.onload = on_load;\n",
              "      element.onerror = on_error.bind(null, url);\n",
              "      element.async = false;\n",
              "      element.src = url;\n",
              "      if (url in hashes) {\n",
              "        element.crossOrigin = \"anonymous\";\n",
              "        element.integrity = \"sha384-\" + hashes[url];\n",
              "      }\n",
              "      console.debug(\"Bokeh: injecting script tag for BokehJS library: \", url);\n",
              "      document.head.appendChild(element);\n",
              "    }\n",
              "  };\n",
              "\n",
              "  function inject_raw_css(css) {\n",
              "    const element = document.createElement(\"style\");\n",
              "    element.appendChild(document.createTextNode(css));\n",
              "    document.body.appendChild(element);\n",
              "  }\n",
              "\n",
              "  \n",
              "  var js_urls = [\"https://cdn.bokeh.org/bokeh/release/bokeh-2.3.1.min.js\", \"https://cdn.bokeh.org/bokeh/release/bokeh-widgets-2.3.1.min.js\", \"https://cdn.bokeh.org/bokeh/release/bokeh-tables-2.3.1.min.js\"];\n",
              "  var css_urls = [];\n",
              "  \n",
              "\n",
              "  var inline_js = [\n",
              "    function(Bokeh) {\n",
              "      Bokeh.set_log_level(\"info\");\n",
              "    },\n",
              "    function(Bokeh) {\n",
              "    \n",
              "    \n",
              "    }\n",
              "  ];\n",
              "\n",
              "  function run_inline_js() {\n",
              "    \n",
              "    if (root.Bokeh !== undefined || force === true) {\n",
              "      \n",
              "    for (var i = 0; i < inline_js.length; i++) {\n",
              "      inline_js[i].call(root, root.Bokeh);\n",
              "    }\n",
              "    } else if (Date.now() < root._bokeh_timeout) {\n",
              "      setTimeout(run_inline_js, 100);\n",
              "    } else if (!root._bokeh_failed_load) {\n",
              "      console.log(\"Bokeh: BokehJS failed to load within specified timeout.\");\n",
              "      root._bokeh_failed_load = true;\n",
              "    } else if (force !== true) {\n",
              "      var cell = $(document.getElementById(null)).parents('.cell').data().cell;\n",
              "      cell.output_area.append_execute_result(NB_LOAD_WARNING)\n",
              "    }\n",
              "\n",
              "  }\n",
              "\n",
              "  if (root._bokeh_is_loading === 0) {\n",
              "    console.debug(\"Bokeh: BokehJS loaded, going straight to plotting\");\n",
              "    run_inline_js();\n",
              "  } else {\n",
              "    load_libs(css_urls, js_urls, function() {\n",
              "      console.debug(\"Bokeh: BokehJS plotting callback run at\", now());\n",
              "      run_inline_js();\n",
              "    });\n",
              "  }\n",
              "}(window));"
            ],
            "application/vnd.bokehjs_load.v0+json": "\n(function(root) {\n  function now() {\n    return new Date();\n  }\n\n  var force = true;\n\n  if (typeof root._bokeh_onload_callbacks === \"undefined\" || force === true) {\n    root._bokeh_onload_callbacks = [];\n    root._bokeh_is_loading = undefined;\n  }\n\n  \n\n  \n  if (typeof (root._bokeh_timeout) === \"undefined\" || force === true) {\n    root._bokeh_timeout = Date.now() + 5000;\n    root._bokeh_failed_load = false;\n  }\n\n  var NB_LOAD_WARNING = {'data': {'text/html':\n     \"<div style='background-color: #fdd'>\\n\"+\n     \"<p>\\n\"+\n     \"BokehJS does not appear to have successfully loaded. If loading BokehJS from CDN, this \\n\"+\n     \"may be due to a slow or bad network connection. Possible fixes:\\n\"+\n     \"</p>\\n\"+\n     \"<ul>\\n\"+\n     \"<li>re-rerun `output_notebook()` to attempt to load from CDN again, or</li>\\n\"+\n     \"<li>use INLINE resources instead, as so:</li>\\n\"+\n     \"</ul>\\n\"+\n     \"<code>\\n\"+\n     \"from bokeh.resources import INLINE\\n\"+\n     \"output_notebook(resources=INLINE)\\n\"+\n     \"</code>\\n\"+\n     \"</div>\"}};\n\n  function display_loaded() {\n    var el = document.getElementById(null);\n    if (el != null) {\n      el.textContent = \"BokehJS is loading...\";\n    }\n    if (root.Bokeh !== undefined) {\n      if (el != null) {\n        el.textContent = \"BokehJS \" + root.Bokeh.version + \" successfully loaded.\";\n      }\n    } else if (Date.now() < root._bokeh_timeout) {\n      setTimeout(display_loaded, 100)\n    }\n  }\n\n\n  function run_callbacks() {\n    try {\n      root._bokeh_onload_callbacks.forEach(function(callback) {\n        if (callback != null)\n          callback();\n      });\n    } finally {\n      delete root._bokeh_onload_callbacks\n    }\n    console.debug(\"Bokeh: all callbacks have finished\");\n  }\n\n  function load_libs(css_urls, js_urls, callback) {\n    if (css_urls == null) css_urls = [];\n    if (js_urls == null) js_urls = [];\n\n    root._bokeh_onload_callbacks.push(callback);\n    if (root._bokeh_is_loading > 0) {\n      console.debug(\"Bokeh: BokehJS is being loaded, scheduling callback at\", now());\n      return null;\n    }\n    if (js_urls == null || js_urls.length === 0) {\n      run_callbacks();\n      return null;\n    }\n    console.debug(\"Bokeh: BokehJS not loaded, scheduling load and callback at\", now());\n    root._bokeh_is_loading = css_urls.length + js_urls.length;\n\n    function on_load() {\n      root._bokeh_is_loading--;\n      if (root._bokeh_is_loading === 0) {\n        console.debug(\"Bokeh: all BokehJS libraries/stylesheets loaded\");\n        run_callbacks()\n      }\n    }\n\n    function on_error(url) {\n      console.error(\"failed to load \" + url);\n    }\n\n    for (let i = 0; i < css_urls.length; i++) {\n      const url = css_urls[i];\n      const element = document.createElement(\"link\");\n      element.onload = on_load;\n      element.onerror = on_error.bind(null, url);\n      element.rel = \"stylesheet\";\n      element.type = \"text/css\";\n      element.href = url;\n      console.debug(\"Bokeh: injecting link tag for BokehJS stylesheet: \", url);\n      document.body.appendChild(element);\n    }\n\n    const hashes = {\"https://cdn.bokeh.org/bokeh/release/bokeh-2.3.1.min.js\": \"YF85VygJKMVnHE+lLv2AM93Vbstr0yo2TbIu5v8se5Rq3UQAUmcuh4aaJwNlpKwa\", \"https://cdn.bokeh.org/bokeh/release/bokeh-widgets-2.3.1.min.js\": \"KKuas3gevv3PvrlkyCMzffFeaMq5we/a2QsP5AUoS3mJ0jmaCL7jirFJN3GoE/lM\", \"https://cdn.bokeh.org/bokeh/release/bokeh-tables-2.3.1.min.js\": \"MK/uFc3YT18pkvvXRl66tTHjP0/dxoSH2e/eiNMFIguKlun2+WVqaPTWmUy/zvh4\"};\n\n    for (let i = 0; i < js_urls.length; i++) {\n      const url = js_urls[i];\n      const element = document.createElement('script');\n      element.onload = on_load;\n      element.onerror = on_error.bind(null, url);\n      element.async = false;\n      element.src = url;\n      if (url in hashes) {\n        element.crossOrigin = \"anonymous\";\n        element.integrity = \"sha384-\" + hashes[url];\n      }\n      console.debug(\"Bokeh: injecting script tag for BokehJS library: \", url);\n      document.head.appendChild(element);\n    }\n  };\n\n  function inject_raw_css(css) {\n    const element = document.createElement(\"style\");\n    element.appendChild(document.createTextNode(css));\n    document.body.appendChild(element);\n  }\n\n  \n  var js_urls = [\"https://cdn.bokeh.org/bokeh/release/bokeh-2.3.1.min.js\", \"https://cdn.bokeh.org/bokeh/release/bokeh-widgets-2.3.1.min.js\", \"https://cdn.bokeh.org/bokeh/release/bokeh-tables-2.3.1.min.js\"];\n  var css_urls = [];\n  \n\n  var inline_js = [\n    function(Bokeh) {\n      Bokeh.set_log_level(\"info\");\n    },\n    function(Bokeh) {\n    \n    \n    }\n  ];\n\n  function run_inline_js() {\n    \n    if (root.Bokeh !== undefined || force === true) {\n      \n    for (var i = 0; i < inline_js.length; i++) {\n      inline_js[i].call(root, root.Bokeh);\n    }\n    } else if (Date.now() < root._bokeh_timeout) {\n      setTimeout(run_inline_js, 100);\n    } else if (!root._bokeh_failed_load) {\n      console.log(\"Bokeh: BokehJS failed to load within specified timeout.\");\n      root._bokeh_failed_load = true;\n    } else if (force !== true) {\n      var cell = $(document.getElementById(null)).parents('.cell').data().cell;\n      cell.output_area.append_execute_result(NB_LOAD_WARNING)\n    }\n\n  }\n\n  if (root._bokeh_is_loading === 0) {\n    console.debug(\"Bokeh: BokehJS loaded, going straight to plotting\");\n    run_inline_js();\n  } else {\n    load_libs(css_urls, js_urls, function() {\n      console.debug(\"Bokeh: BokehJS plotting callback run at\", now());\n      run_inline_js();\n    });\n  }\n}(window));"
          },
          "metadata": {
            "tags": []
          }
        },
        {
          "output_type": "display_data",
          "data": {
            "text/html": [
              "\n",
              "\n",
              "\n",
              "\n",
              "\n",
              "\n",
              "  <div class=\"bk-root\" id=\"6e152f77-b015-43be-a197-c10a716a299f\" data-root-id=\"1004\"></div>\n"
            ]
          },
          "metadata": {
            "tags": []
          }
        },
        {
          "output_type": "display_data",
          "data": {
            "application/javascript": [
              "(function(root) {\n",
              "  function embed_document(root) {\n",
              "    \n",
              "  var docs_json = {\"e3304af3-d699-4d68-b209-4def674d39a7\":{\"defs\":[],\"roots\":{\"references\":[{\"attributes\":{\"below\":[{\"id\":\"1015\"}],\"center\":[{\"id\":\"1018\"},{\"id\":\"1022\"},{\"id\":\"1052\"}],\"left\":[{\"id\":\"1019\"}],\"renderers\":[{\"id\":\"1040\"}],\"title\":{\"id\":\"1005\"},\"toolbar\":{\"id\":\"1030\"},\"x_range\":{\"id\":\"1007\"},\"x_scale\":{\"id\":\"1011\"},\"y_range\":{\"id\":\"1009\"},\"y_scale\":{\"id\":\"1013\"}},\"id\":\"1004\",\"subtype\":\"Figure\",\"type\":\"Plot\"},{\"attributes\":{\"axis_label\":\"Petal Length\",\"formatter\":{\"id\":\"1045\"},\"major_label_policy\":{\"id\":\"1044\"},\"ticker\":{\"id\":\"1016\"}},\"id\":\"1015\",\"type\":\"LinearAxis\"},{\"attributes\":{\"axis_label\":\"Petal Width\",\"formatter\":{\"id\":\"1048\"},\"major_label_policy\":{\"id\":\"1047\"},\"ticker\":{\"id\":\"1020\"}},\"id\":\"1019\",\"type\":\"LinearAxis\"},{\"attributes\":{\"source\":{\"id\":\"1002\"}},\"id\":\"1041\",\"type\":\"CDSView\"},{\"attributes\":{\"active_multi\":null,\"tools\":[{\"id\":\"1023\"},{\"id\":\"1024\"},{\"id\":\"1025\"},{\"id\":\"1026\"},{\"id\":\"1027\"},{\"id\":\"1028\"}]},\"id\":\"1030\",\"type\":\"Toolbar\"},{\"attributes\":{\"fill_alpha\":{\"value\":0.1},\"fill_color\":{\"field\":\"Class\",\"transform\":{\"id\":\"1003\"}},\"line_alpha\":{\"value\":0.1},\"line_color\":{\"field\":\"Class\",\"transform\":{\"id\":\"1003\"}},\"x\":{\"field\":\"Petal Length\"},\"y\":{\"field\":\"Petal Width\"}},\"id\":\"1039\",\"type\":\"Scatter\"},{\"attributes\":{\"bottom_units\":\"screen\",\"fill_alpha\":0.5,\"fill_color\":\"lightgrey\",\"left_units\":\"screen\",\"level\":\"overlay\",\"line_alpha\":1.0,\"line_color\":\"black\",\"line_dash\":[4,4],\"line_width\":2,\"right_units\":\"screen\",\"syncable\":false,\"top_units\":\"screen\"},\"id\":\"1029\",\"type\":\"BoxAnnotation\"},{\"attributes\":{},\"id\":\"1024\",\"type\":\"WheelZoomTool\"},{\"attributes\":{},\"id\":\"1023\",\"type\":\"PanTool\"},{\"attributes\":{},\"id\":\"1013\",\"type\":\"LinearScale\"},{\"attributes\":{\"overlay\":{\"id\":\"1029\"}},\"id\":\"1025\",\"type\":\"BoxZoomTool\"},{\"attributes\":{},\"id\":\"1026\",\"type\":\"SaveTool\"},{\"attributes\":{},\"id\":\"1044\",\"type\":\"AllLabels\"},{\"attributes\":{},\"id\":\"1027\",\"type\":\"ResetTool\"},{\"attributes\":{},\"id\":\"1045\",\"type\":\"BasicTickFormatter\"},{\"attributes\":{},\"id\":\"1047\",\"type\":\"AllLabels\"},{\"attributes\":{},\"id\":\"1007\",\"type\":\"DataRange1d\"},{\"attributes\":{},\"id\":\"1028\",\"type\":\"HelpTool\"},{\"attributes\":{},\"id\":\"1049\",\"type\":\"UnionRenderers\"},{\"attributes\":{},\"id\":\"1048\",\"type\":\"BasicTickFormatter\"},{\"attributes\":{\"label\":{\"field\":\"Class\"},\"renderers\":[{\"id\":\"1040\"}]},\"id\":\"1053\",\"type\":\"LegendItem\"},{\"attributes\":{},\"id\":\"1050\",\"type\":\"Selection\"},{\"attributes\":{\"text\":\"The Petal Length and Width of Different Iris Classes\"},\"id\":\"1005\",\"type\":\"Title\"},{\"attributes\":{},\"id\":\"1009\",\"type\":\"DataRange1d\"},{\"attributes\":{\"fill_color\":{\"field\":\"Class\",\"transform\":{\"id\":\"1003\"}},\"line_color\":{\"field\":\"Class\",\"transform\":{\"id\":\"1003\"}},\"x\":{\"field\":\"Petal Length\"},\"y\":{\"field\":\"Petal Width\"}},\"id\":\"1038\",\"type\":\"Scatter\"},{\"attributes\":{\"items\":[{\"id\":\"1053\"}]},\"id\":\"1052\",\"type\":\"Legend\"},{\"attributes\":{},\"id\":\"1011\",\"type\":\"LinearScale\"},{\"attributes\":{},\"id\":\"1016\",\"type\":\"BasicTicker\"},{\"attributes\":{\"axis\":{\"id\":\"1015\"},\"ticker\":null},\"id\":\"1018\",\"type\":\"Grid\"},{\"attributes\":{\"factors\":[\"Iris-setosa\",\"Iris-versicolor\",\"Iris-virginica\"],\"palette\":[\"#1f77b4\",\"#ff7f0e\",\"#2ca02c\"]},\"id\":\"1003\",\"type\":\"CategoricalColorMapper\"},{\"attributes\":{\"data\":{\"Class\":[\"Iris-setosa\",\"Iris-setosa\",\"Iris-setosa\",\"Iris-setosa\",\"Iris-setosa\",\"Iris-setosa\",\"Iris-setosa\",\"Iris-setosa\",\"Iris-setosa\",\"Iris-setosa\",\"Iris-setosa\",\"Iris-setosa\",\"Iris-setosa\",\"Iris-setosa\",\"Iris-setosa\",\"Iris-setosa\",\"Iris-setosa\",\"Iris-setosa\",\"Iris-setosa\",\"Iris-setosa\",\"Iris-setosa\",\"Iris-setosa\",\"Iris-setosa\",\"Iris-setosa\",\"Iris-setosa\",\"Iris-setosa\",\"Iris-setosa\",\"Iris-setosa\",\"Iris-setosa\",\"Iris-setosa\",\"Iris-setosa\",\"Iris-setosa\",\"Iris-setosa\",\"Iris-setosa\",\"Iris-setosa\",\"Iris-setosa\",\"Iris-setosa\",\"Iris-setosa\",\"Iris-setosa\",\"Iris-setosa\",\"Iris-versicolor\",\"Iris-versicolor\",\"Iris-versicolor\",\"Iris-versicolor\",\"Iris-versicolor\",\"Iris-versicolor\",\"Iris-versicolor\",\"Iris-versicolor\",\"Iris-versicolor\",\"Iris-versicolor\",\"Iris-versicolor\",\"Iris-versicolor\",\"Iris-versicolor\",\"Iris-versicolor\",\"Iris-versicolor\",\"Iris-versicolor\",\"Iris-versicolor\",\"Iris-versicolor\",\"Iris-versicolor\",\"Iris-versicolor\",\"Iris-versicolor\",\"Iris-versicolor\",\"Iris-versicolor\",\"Iris-versicolor\",\"Iris-versicolor\",\"Iris-versicolor\",\"Iris-versicolor\",\"Iris-versicolor\",\"Iris-versicolor\",\"Iris-versicolor\",\"Iris-versicolor\",\"Iris-versicolor\",\"Iris-versicolor\",\"Iris-versicolor\",\"Iris-versicolor\",\"Iris-versicolor\",\"Iris-versicolor\",\"Iris-versicolor\",\"Iris-versicolor\",\"Iris-versicolor\",\"Iris-virginica\",\"Iris-virginica\",\"Iris-virginica\",\"Iris-virginica\",\"Iris-virginica\",\"Iris-virginica\",\"Iris-virginica\",\"Iris-virginica\",\"Iris-virginica\",\"Iris-virginica\",\"Iris-virginica\",\"Iris-virginica\",\"Iris-virginica\",\"Iris-virginica\",\"Iris-virginica\",\"Iris-virginica\",\"Iris-virginica\",\"Iris-virginica\",\"Iris-virginica\",\"Iris-virginica\",\"Iris-virginica\",\"Iris-virginica\",\"Iris-virginica\",\"Iris-virginica\",\"Iris-virginica\",\"Iris-virginica\",\"Iris-virginica\",\"Iris-virginica\",\"Iris-virginica\",\"Iris-virginica\",\"Iris-virginica\",\"Iris-virginica\",\"Iris-virginica\",\"Iris-virginica\",\"Iris-virginica\",\"Iris-virginica\",\"Iris-virginica\",\"Iris-virginica\",\"Iris-virginica\",\"Iris-virginica\"],\"Petal Length\":{\"__ndarray__\":\"AAAAAAAA+D+amZmZmZn5P2ZmZmZmZvY/mpmZmZmZ8T8zMzMzMzPzPwAAAAAAAPg/zczMzMzM9D9mZmZmZmb2PzMzMzMzM/s/AAAAAAAA+D8zMzMzMzP7PwAAAAAAAPg/AAAAAAAA8D8zMzMzMzP7P2ZmZmZmZv4/mpmZmZmZ+T+amZmZmZn5PwAAAAAAAPg/ZmZmZmZm9j+amZmZmZn5P5qZmZmZmfk/AAAAAAAA+D8AAAAAAAD4P2ZmZmZmZvY/AAAAAAAA+D8zMzMzMzPzP83MzMzMzPQ/AAAAAAAA+D/NzMzMzMz0PwAAAAAAAPg/zczMzMzM9D/NzMzMzMz0P83MzMzMzPQ/mpmZmZmZ+T9mZmZmZmb+P2ZmZmZmZvY/mpmZmZmZ+T9mZmZmZmb2PwAAAAAAAPg/ZmZmZmZm9j8AAAAAAAAMQM3MzMzMzBBAAAAAAAAAEEDNzMzMzMwSQM3MzMzMzAxAmpmZmZmZEUAAAAAAAAASQGZmZmZmZhBAAAAAAAAAEkAzMzMzMzMPQDMzMzMzMxNAAAAAAAAAEECamZmZmZkTQM3MzMzMzBJAMzMzMzMzEUCamZmZmZkRQDMzMzMzMxNAAAAAAAAAFEAAAAAAAAASQAAAAAAAAAxAZmZmZmZmDkCamZmZmZkNQDMzMzMzMw9AZmZmZmZmFEAAAAAAAAASQAAAAAAAABJAzczMzMzMEkCamZmZmZkRQGZmZmZmZhBAAAAAAAAAEECamZmZmZkRQGZmZmZmZhJAAAAAAAAAEEBmZmZmZmYKQM3MzMzMzBBAzczMzMzMEEDNzMzMzMwQQDMzMzMzMxFAAAAAAAAACEBmZmZmZmYQQGZmZmZmZhRAMzMzMzMzFUAAAAAAAAAWQAAAAAAAABRAZmZmZmZmFEAzMzMzMzMVQAAAAAAAABZAzczMzMzMGkCamZmZmZkbQAAAAAAAABRAzczMzMzMFkCamZmZmZkTQM3MzMzMzBpAmpmZmZmZE0DNzMzMzMwWQAAAAAAAABhAMzMzMzMzE0CamZmZmZkTQGZmZmZmZhZAMzMzMzMzF0BmZmZmZmYYQJqZmZmZmRlAZmZmZmZmFkBmZmZmZmYUQGZmZmZmZhZAZmZmZmZmGEBmZmZmZmYWQAAAAAAAABZAMzMzMzMzE0CamZmZmZkVQGZmZmZmZhZAZmZmZmZmFEBmZmZmZmYUQJqZmZmZmRdAzczMzMzMFkDNzMzMzMwUQAAAAAAAABRAzczMzMzMFECamZmZmZkVQGZmZmZmZhRA\",\"dtype\":\"float64\",\"order\":\"little\",\"shape\":[120]},\"Petal Width\":{\"__ndarray__\":\"mpmZmZmZyT+amZmZmZnJP5qZmZmZmbk/mpmZmZmZuT+amZmZmZnJP5qZmZmZmdk/mpmZmZmZ2T8zMzMzMzPTPzMzMzMzM9M/MzMzMzMz0z+amZmZmZnJP5qZmZmZmdk/mpmZmZmZyT8AAAAAAADgP5qZmZmZmck/mpmZmZmZyT+amZmZmZnZP5qZmZmZmck/mpmZmZmZyT+amZmZmZnJP5qZmZmZmck/mpmZmZmZ2T+amZmZmZm5P5qZmZmZmck/mpmZmZmZuT+amZmZmZnJP5qZmZmZmck/mpmZmZmZuT+amZmZmZnJP5qZmZmZmck/MzMzMzMz0z8zMzMzMzPTP5qZmZmZmck/MzMzMzMz4z+amZmZmZnZPzMzMzMzM9M/mpmZmZmZyT+amZmZmZnJP5qZmZmZmck/mpmZmZmZyT8AAAAAAADwPwAAAAAAAPg/AAAAAAAA8D9mZmZmZmb2P83MzMzMzPQ/ZmZmZmZm9j8AAAAAAAD4PwAAAAAAAPA/AAAAAAAA+D+amZmZmZnxP83MzMzMzPw/zczMzMzM9D8AAAAAAAD4PzMzMzMzM/M/zczMzMzM9D9mZmZmZmb2P2ZmZmZmZvY/MzMzMzMz+z8AAAAAAAD4PwAAAAAAAPA/mpmZmZmZ8T8AAAAAAADwPzMzMzMzM/M/mpmZmZmZ+T8AAAAAAAD4P5qZmZmZmfk/AAAAAAAA+D/NzMzMzMz0P83MzMzMzPQ/zczMzMzM9D8zMzMzMzPzP2ZmZmZmZvY/MzMzMzMz8z8AAAAAAADwP83MzMzMzPQ/MzMzMzMz8z/NzMzMzMz0P83MzMzMzPQ/mpmZmZmZ8T/NzMzMzMz0PwAAAAAAAABAZmZmZmZm/j/NzMzMzMwAQAAAAAAAAABAMzMzMzMzA0BmZmZmZmYCQM3MzMzMzPw/mpmZmZmZAUBmZmZmZmYCQAAAAAAAAPg/ZmZmZmZmAkAAAAAAAAAAQAAAAAAAAABAzczMzMzM/D/NzMzMzMwAQM3MzMzMzPw/zczMzMzM/D/NzMzMzMz8P83MzMzMzABAmpmZmZmZ+T9mZmZmZmb+PwAAAAAAAABAmpmZmZmZAUAAAAAAAAD4P2ZmZmZmZvY/ZmZmZmZmAkAzMzMzMzMDQM3MzMzMzPw/zczMzMzM/D/NzMzMzMwAQDMzMzMzMwNAZmZmZmZmAkBmZmZmZmb+P2ZmZmZmZgJAAAAAAAAABEBmZmZmZmYCQGZmZmZmZv4/AAAAAAAAAEBmZmZmZmYCQM3MzMzMzPw/\",\"dtype\":\"float64\",\"order\":\"little\",\"shape\":[120]},\"Sepal Length\":{\"__ndarray__\":\"mpmZmZmZFUAzMzMzMzMTQDMzMzMzMxNAMzMzMzMzEUAzMzMzMzMXQM3MzMzMzBZAmpmZmZmZFUBmZmZmZmYUQM3MzMzMzBZAZmZmZmZmFECamZmZmZkVQGZmZmZmZhRAZmZmZmZmEkBmZmZmZmYUQDMzMzMzMxNAAAAAAAAAFEAAAAAAAAAUQM3MzMzMzBRAzczMzMzMFEDNzMzMzMwSQDMzMzMzMxNAmpmZmZmZFUDNzMzMzMwUQAAAAAAAABZAmpmZmZmZE0AAAAAAAAAUQAAAAAAAABZAmpmZmZmZE0CamZmZmZkRQGZmZmZmZhRAAAAAAAAAFEAAAAAAAAASQJqZmZmZmRFAAAAAAAAAFEBmZmZmZmYUQDMzMzMzMxNAZmZmZmZmFEBmZmZmZmYSQDMzMzMzMxVAAAAAAAAAFEAAAAAAAAAUQJqZmZmZmRdAAAAAAAAAGEBmZmZmZmYYQGZmZmZmZhZAzczMzMzMGkBmZmZmZmYWQDMzMzMzMxdAzczMzMzMGEBmZmZmZmYWQJqZmZmZmRdAZmZmZmZmGEAzMzMzMzMZQGZmZmZmZhhAmpmZmZmZGUBmZmZmZmYaQDMzMzMzMxtAzczMzMzMGkAAAAAAAAAYQM3MzMzMzBZAAAAAAAAAFkAAAAAAAAAWQDMzMzMzMxdAAAAAAAAAGECamZmZmZkVQAAAAAAAABhAzczMzMzMGkAzMzMzMzMZQGZmZmZmZhZAAAAAAAAAFkAAAAAAAAAWQGZmZmZmZhhAMzMzMzMzF0AAAAAAAAAUQGZmZmZmZhZAzczMzMzMFkDNzMzMzMwWQM3MzMzMzBhAZmZmZmZmFEDNzMzMzMwWQAAAAAAAABpAmpmZmZmZGUAzMzMzMzMbQM3MzMzMzBZAMzMzMzMzF0CamZmZmZkZQAAAAAAAABpAzczMzMzMHkDNzMzMzMweQAAAAAAAABhAmpmZmZmZG0BmZmZmZmYWQM3MzMzMzB5AMzMzMzMzGUDNzMzMzMwaQM3MzMzMzBxAzczMzMzMGEBmZmZmZmYYQJqZmZmZmRlAzczMzMzMHECamZmZmZkdQJqZmZmZmR9AmpmZmZmZGUAzMzMzMzMZQGZmZmZmZhhAzczMzMzMHkAzMzMzMzMZQJqZmZmZmRlAAAAAAAAAGECamZmZmZkbQM3MzMzMzBpAmpmZmZmZG0AzMzMzMzMXQDMzMzMzMxtAzczMzMzMGkDNzMzMzMwaQDMzMzMzMxlAAAAAAAAAGkDNzMzMzMwYQJqZmZmZmRdA\",\"dtype\":\"float64\",\"order\":\"little\",\"shape\":[120]},\"Sepal Width\":{\"__ndarray__\":\"mpmZmZmZDUAzMzMzMzMLQAAAAAAAAAhAAAAAAAAACEAAAAAAAAAQQJqZmZmZmRFAMzMzMzMzD0AAAAAAAAAMQGZmZmZmZg5AZmZmZmZmDkAzMzMzMzMLQJqZmZmZmQ1AzczMzMzMDEBmZmZmZmYKQDMzMzMzMwtAAAAAAAAACEAzMzMzMzMLQAAAAAAAAAxAMzMzMzMzC0CamZmZmZkJQM3MzMzMzAhAMzMzMzMzC0BmZmZmZmYQQM3MzMzMzBBAzczMzMzMCECamZmZmZkJQAAAAAAAAAxAzczMzMzMCEAAAAAAAAAIQDMzMzMzMwtAAAAAAAAADEBmZmZmZmYCQJqZmZmZmQlAAAAAAAAADEBmZmZmZmYOQAAAAAAAAAhAZmZmZmZmDkCamZmZmZkJQJqZmZmZmQ1AZmZmZmZmCkAAAAAAAAAAQAAAAAAAAAhAmpmZmZmZAUAzMzMzMzMHQDMzMzMzMwdAzczMzMzMCEAAAAAAAAAIQJqZmZmZmQVAmpmZmZmZAUAAAAAAAAAEQJqZmZmZmQlAZmZmZmZmBkAAAAAAAAAEQGZmZmZmZgZAMzMzMzMzB0AAAAAAAAAIQGZmZmZmZgZAAAAAAAAACEAzMzMzMzMHQM3MzMzMzARAMzMzMzMzA0AzMzMzMzMDQJqZmZmZmQVAmpmZmZmZBUAAAAAAAAAIQDMzMzMzMwtAzczMzMzMCEBmZmZmZmYCQAAAAAAAAAhAAAAAAAAABEDNzMzMzMwEQAAAAAAAAAhAzczMzMzMBEBmZmZmZmYCQJqZmZmZmQVAAAAAAAAACEAzMzMzMzMHQDMzMzMzMwdAAAAAAAAABEBmZmZmZmYGQJqZmZmZmQlAmpmZmZmZBUAAAAAAAAAIQAAAAAAAAARAZmZmZmZmBkCamZmZmZkJQAAAAAAAAAhAZmZmZmZmDkDNzMzMzMwEQJqZmZmZmQFAmpmZmZmZCUBmZmZmZmYGQGZmZmZmZgZAmpmZmZmZBUBmZmZmZmYKQJqZmZmZmQlAZmZmZmZmBkAAAAAAAAAIQGZmZmZmZgZAAAAAAAAACEBmZmZmZmYGQGZmZmZmZg5AZmZmZmZmBkBmZmZmZmYGQM3MzMzMzARAAAAAAAAACEAzMzMzMzMLQM3MzMzMzAhAAAAAAAAACEDNzMzMzMwIQM3MzMzMzAhAzczMzMzMCECamZmZmZkFQJqZmZmZmQlAZmZmZmZmCkAAAAAAAAAIQAAAAAAAAARAAAAAAAAACEAzMzMzMzMLQAAAAAAAAAhA\",\"dtype\":\"float64\",\"order\":\"little\",\"shape\":[120]},\"index\":[0,1,2,3,4,5,6,7,8,9,10,11,12,13,14,15,16,17,18,19,20,21,22,23,24,25,26,27,28,29,30,31,32,33,34,35,36,37,38,39,40,41,42,43,44,45,46,47,48,49,50,51,52,53,54,55,56,57,58,59,60,61,62,63,64,65,66,67,68,69,70,71,72,73,74,75,76,77,78,79,80,81,82,83,84,85,86,87,88,89,90,91,92,93,94,95,96,97,98,99,100,101,102,103,104,105,106,107,108,109,110,111,112,113,114,115,116,117,118,119]},\"selected\":{\"id\":\"1050\"},\"selection_policy\":{\"id\":\"1049\"}},\"id\":\"1002\",\"type\":\"ColumnDataSource\"},{\"attributes\":{},\"id\":\"1020\",\"type\":\"BasicTicker\"},{\"attributes\":{\"axis\":{\"id\":\"1019\"},\"dimension\":1,\"ticker\":null},\"id\":\"1022\",\"type\":\"Grid\"},{\"attributes\":{\"data_source\":{\"id\":\"1002\"},\"glyph\":{\"id\":\"1038\"},\"hover_glyph\":null,\"muted_glyph\":null,\"nonselection_glyph\":{\"id\":\"1039\"},\"view\":{\"id\":\"1041\"}},\"id\":\"1040\",\"type\":\"GlyphRenderer\"}],\"root_ids\":[\"1004\"]},\"title\":\"Bokeh Application\",\"version\":\"2.3.1\"}};\n",
              "  var render_items = [{\"docid\":\"e3304af3-d699-4d68-b209-4def674d39a7\",\"root_ids\":[\"1004\"],\"roots\":{\"1004\":\"6e152f77-b015-43be-a197-c10a716a299f\"}}];\n",
              "  root.Bokeh.embed.embed_items_notebook(docs_json, render_items);\n",
              "\n",
              "  }\n",
              "  if (root.Bokeh !== undefined) {\n",
              "    embed_document(root);\n",
              "  } else {\n",
              "    var attempts = 0;\n",
              "    var timer = setInterval(function(root) {\n",
              "      if (root.Bokeh !== undefined) {\n",
              "        clearInterval(timer);\n",
              "        embed_document(root);\n",
              "      } else {\n",
              "        attempts++;\n",
              "        if (attempts > 100) {\n",
              "          clearInterval(timer);\n",
              "          console.log(\"Bokeh: ERROR: Unable to run BokehJS code because BokehJS library is missing\");\n",
              "        }\n",
              "      }\n",
              "    }, 10, root)\n",
              "  }\n",
              "})(window);"
            ],
            "application/vnd.bokehjs_exec.v0+json": ""
          },
          "metadata": {
            "tags": [],
            "application/vnd.bokehjs_exec.v0+json": {
              "id": "1004"
            }
          }
        }
      ]
    },
    {
      "cell_type": "markdown",
      "metadata": {
        "collapsed": true,
        "id": "pu58f6y8R0nH"
      },
      "source": [
        "The data seems easy to classify since the classes are nicely separated!"
      ]
    },
    {
      "cell_type": "markdown",
      "metadata": {
        "collapsed": true,
        "id": "2VF8Cj_qR0nH"
      },
      "source": [
        "<h2 style=\"color:red\">Build a kNN classifier and use it to classify instances</h2>\n",
        "<span style=\"color:red\">The instances I would like you to classify are at:</span>.  \n",
        "\n",
        "     https://raw.githubusercontent.com/zacharski/ml-class/master/data/irisTest.csv\n",
        "    \n"
      ]
    },
    {
      "cell_type": "code",
      "metadata": {
        "id": "HTD9EAvgR0nH"
      },
      "source": [
        "from sklearn.model_selection import train_test_split\n",
        "iris = pd.read_csv(\"https://raw.githubusercontent.com/zacharski/ml-class/master/data/irisTest.csv\")\n",
        "iris_train, iris_test = train_test_split(iris, test_size=.2)\n",
        "fColumns = list(iris.columns)\n",
        "fColumns.remove('Class')\n",
        "iris_train_features = iris_train[fColumns]\n",
        "iris_test_features = iris_test[fColumns]\n",
        "iris_train_labels = iris_train['Class']\n",
        "iris_test_labels = iris_test['Class']\n"
      ],
      "execution_count": 80,
      "outputs": []
    },
    {
      "cell_type": "markdown",
      "metadata": {
        "id": "Ln2l_YMkR0nH"
      },
      "source": [
        "At this point you should have 4 DataFrames: the training features, the training classes or labels, the test features and the test labels.\n",
        "\n",
        "#### First, create a classifier using Euclidean distance and k=3"
      ]
    },
    {
      "cell_type": "code",
      "metadata": {
        "scrolled": true,
        "id": "p5UTu6w0R0nI",
        "colab": {
          "base_uri": "https://localhost:8080/"
        },
        "outputId": "fe5d7a4c-6061-4adb-cb0e-b20c91d75da0"
      },
      "source": [
        "#\n",
        "knn = KNeighborsClassifier(n_neighbors=3)\n",
        "knn.get_params()"
      ],
      "execution_count": 81,
      "outputs": [
        {
          "output_type": "execute_result",
          "data": {
            "text/plain": [
              "{'algorithm': 'auto',\n",
              " 'leaf_size': 30,\n",
              " 'metric': 'minkowski',\n",
              " 'metric_params': None,\n",
              " 'n_jobs': None,\n",
              " 'n_neighbors': 3,\n",
              " 'p': 2,\n",
              " 'weights': 'uniform'}"
            ]
          },
          "metadata": {
            "tags": []
          },
          "execution_count": 81
        }
      ]
    },
    {
      "cell_type": "markdown",
      "metadata": {
        "id": "opzxLNSCR0nI"
      },
      "source": [
        "#### Next, `fit` the training set data"
      ]
    },
    {
      "cell_type": "code",
      "metadata": {
        "id": "T4m4O_0YR0nJ",
        "colab": {
          "base_uri": "https://localhost:8080/"
        },
        "outputId": "fbb1be5a-0603-4a09-8c13-6acc06ac54dd"
      },
      "source": [
        "\n",
        "knn.fit(iris_train_features, iris_train_labels)\n",
        "knn"
      ],
      "execution_count": 82,
      "outputs": [
        {
          "output_type": "execute_result",
          "data": {
            "text/plain": [
              "KNeighborsClassifier(algorithm='auto', leaf_size=30, metric='minkowski',\n",
              "                     metric_params=None, n_jobs=None, n_neighbors=3, p=2,\n",
              "                     weights='uniform')"
            ]
          },
          "metadata": {
            "tags": []
          },
          "execution_count": 82
        }
      ]
    },
    {
      "cell_type": "markdown",
      "metadata": {
        "id": "AA6jZgZMR0nJ"
      },
      "source": [
        "<h2 style=\"color:red\">Accuracy</h2>\n",
        "\n",
        "I am defining accuracy as:\n",
        "\n",
        "### $$accuracy= \\frac{totalNumberCorrectlyClassified}{totalNumberOfCasesInOurTestSet} $$\n",
        "\n",
        "So if we have 40 items in our test set and we classified 30 correctly we have an accuracy of 0.75 or 75%\n",
        "\n",
        "<span style=\"color:red\">I would like you to calculate the accuracy</span>.  \n",
        "\n",
        "`sklearn` has a method that does this. To see how to use it google `sklearn accuracy`\n",
        "\n"
      ]
    },
    {
      "cell_type": "code",
      "metadata": {
        "id": "WQPf_7hIR0nJ",
        "colab": {
          "base_uri": "https://localhost:8080/"
        },
        "outputId": "998bebbf-d602-4cd5-bbd3-46ca91b8a086"
      },
      "source": [
        "# your code here\n",
        "from sklearn.metrics import accuracy_score\n",
        "from sklearn.metrics import confusion_matrix\n",
        "prediction = knn.predict(iris_test_features)\n",
        "accuracy_score(iris_test_labels, prediction)"
      ],
      "execution_count": 84,
      "outputs": [
        {
          "output_type": "execute_result",
          "data": {
            "text/plain": [
              "1.0"
            ]
          },
          "metadata": {
            "tags": []
          },
          "execution_count": 84
        }
      ]
    },
    {
      "cell_type": "markdown",
      "metadata": {
        "collapsed": true,
        "id": "7VJVit5AR0nK"
      },
      "source": [
        "<h2 style=\"color:red\">A few questions</h2>\n",
        "\n",
        "        \n",
        "1. Instead of using all 4 features, do you get as good an accuracy with just using sepal length and width?\n",
        "2. What about using just petal length and width?\n",
        "3. Do you get as good a performance when using Manhattan distance?\n",
        "\n",
        "Please show your work"
      ]
    },
    {
      "cell_type": "code",
      "metadata": {
        "id": "Inq9OCdYR0nK",
        "colab": {
          "base_uri": "https://localhost:8080/"
        },
        "outputId": "975cd93f-46df-430f-ca36-c5e987d2da11"
      },
      "source": [
        "from sklearn.metrics import accuracy_score\n",
        "def fitKnn(arr, features, label, dist):\n",
        "  knn = KNeighborsClassifier(n_neighbors=3, p=dist)\n",
        "  nColumns = list(arr.columns)\n",
        "  nColumns.remove(label)\n",
        "  train, test = train_test_split(arr, test_size=.2)\n",
        "  trainF = train[nColumns]\n",
        "  trainL = train[label]\n",
        "  testF = test[nColumns]\n",
        "  testL = test[label]\n",
        "  knn.fit(trainF, trainL)\n",
        "  pred = knn.predict(testF)\n",
        "  return accuracy_score(testL, pred)\n",
        "print(\"Sepal Features Accuracy(ED): \" + str(fitKnn(iris, ['Sepal Length', 'Sepal Width'], 'Class', 2)))\n",
        "print(\"Petal Features Accuracy(ED): \" + str(fitKnn(iris, ['Petal Length', 'Petal Width'], 'Class', 2)))\n",
        "print(\"Sepal Features Accuracy(MD): \" + str(fitKnn(iris, ['Sepal Length', 'Sepal Width'], 'Class', 1)))\n",
        "print(\"Petal Features Accuracy(MD): \" + str(fitKnn(iris, ['Petal Length', 'Petal Width'], 'Class', 1)))"
      ],
      "execution_count": 104,
      "outputs": [
        {
          "output_type": "stream",
          "text": [
            "Sepal Features Accuracy(ED): 0.8333333333333334\n",
            "Petal Features Accuracy(ED): 0.8333333333333334\n",
            "Sepal Features Accuracy(MD): 0.8333333333333334\n",
            "Petal Features Accuracy(MD): 1.0\n"
          ],
          "name": "stdout"
        }
      ]
    },
    {
      "cell_type": "code",
      "metadata": {
        "id": "ALzVSWO-fwiy"
      },
      "source": [
        ""
      ],
      "execution_count": null,
      "outputs": []
    }
  ]
}